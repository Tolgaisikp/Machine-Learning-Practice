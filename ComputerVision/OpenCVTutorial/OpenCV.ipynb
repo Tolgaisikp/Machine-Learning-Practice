{
 "cells": [
  {
   "cell_type": "markdown",
   "metadata": {},
   "source": [
    "# 1 - Introduction & Images"
   ]
  },
  {
   "cell_type": "code",
   "execution_count": 3,
   "metadata": {},
   "outputs": [
    {
     "name": "stdout",
     "output_type": "stream",
     "text": [
      "(768, 512, 3)\n",
      "(768, 512)\n"
     ]
    }
   ],
   "source": [
    "import cv2\n",
    "\n",
    "#Loading an Image\n",
    "img = cv2.imread('assets/besiktas.png')\n",
    "gray_img = cv2.imread('assets/besiktas.png', 0)\n",
    "print(img.shape)\n",
    "print(gray_img.shape)"
   ]
  },
  {
   "cell_type": "code",
   "execution_count": 4,
   "metadata": {},
   "outputs": [],
   "source": [
    "#Displaying an Image\n",
    "cv2.imshow(\"Image\", img)\n",
    "cv2.imshow(\"Gray Image\", gray_img)\n",
    "cv2.waitKey(0)\n",
    "cv2.destroyAllWindows()"
   ]
  },
  {
   "cell_type": "code",
   "execution_count": 5,
   "metadata": {},
   "outputs": [],
   "source": [
    "#Resizing and Rotating an Image"
   ]
  },
  {
   "cell_type": "code",
   "execution_count": 15,
   "metadata": {},
   "outputs": [
    {
     "data": {
      "text/plain": [
       "True"
      ]
     },
     "execution_count": 15,
     "metadata": {},
     "output_type": "execute_result"
    }
   ],
   "source": [
    "img = cv2.resize(img, (150, 200))\n",
    "img_re = cv2.resize(img, (0, 0), fx = 0.5, fy = 0.5)#resmi yarı yarıya indirir 2 ve 2 yaparsak 2 katına çıkar\n",
    "img_ro = cv2.rotate(img, cv2.cv2.ROTATE_180)\n",
    "\n",
    "cv2.imshow(\"Image\", img)\n",
    "cv2.imshow(\"Resize Image\", img_re)\n",
    "cv2.imshow(\"Rotate Image\", img_ro)\n",
    "cv2.waitKey(0)\n",
    "cv2.destroyAllWindows()\n",
    "\n",
    "cv2.imwrite('new_img.jpg', img_ro)"
   ]
  },
  {
   "cell_type": "markdown",
   "metadata": {},
   "source": [
    "# 2 - Image Fundamentals and Manipulation"
   ]
  },
  {
   "cell_type": "code",
   "execution_count": 47,
   "metadata": {},
   "outputs": [],
   "source": [
    "import cv2\n",
    "import random\n",
    "img = cv2.imread('assets/besiktas.png')"
   ]
  },
  {
   "cell_type": "code",
   "execution_count": 19,
   "metadata": {
    "collapsed": true,
    "jupyter": {
     "outputs_hidden": true
    }
   },
   "outputs": [
    {
     "name": "stdout",
     "output_type": "stream",
     "text": [
      "[[[0 0 0]\n",
      "  [0 0 0]\n",
      "  [0 0 0]\n",
      "  ...\n",
      "  [0 0 0]\n",
      "  [0 0 0]\n",
      "  [0 0 0]]\n",
      "\n",
      " [[0 0 0]\n",
      "  [0 0 0]\n",
      "  [0 0 0]\n",
      "  ...\n",
      "  [0 0 0]\n",
      "  [0 0 0]\n",
      "  [0 0 0]]\n",
      "\n",
      " [[0 0 0]\n",
      "  [0 0 0]\n",
      "  [0 0 0]\n",
      "  ...\n",
      "  [0 0 0]\n",
      "  [0 0 0]\n",
      "  [0 0 0]]\n",
      "\n",
      " ...\n",
      "\n",
      " [[0 0 0]\n",
      "  [0 0 0]\n",
      "  [0 0 0]\n",
      "  ...\n",
      "  [0 0 0]\n",
      "  [0 0 0]\n",
      "  [0 0 0]]\n",
      "\n",
      " [[0 0 0]\n",
      "  [0 0 0]\n",
      "  [0 0 0]\n",
      "  ...\n",
      "  [0 0 0]\n",
      "  [0 0 0]\n",
      "  [0 0 0]]\n",
      "\n",
      " [[0 0 0]\n",
      "  [0 0 0]\n",
      "  [0 0 0]\n",
      "  ...\n",
      "  [0 0 0]\n",
      "  [0 0 0]\n",
      "  [0 0 0]]]\n",
      "<class 'numpy.ndarray'>\n",
      "(768, 512, 3)\n"
     ]
    }
   ],
   "source": [
    "#Image Representation\n",
    "print(img)#görünüşü\n",
    "print(type(img))#tipi\n",
    "print(img.shape)#boyutu"
   ]
  },
  {
   "cell_type": "code",
   "execution_count": 29,
   "metadata": {},
   "outputs": [
    {
     "name": "stdout",
     "output_type": "stream",
     "text": [
      "[  5   5 224]\n"
     ]
    }
   ],
   "source": [
    "#Accessing Pixel Values\n",
    "print(img[500][256])#0 satır 0 sütundaki rgb değerleri BGR"
   ]
  },
  {
   "cell_type": "code",
   "execution_count": 37,
   "metadata": {},
   "outputs": [],
   "source": [
    "#Changing Pixel Colors\n",
    "for i in range(img.shape[0]):\n",
    "    for j in range(100):\n",
    "        img[i][j] = [random.randint(0, 255), random.randint(0, 255), random.randint(0, 255)]\n",
    "        \n",
    "cv2.imshow(\"Image\", img)\n",
    "cv2.waitKey(0)\n",
    "cv2.destroyAllWindows()"
   ]
  },
  {
   "cell_type": "code",
   "execution_count": 48,
   "metadata": {},
   "outputs": [],
   "source": [
    "#Copying & Pasting Parts of Image\n",
    "flag = img[384:576, 171:341]\n",
    "\n",
    "img[100:292, 100:270] = flag\n",
    "cv2.imshow(\"Image\", img)\n",
    "cv2.waitKey(0)\n",
    "cv2.destroyAllWindows()"
   ]
  },
  {
   "cell_type": "markdown",
   "metadata": {},
   "source": [
    "# 3 - Cameras and VideoCapture"
   ]
  },
  {
   "cell_type": "code",
   "execution_count": 4,
   "metadata": {},
   "outputs": [],
   "source": [
    "import cv2\n",
    "import numpy as np"
   ]
  },
  {
   "cell_type": "code",
   "execution_count": 5,
   "metadata": {},
   "outputs": [],
   "source": [
    "#Displaying video capture device\n",
    "cap = cv2.VideoCapture(0)\n",
    "\n",
    "while True:\n",
    "    ret, frame = cap.read()#ret cihaz kullanılıyorsa hata döndürür frame ise her saniyedeki numpy görüntüsü\n",
    "    \n",
    "    cv2.imshow('frame', frame)\n",
    "    if cv2.waitKey(1) & 0xFF == ord('q'):\n",
    "        break\n",
    "\n",
    "# When everything done, release the capture\n",
    "cap.release()\n",
    "cv2.destroyAllWindows()"
   ]
  },
  {
   "cell_type": "code",
   "execution_count": 13,
   "metadata": {},
   "outputs": [],
   "source": [
    "#Mirroring video multiple times\n",
    "cap = cv2.VideoCapture(0)\n",
    "\n",
    "while True:\n",
    "    ret, frame = cap.read()#ret cihaz kullanılıyorsa hata döndürür frame ise her saniyedeki numpy görüntüsü\n",
    "    width = int(cap.get(3))\n",
    "    height = int(cap.get(4))    \n",
    "    \n",
    "    img = np.zeros(frame.shape, np.uint8)\n",
    "    smaller_frame = cv2.resize(frame, (0,0), fx = 0.5, fy = 0.5)\n",
    "    \n",
    "    img[:height//2, :width//2] = smaller_frame\n",
    "    img[:height//2, width//2:] = cv2.flip(smaller_frame, 1)\n",
    "    img[height//2:, :width//2] = cv2.flip(smaller_frame, 0)\n",
    "    img[height//2:, width//2:] = cv2.flip(cv2.flip(smaller_frame, 0), 1)\n",
    "    \n",
    "    cv2.imshow('frame', img)\n",
    "    if cv2.waitKey(1) & 0xFF == ord('q'):\n",
    "        break\n",
    "\n",
    "# When everything done, release the capture\n",
    "cap.release()\n",
    "cv2.destroyAllWindows()"
   ]
  },
  {
   "cell_type": "markdown",
   "metadata": {},
   "source": [
    "# 4 - Drawing (Lines, Images, Circles & Text)\n"
   ]
  },
  {
   "cell_type": "code",
   "execution_count": 2,
   "metadata": {},
   "outputs": [],
   "source": [
    "import cv2\n",
    "import numpy as np"
   ]
  },
  {
   "cell_type": "code",
   "execution_count": 38,
   "metadata": {},
   "outputs": [],
   "source": [
    "#Drawing Lines\n",
    "cap = cv2.VideoCapture(0)\n",
    "\n",
    "while True:\n",
    "    ret, frame = cap.read()#ret cihaz kullanılıyorsa hata döndürür frame ise her saniyedeki numpy görüntüsü\n",
    "    width = int(cap.get(3))\n",
    "    height = int(cap.get(4))    \n",
    "    \n",
    "    #Drawing Lines\n",
    "    img = cv2.line(frame, (0,0), (width, height), (0, 0, 255), 10)#(x,y) x sağa y sola ilk tuple ilk köşe ikinci tuple ikinci köşe, renk, kalınlık\n",
    "    img = cv2.line(frame, (0,height), (width, 0), (0, 0, 255), 10)\n",
    "    \n",
    "    #Drawing Rectangles\n",
    "    img = cv2.rectangle(frame, (0,0), (width, height), (0, 0, 255), 10)\n",
    "    img = cv2.circle(frame, (width//2, height//2), 60, (255, 0, 255), -1)#-1 ise içi dolu olur\n",
    "    \n",
    "    #Drawing Text\n",
    "    font = cv2.FONT_HERSHEY_SIMPLEX\n",
    "    img = cv2.putText(img, 'Tolga', (10, height-20), font, 1, (0,0,0), 5, cv2.LINE_AA)# text , centerposition, font, fontscale, color, linethickness, line type\n",
    "    \n",
    "    cv2.imshow('frame', img)\n",
    "    if cv2.waitKey(1) & 0xFF == ord('q'):\n",
    "        break\n",
    "\n",
    "# When everything done, release the capture\n",
    "cap.release()\n",
    "cv2.destroyAllWindows()"
   ]
  },
  {
   "cell_type": "markdown",
   "metadata": {},
   "source": [
    "# 5 - Colors and Color Detection"
   ]
  },
  {
   "cell_type": "code",
   "execution_count": 36,
   "metadata": {},
   "outputs": [],
   "source": [
    "import cv2\n",
    "import numpy as np"
   ]
  },
  {
   "cell_type": "code",
   "execution_count": 45,
   "metadata": {},
   "outputs": [],
   "source": [
    "cap = cv2.VideoCapture(0)\n",
    "\n",
    "while True:\n",
    "    ret, frame = cap.read()#ret cihaz kullanılıyorsa hata döndürür frame ise her saniyedeki numpy görüntüsü\n",
    "    width = int(cap.get(3))\n",
    "    height = int(cap.get(4))    \n",
    "    \n",
    "    #HSV Color\n",
    "    hsv = cv2.cvtColor(frame, cv2.COLOR_BGR2HSV)\n",
    "    lower_blue = np.array([90, 50, 50])\n",
    "    upper_blue = np.array([130, 255, 255])\n",
    "    \n",
    "    #Masks\n",
    "    mask = cv2.inRange(hsv, lower_blue, upper_blue)\n",
    "    \n",
    "    result = cv2.bitwise_and(frame, frame, mask = mask)\n",
    "    \n",
    "    cv2.imshow('result', result)#verilen hsv değerleri arasındakine görüntüyü gösterir\n",
    "    cv2.imshow('frame', mask)#verilen hsv değerleri arasındakine görüntüyü 2li olarak gösterir\n",
    "    if cv2.waitKey(1) & 0xFF == ord('q'):\n",
    "        break\n",
    "\n",
    "# When everything done, release the capture\n",
    "cap.release()\n",
    "cv2.destroyAllWindows()"
   ]
  },
  {
   "cell_type": "markdown",
   "metadata": {},
   "source": [
    "# 6 - Corner Detection"
   ]
  },
  {
   "cell_type": "code",
   "execution_count": 36,
   "metadata": {},
   "outputs": [],
   "source": [
    "import cv2\n",
    "import numpy as np"
   ]
  },
  {
   "cell_type": "code",
   "execution_count": 72,
   "metadata": {},
   "outputs": [],
   "source": [
    "#Corner detection\n",
    "img = cv2.imread('assets/chessboard.png')\n",
    "img = cv2.resize(img, (0, 0), fx = 0.5, fy = 0.5)\n",
    "gray = cv2.cvtColor(img, cv2.COLOR_BGR2GRAY)\n",
    "\n",
    "corners = cv2.goodFeaturesToTrack(gray, 100, 0.01, 10)#köşe sayısı ?, minumum quality, köşeler arasındaki min mesafe \n",
    "corners = np.int0(corners)\n",
    "\n",
    "#Drawing corners  \n",
    "for corner in corners:\n",
    "    x, y = corner.ravel()#[[[1,2,3]]] içindekileri alır\n",
    "    img = cv2.circle(img, (x,y), 5, (0, 255, 255), -1)\n",
    "    #img = cv2.rectangle(img, tuple(corner[0]), tuple(corner[0]), (255, 255, 255), 10) benimki\n",
    "\n",
    "\n",
    "#Drawing lines between corners\n",
    "for i in range(len(corners)):\n",
    "    for j in range(i+1, len(corners)):#sonraki köşe için\n",
    "        corner1 = tuple(corners[i][0])\n",
    "        corner2 = tuple(corners[j][0])\n",
    "        color = tuple(map(lambda x: int(x), np.random.randint(0, 255, size = 3)))\n",
    "        img = cv2.line(img, corner1, corner2, color, 1)\n",
    "    \n",
    "cv2.imshow(\"Chess Board\", img)\n",
    "cv2.waitKey(0)\n",
    "cv2.destroyAllWindows()"
   ]
  },
  {
   "cell_type": "markdown",
   "metadata": {},
   "source": [
    "# 7 - Template Matching (Object Detection)"
   ]
  },
  {
   "cell_type": "code",
   "execution_count": 1,
   "metadata": {},
   "outputs": [],
   "source": [
    "import cv2 \n",
    "import numpy as np"
   ]
  },
  {
   "cell_type": "code",
   "execution_count": 21,
   "metadata": {},
   "outputs": [],
   "source": [
    "img = cv2.imread('assets/soccer_practice.jpg', 0)#gray scale\n",
    "img = cv2.resize(img, (0,0), fx = 0.75, fy = 0.75)\n",
    "template = cv2.imread('assets/shoe.png', 0)\n",
    "template = cv2.resize(template, (0,0), fx = 0.75, fy = 0.75)\n",
    "h, w = template.shape\n",
    "\n",
    "#Template Matching\n",
    "methods = [cv2.TM_CCOEFF, cv2.TM_CCOEFF_NORMED, cv2.TM_CCORR, cv2.TM_CCORR_NORMED, cv2.TM_SQDIFF, cv2.TM_SQDIFF_NORMED]\n",
    "\n",
    "for method in methods:\n",
    "    img2 = img.copy()\n",
    "    \n",
    "    #Theory Behind Template Matching\n",
    "    result = cv2.matchTemplate(img2, template, method)\n",
    "    min_val, max_val, min_loc, max_loc = cv2.minMaxLoc(result)\n",
    "    if method in [cv2.TM_SQDIFF, cv2.TM_SQDIFF_NORMED]:\n",
    "        location = min_loc\n",
    "    else:\n",
    "        location = max_loc\n",
    "    \n",
    "    #Displaying Matches\n",
    "    bottom_right = (location[0] + w, location[1] + h)\n",
    "    cv2.rectangle(img2, location, bottom_right, 255, 5)\n",
    "\n",
    "    cv2.imshow(\"Match\", img2)\n",
    "    cv2.waitKey(0)\n",
    "    cv2.destroyAllWindows()"
   ]
  },
  {
   "cell_type": "markdown",
   "metadata": {},
   "source": [
    "# 8 - Face and Eye Detection"
   ]
  },
  {
   "cell_type": "code",
   "execution_count": 3,
   "metadata": {},
   "outputs": [],
   "source": [
    "import cv2\n",
    "import numpy as np"
   ]
  },
  {
   "cell_type": "code",
   "execution_count": 18,
   "metadata": {},
   "outputs": [],
   "source": [
    "cap = cv2.VideoCapture(0)\n",
    "face_cascade = cv2.CascadeClassifier('haarcascade-frontalface-default.xml')\n",
    "eye_cascade = cv2.CascadeClassifier('haarcascade-eye.xml')\n",
    "\n",
    "\n",
    "while True:\n",
    "    ret, frame = cap.read()\n",
    "    gray = cv2.cvtColor(frame, cv2.COLOR_BGR2GRAY)\n",
    "    faces = face_cascade.detectMultiScale(gray, 1.3, 5)\n",
    "    for x,y,w,h in faces:\n",
    "        cv2.rectangle(frame, (x,y), (x+w, y+h), (255,255,255), 5)\n",
    "        roi_gray = gray[y:y+h, x:x+w]\n",
    "        roi_frame = frame[y:y+h, x:x+w]\n",
    "        \n",
    "        eyes = eye_cascade.detectMultiScale(roi_gray, 1.3, 5)\n",
    "        for ex,ey,ew,eh in eyes:\n",
    "            cv2.rectangle(roi_frame, (ex,ey), (ex+ew, ey+eh), (0,0,0), 5)\n",
    "            \n",
    "        \n",
    "    cv2.imshow(\"Video\", frame)\n",
    "    if cv2.waitKey(1) == ord('q'):\n",
    "        break\n",
    "        \n",
    "cap.release()\n",
    "cv2.destroyAllWindows()"
   ]
  },
  {
   "cell_type": "code",
   "execution_count": null,
   "metadata": {},
   "outputs": [],
   "source": []
  }
 ],
 "metadata": {
  "kernelspec": {
   "display_name": "Python 3",
   "language": "python",
   "name": "python3"
  },
  "language_info": {
   "codemirror_mode": {
    "name": "ipython",
    "version": 3
   },
   "file_extension": ".py",
   "mimetype": "text/x-python",
   "name": "python",
   "nbconvert_exporter": "python",
   "pygments_lexer": "ipython3",
   "version": "3.7.6"
  }
 },
 "nbformat": 4,
 "nbformat_minor": 4
}
