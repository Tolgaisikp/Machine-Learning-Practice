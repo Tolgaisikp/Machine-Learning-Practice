{
 "cells": [
  {
   "cell_type": "markdown",
   "id": "229855bd",
   "metadata": {},
   "source": [
    "# 1. Import Dependecies"
   ]
  },
  {
   "cell_type": "code",
   "execution_count": 64,
   "id": "4e10bf57",
   "metadata": {},
   "outputs": [],
   "source": [
    "import cv2\n",
    "import pickle\n",
    "import cvzone\n",
    "import numpy as np"
   ]
  },
  {
   "cell_type": "markdown",
   "id": "81ab268d",
   "metadata": {},
   "source": [
    "# 2. Parking Space Picking and Export Position List"
   ]
  },
  {
   "cell_type": "code",
   "execution_count": 65,
   "id": "e37f599d",
   "metadata": {},
   "outputs": [],
   "source": [
    "WIDTH, HEIGHT = 107, 48\n",
    "posList = []"
   ]
  },
  {
   "cell_type": "code",
   "execution_count": 66,
   "id": "40e4cbde",
   "metadata": {},
   "outputs": [],
   "source": [
    "def mouseClick(events, x, y, flags, params):\n",
    "    if events == cv2.EVENT_LBUTTONDOWN:\n",
    "        posList.append((x,y))\n",
    "    if events ==cv2.EVENT_RBUTTONDOWN:\n",
    "        for idx, pos in enumerate(posList):\n",
    "            x1, y1 = pos\n",
    "            if x1 < x < x+WIDTH and y1 < y < y+HEIGHT:\n",
    "                posList.pop(idx)\n",
    "    "
   ]
  },
  {
   "cell_type": "code",
   "execution_count": null,
   "id": "178c2839",
   "metadata": {},
   "outputs": [],
   "source": [
    "while True:\n",
    "    img = cv2.imread('carParkImg.png')#dışarıda olursa statik olur ve resimden dikdörtgenler silinmez\n",
    "    \n",
    "    #column 1\n",
    "    #cv2.rectangle(img, (50,90),(160,670), (0,0,255), 2)\n",
    "    #cv2.rectangle(img, (165,90),(270,670), (0,0,255), 2)\n",
    "\n",
    "    for pos in posList:\n",
    "        cv2.rectangle(img, pos,(pos[0]+WIDTH, pos[1]+HEIGHT), (0,0,255), 2)\n",
    "\n",
    "    cv2.imshow(\"Image\", img)\n",
    "    cv2.setMouseCallback(\"Image\", mouseClick)\n",
    "    cv2.waitKey(1)\n"
   ]
  },
  {
   "cell_type": "code",
   "execution_count": 68,
   "id": "d98a214f",
   "metadata": {},
   "outputs": [],
   "source": [
    "cv2.destroyAllWindows()"
   ]
  },
  {
   "cell_type": "code",
   "execution_count": 69,
   "id": "d7689b72",
   "metadata": {},
   "outputs": [
    {
     "data": {
      "text/plain": [
       "'img = cv2.imread(\\'carParkImg.png\\')\\n\\nwhile True:\\n    #column 1\\n    #cv2.rectangle(img, (50,90),(160,670), (0,0,255), 2)\\n    #cv2.rectangle(img, (165,90),(270,670), (0,0,255), 2)\\n\\n    #column 2\\n    #cv2.rectangle(img, (50,90),(160,670), (0,0,255), 2)\\n    #cv2.rectangle(img, (165,90),(270,670), (0,0,255), 2)\\n\\n    for pos in posList:\\n        cv2.rectangle(img, pos,(pos[0]+WIDTH, pos[1]+HEIGHT), (0,0,255), 2)\\n\\n    cv2.imshow(\"Image\", img)\\n    cv2.setMouseCallback(\"Image\", mouseClick)\\n    if cv2.waitKey(0) & 0xFF == ord(\\'q\\'):\\n        break\\n\\ncv2.destroyAllWindows()'"
      ]
     },
     "execution_count": 69,
     "metadata": {},
     "output_type": "execute_result"
    }
   ],
   "source": [
    "'''img = cv2.imread('carParkImg.png')\n",
    "\n",
    "while True:\n",
    "    #column 1\n",
    "    #cv2.rectangle(img, (50,90),(160,670), (0,0,255), 2)\n",
    "    #cv2.rectangle(img, (165,90),(270,670), (0,0,255), 2)\n",
    "\n",
    "    #column 2\n",
    "    #cv2.rectangle(img, (50,90),(160,670), (0,0,255), 2)\n",
    "    #cv2.rectangle(img, (165,90),(270,670), (0,0,255), 2)\n",
    "\n",
    "    for pos in posList:\n",
    "        cv2.rectangle(img, pos,(pos[0]+WIDTH, pos[1]+HEIGHT), (0,0,255), 2)\n",
    "\n",
    "    cv2.imshow(\"Image\", img)\n",
    "    cv2.setMouseCallback(\"Image\", mouseClick)\n",
    "    if cv2.waitKey(0) & 0xFF == ord('q'):\n",
    "        break\n",
    "\n",
    "cv2.destroyAllWindows()'''"
   ]
  },
  {
   "cell_type": "code",
   "execution_count": 118,
   "id": "4f550925",
   "metadata": {},
   "outputs": [],
   "source": [
    "with open('CarParkPos', 'wb') as f:\n",
    "    pickle.dump(posList, f)"
   ]
  },
  {
   "cell_type": "markdown",
   "id": "e2e9b4c2",
   "metadata": {},
   "source": [
    "# 3. Load Position List and Load Video"
   ]
  },
  {
   "cell_type": "code",
   "execution_count": 70,
   "id": "1e876797",
   "metadata": {},
   "outputs": [],
   "source": [
    "posList = []\n",
    "\n",
    "with open('CarParkPos', 'rb') as f:\n",
    "    posList = pickle.load(f)"
   ]
  },
  {
   "cell_type": "code",
   "execution_count": 71,
   "id": "51000290",
   "metadata": {},
   "outputs": [],
   "source": [
    "while True:\n",
    "    img = cv2.imread('carParkImg.png')\n",
    "    \n",
    "    for pos in posList:\n",
    "        cv2.rectangle(img, pos,(pos[0]+WIDTH, pos[1]+HEIGHT), (0,0,255), 2)\n",
    "\n",
    "    cv2.imshow(\"Image\", img)\n",
    "    if cv2.waitKey(0) & 0xFF == ord('q'):\n",
    "        break\n",
    "\n",
    "cv2.destroyAllWindows()"
   ]
  },
  {
   "cell_type": "code",
   "execution_count": 72,
   "id": "b0ef6a14",
   "metadata": {},
   "outputs": [],
   "source": [
    "#video feed\n",
    "cap = cv2.VideoCapture('carPark.mp4')\n",
    "\n",
    "while cap.isOpened():\n",
    "    if cap.get(cv2.CAP_PROP_POS_FRAMES) == cap.get(cv2.CAP_PROP_FRAME_COUNT): #(current frame == total frame)\n",
    "        cap.set(cv2.CAP_PROP_POS_FRAMES, 0) #current frame set 0\n",
    "\n",
    "    success, img = cap.read()\n",
    "\n",
    "    for pos in posList:\n",
    "        cv2.rectangle(img, pos,(pos[0]+WIDTH, pos[1]+HEIGHT), (0,0,255), 2)\n",
    "        \n",
    "    cv2.imshow('Video', img)\n",
    "\n",
    "    if cv2.waitKey(10) & 0xFF == ord('q'):\n",
    "        break\n",
    "\n",
    "cv2.destroyAllWindows()"
   ]
  },
  {
   "cell_type": "markdown",
   "id": "e45ab6b3",
   "metadata": {},
   "source": [
    "# 4. Check Parking Space "
   ]
  },
  {
   "cell_type": "code",
   "execution_count": 73,
   "id": "631c44a5",
   "metadata": {},
   "outputs": [],
   "source": [
    "def checkParkingSpace(imgProcess):\n",
    "\n",
    "    spaceCounter = 0\n",
    "\n",
    "    for pos in posList:\n",
    "        x,y = pos\n",
    "        imgCrop = imgProcess[y:y+HEIGHT, x:x+WIDTH]\n",
    "        #cv2.imshow(str(x*y), imgCrop)  \n",
    "        count = cv2.countNonZero(imgCrop)\n",
    "\n",
    "        if count < 900:\n",
    "            color = (0,255,0)\n",
    "            spaceCounter += 1\n",
    "        else:\n",
    "            color = (0,0,255)\n",
    "\n",
    "        cvzone.putTextRect(img, str(count), (x,y+HEIGHT - 10), 1, 1, offset=0, colorR=color )\n",
    "        cv2.rectangle(img, pos,(pos[0]+WIDTH, pos[1]+HEIGHT), color, 2)\n",
    "\n",
    "    cvzone.putTextRect(img, f'{spaceCounter}/{len(posList)}', (30, 70), 5, 3, offset=20, colorR=(0,0,0))"
   ]
  },
  {
   "cell_type": "code",
   "execution_count": 74,
   "id": "a9a1b475",
   "metadata": {},
   "outputs": [],
   "source": [
    "threshold = 0\n",
    "\n",
    "def updateThreshold(t):\n",
    "    threshold = t"
   ]
  },
  {
   "cell_type": "code",
   "execution_count": 75,
   "id": "e2cc8d49",
   "metadata": {},
   "outputs": [],
   "source": [
    "cap = cv2.VideoCapture('carPark.mp4')\n",
    "\n",
    "#create Trackbar\n",
    "cv2.namedWindow(\"TrackBars\")\n",
    "cv2.resizeWindow(\"TrackBars\", 500, 45)\n",
    "cv2.createTrackbar(\"Threshold\", \"TrackBars\", 0, 50, updateThreshold)\n",
    "\n",
    "while cap.isOpened():\n",
    "    if cap.get(cv2.CAP_PROP_POS_FRAMES) == cap.get(cv2.CAP_PROP_FRAME_COUNT): #(current frame == total frame)\n",
    "        cap.set(cv2.CAP_PROP_POS_FRAMES, 0) #current frame set 0\n",
    "\n",
    "    success, img = cap.read()\n",
    "    \n",
    "    #get trackbar threshold\n",
    "    threshold = cv2.getTrackbarPos(\"Threshold\", \"TrackBars\") # trackbar check best params\n",
    "\n",
    "    #img process\n",
    "    cropImg = img.copy() #kesilmiş resimlerde çizgiler gözükmesin diye \n",
    "    imgGray = cv2.cvtColor(cropImg, cv2.COLOR_BGR2GRAY)\n",
    "    imgBlur = cv2.GaussianBlur(imgGray, (3,3), 1)\n",
    "    imgThreshold = cv2.adaptiveThreshold(imgBlur, 255, cv2.ADAPTIVE_THRESH_GAUSSIAN_C, cv2.THRESH_BINARY_INV, 25, threshold)\n",
    "    imgMedian = cv2.medianBlur(imgThreshold, 5)\n",
    "    kernel = np.ones((3,3), np.uint8)\n",
    "    imgDilate = cv2.dilate(imgMedian, kernel, iterations=1)\n",
    "\n",
    "    #check parking space\n",
    "    checkParkingSpace(imgDilate)\n",
    "\n",
    "    cv2.imshow('Video', img)\n",
    "    #cv2.imshow('Dilate Video', imgDilate)\n",
    "\n",
    "    if cv2.waitKey(10) & 0xFF == ord('q'):\n",
    "        break\n",
    "\n",
    "cv2.destroyAllWindows()"
   ]
  },
  {
   "cell_type": "code",
   "execution_count": 76,
   "id": "b859258b",
   "metadata": {},
   "outputs": [],
   "source": [
    "def imagePreprocess(img):\n",
    "    cropImg = img.copy()\n",
    "    imgGray = cv2.cvtColor(cropImg, cv2.COLOR_BGR2GRAY)\n",
    "    imgBlur = cv2.GaussianBlur(imgGray, (3,3), 1)\n",
    "    imgThreshold = cv2.adaptiveThreshold(imgBlur, 255, cv2.ADAPTIVE_THRESH_GAUSSIAN_C, cv2.THRESH_BINARY_INV, 25, 16) #best params\n",
    "    imgMedian = cv2.medianBlur(imgThreshold, 5)\n",
    "    kernel = np.ones((3,3), np.uint8)\n",
    "    imgDilate = cv2.dilate(imgMedian, kernel, iterations=1)\n",
    "    return imgDilate"
   ]
  },
  {
   "cell_type": "markdown",
   "id": "99ef67db",
   "metadata": {},
   "source": [
    "# 5. Test Real Time Video"
   ]
  },
  {
   "cell_type": "code",
   "execution_count": 77,
   "id": "d3da0c2b",
   "metadata": {},
   "outputs": [],
   "source": [
    "cap = cv2.VideoCapture('carPark.mp4')\n",
    "\n",
    "while cap.isOpened():\n",
    "    if cap.get(cv2.CAP_PROP_POS_FRAMES) == cap.get(cv2.CAP_PROP_FRAME_COUNT): #(current frame == total frame)\n",
    "        cap.set(cv2.CAP_PROP_POS_FRAMES, 0) #current frame set 0\n",
    "\n",
    "    success, img = cap.read()\n",
    "\n",
    "    #img process\n",
    "    imgDilate = imagePreprocess(img)\n",
    "    \n",
    "    #check parking space\n",
    "    checkParkingSpace(imgDilate)\n",
    "\n",
    "    cv2.imshow('Video', img)\n",
    "    #cv2.imshow('Dilate Video', imgDilate)\n",
    "\n",
    "    if cv2.waitKey(10) & 0xFF == ord('q'):\n",
    "        break\n",
    "\n",
    "cv2.destroyAllWindows()"
   ]
  },
  {
   "cell_type": "code",
   "execution_count": null,
   "id": "f4a09d0c",
   "metadata": {},
   "outputs": [],
   "source": []
  }
 ],
 "metadata": {
  "interpreter": {
   "hash": "0f9e183daecde9a6c37b4f5dd334b1ab883caff9aba3b446ee222f38555dcc6b"
  },
  "kernelspec": {
   "display_name": "venv",
   "language": "python",
   "name": "python3"
  },
  "language_info": {
   "codemirror_mode": {
    "name": "ipython",
    "version": 3
   },
   "file_extension": ".py",
   "mimetype": "text/x-python",
   "name": "python",
   "nbconvert_exporter": "python",
   "pygments_lexer": "ipython3",
   "version": "3.8.10"
  }
 },
 "nbformat": 4,
 "nbformat_minor": 5
}
