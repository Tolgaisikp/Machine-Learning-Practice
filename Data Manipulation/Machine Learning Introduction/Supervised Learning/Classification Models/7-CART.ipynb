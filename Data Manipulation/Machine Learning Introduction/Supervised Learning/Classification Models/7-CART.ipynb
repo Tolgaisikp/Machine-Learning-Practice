{
 "cells": [
  {
   "cell_type": "code",
   "execution_count": 9,
   "metadata": {},
   "outputs": [],
   "source": [
    "import numpy as np\n",
    "import pandas as pd\n",
    "import statsmodels.api as sm\n",
    "import statsmodels.formula.api as smf\n",
    "import seaborn as sns\n",
    "from sklearn.preprocessing import scale, StandardScaler\n",
    "from sklearn.model_selection import train_test_split, GridSearchCV, cross_val_score\n",
    "from sklearn.metrics import confusion_matrix, accuracy_score, classification_report\n",
    "from sklearn.metrics import roc_auc_score,roc_curve\n",
    "import statsmodels.formula.api as smf\n",
    "import matplotlib.pyplot as plt\n",
    "from sklearn.neighbors import KNeighborsClassifier\n",
    "from sklearn.discriminant_analysis import LinearDiscriminantAnalysis\n",
    "from sklearn.linear_model import LogisticRegression\n",
    "from sklearn.svm import SVC\n",
    "from sklearn.naive_bayes import GaussianNB\n",
    "from sklearn import tree\n",
    "from sklearn.tree import DecisionTreeClassifier\n",
    "from sklearn.neural_network import MLPClassifier\n",
    "from sklearn.ensemble import RandomForestClassifier\n",
    "from sklearn.ensemble import GradientBoostingClassifier\n",
    "from xgboost import XGBClassifier\n",
    "from lightgbm import LGBMClassifier\n",
    "from catboost import CatBoostClassifier\n",
    "from warnings import filterwarnings\n",
    "from skompiler import skompile\n",
    "filterwarnings('ignore')"
   ]
  },
  {
   "cell_type": "code",
   "execution_count": 2,
   "metadata": {},
   "outputs": [],
   "source": [
    "diabetes = pd.read_csv('diabetes.csv')\n",
    "df = diabetes.copy()\n",
    "df = df.dropna()\n",
    "y = df['Outcome']\n",
    "X = df.drop(['Outcome'],axis = 1)\n",
    "X_train, X_test, y_train, y_test = train_test_split(X,y, test_size = 0.30, random_state = 44)"
   ]
  },
  {
   "cell_type": "code",
   "execution_count": 6,
   "metadata": {},
   "outputs": [],
   "source": [
    "cart = DecisionTreeClassifier()\n",
    "cart_model = cart.fit(X_train, y_train)"
   ]
  },
  {
   "cell_type": "code",
   "execution_count": 10,
   "metadata": {
    "collapsed": true,
    "jupyter": {
     "outputs_hidden": true
    }
   },
   "outputs": [
    {
     "name": "stdout",
     "output_type": "stream",
     "text": [
      "((((0 if x[0] <= 2.5 else (0 if x[6] <= 0.5539999902248383 else 0 if x[1] <=\n",
      "    105.0 else 1) if x[1] <= 122.5 else 1 if x[0] <= 3.5 else 0) if x[5] <=\n",
      "    29.949999809265137 else 1 if x[2] <= 37.0 else ((0 if x[7] <= 22.5 else\n",
      "    1) if x[6] <= 0.12849999964237213 else ((1 if x[2] <= 51.0 else (((0 if\n",
      "    x[1] <= 110.0 else 1) if x[5] <= 32.15000057220459 else 0) if x[2] <= \n",
      "    82.5 else 1 if x[2] <= 85.5 else 0) if x[6] <= 0.273499995470047 else 1\n",
      "    ) if x[6] <= 0.278999999165535 else 0) if x[6] <= 0.5094999969005585 else\n",
      "    (0 if x[1] <= 89.0 else 0 if x[2] <= 61.0 else (0 if x[0] <= 1.0 else 1\n",
      "    ) if x[1] <= 98.5 else 1) if x[2] <= 67.0 else 0) if x[1] <= 124.5 else\n",
      "    ((1 if x[5] <= 32.35000038146973 else (0 if x[5] <= 33.35000038146973 else\n",
      "    1 if x[3] <= 50.0 else 0) if x[0] <= 0.5 else 0) if x[4] <= 157.5 else \n",
      "    1) if x[4] <= 199.0 else 0) if x[7] <= 28.5 else (1 if x[1] <= 22.0 else\n",
      "    (0 if x[0] <= 11.5 else 1 if x[5] <= 31.25 else 0) if x[6] <= \n",
      "    1.180999994277954 else 1) if x[1] <= 94.5 else ((0 if x[0] <= 6.5 else \n",
      "    1) if x[5] <= 9.800000190734863 else 0 if x[7] <= 59.0 else 1 if x[6] <=\n",
      "    0.3685000091791153 else 0) if x[5] <= 26.25 else (((((0 if x[5] <= \n",
      "    28.84999942779541 else 1 if x[5] <= 31.550000190734863 else ((1 if x[5] <=\n",
      "    34.19999885559082 else 1 if x[0] <= 3.0 else 0) if x[6] <= \n",
      "    0.2985000014305115 else 0) if x[1] <= 130.5 else (1 if x[7] <= 44.0 else\n",
      "    0) if x[6] <= 0.2264999970793724 else 1) if x[3] <= 19.5 else 1 if x[4] <=\n",
      "    289.0 else 0) if x[3] <= 26.5 else ((0 if x[1] <= 101.5 else (1 if x[7] <=\n",
      "    31.5 else 0) if x[4] <= 122.5 else 1) if x[2] <= 69.0 else 0 if x[7] <=\n",
      "    48.5 else 1 if x[4] <= 90.0 else 0) if x[2] <= 79.0 else 1 if x[0] <= \n",
      "    11.5 else 0) if x[2] <= 84.5 else (0 if x[5] <= 41.25 else 1) if x[4] <=\n",
      "    124.0 else 0 if x[7] <= 38.5 else 1) if x[5] <= 45.54999923706055 else \n",
      "    1) if x[6] <= 0.5275000035762787 else (((((0 if x[5] <= \n",
      "    32.39999961853027 else 1 if x[7] <= 45.5 else 0) if x[2] <= 76.5 else 1\n",
      "    ) if x[6] <= 0.6939999759197235 else 0) if x[6] <= 0.7294999957084656 else\n",
      "    (0 if x[2] <= 32.0 else 1) if x[3] <= 47.5 else 0 if x[2] <= 90.0 else \n",
      "    1) if x[0] <= 7.5 else 1 if x[6] <= 1.0645000040531158 else 0) if x[6] <=\n",
      "    1.3949999809265137 else 0 if x[6] <= 2.0345000624656677 else 1) if x[1] <=\n",
      "    154.5 else ((1 if x[5] <= 25.550000190734863 else (0 if x[0] <= 8.0 else\n",
      "    1 if x[0] <= 9.5 else 0) if x[5] <= 48.10000038146973 else 1) if x[1] <=\n",
      "    166.5 else ((1 if x[2] <= 32.0 else 0) if x[3] <= 25.5 else 1) if x[7] <=\n",
      "    37.5 else 1) if x[6] <= 0.3425000011920929 else ((((1 if x[7] <= 48.0 else\n",
      "    0 if x[2] <= 69.0 else 1) if x[4] <= 257.0 else 0 if x[2] <= 55.0 else \n",
      "    0 if x[4] <= 279.0 else 1) if x[7] <= 66.5 else 0) if x[2] <= 107.0 else\n",
      "    0) if x[4] <= 520.0 else 1 if x[2] <= 69.0 else 0)\n",
      "\n"
     ]
    }
   ],
   "source": [
    "print(skompile(cart_model.predict).to('python/code'))"
   ]
  },
  {
   "cell_type": "code",
   "execution_count": 13,
   "metadata": {},
   "outputs": [
    {
     "data": {
      "text/plain": [
       "0.7229437229437229"
      ]
     },
     "execution_count": 13,
     "metadata": {},
     "output_type": "execute_result"
    }
   ],
   "source": [
    "y_pred = cart_model.predict(X_test)\n",
    "accuracy_score(y_test, y_pred)"
   ]
  },
  {
   "cell_type": "code",
   "execution_count": 14,
   "metadata": {},
   "outputs": [],
   "source": [
    "cart_params = {\n",
    "    'max_depth':range(1,10),\n",
    "    'min_samples_split':list(range(2,50))\n",
    "}"
   ]
  },
  {
   "cell_type": "code",
   "execution_count": 15,
   "metadata": {},
   "outputs": [
    {
     "name": "stdout",
     "output_type": "stream",
     "text": [
      "Fitting 10 folds for each of 432 candidates, totalling 4320 fits\n"
     ]
    },
    {
     "name": "stderr",
     "output_type": "stream",
     "text": [
      "[Parallel(n_jobs=-1)]: Using backend LokyBackend with 8 concurrent workers.\n",
      "[Parallel(n_jobs=-1)]: Done  25 tasks      | elapsed:    3.9s\n",
      "[Parallel(n_jobs=-1)]: Done 504 tasks      | elapsed:    5.6s\n",
      "[Parallel(n_jobs=-1)]: Done 3064 tasks      | elapsed:   10.1s\n",
      "[Parallel(n_jobs=-1)]: Done 4320 out of 4320 | elapsed:   12.2s finished\n"
     ]
    },
    {
     "data": {
      "text/plain": [
       "GridSearchCV(cv=10, estimator=DecisionTreeClassifier(), n_jobs=-1,\n",
       "             param_grid={'max_depth': range(1, 10),\n",
       "                         'min_samples_split': [2, 3, 4, 5, 6, 7, 8, 9, 10, 11,\n",
       "                                               12, 13, 14, 15, 16, 17, 18, 19,\n",
       "                                               20, 21, 22, 23, 24, 25, 26, 27,\n",
       "                                               28, 29, 30, 31, ...]},\n",
       "             verbose=2)"
      ]
     },
     "execution_count": 15,
     "metadata": {},
     "output_type": "execute_result"
    }
   ],
   "source": [
    "cart = DecisionTreeClassifier()\n",
    "cart_cv_model = GridSearchCV(cart, cart_params, cv = 10, n_jobs = -1, verbose = 2)\n",
    "cart_cv_model.fit(X_train, y_train)"
   ]
  },
  {
   "cell_type": "code",
   "execution_count": 16,
   "metadata": {},
   "outputs": [
    {
     "data": {
      "text/plain": [
       "{'max_depth': 5, 'min_samples_split': 45}"
      ]
     },
     "execution_count": 16,
     "metadata": {},
     "output_type": "execute_result"
    }
   ],
   "source": [
    "cart_cv_model.best_params_"
   ]
  },
  {
   "cell_type": "code",
   "execution_count": 18,
   "metadata": {},
   "outputs": [],
   "source": [
    "cart_tuned = DecisionTreeClassifier(max_depth = 5, min_samples_split = 45).fit(X_train, y_train)\n",
    "y_pred = cart_tuned.predict(X_test)"
   ]
  },
  {
   "cell_type": "code",
   "execution_count": 19,
   "metadata": {},
   "outputs": [
    {
     "data": {
      "text/plain": [
       "0.8008658008658008"
      ]
     },
     "execution_count": 19,
     "metadata": {},
     "output_type": "execute_result"
    }
   ],
   "source": [
    "accuracy_score(y_test, y_pred)"
   ]
  },
  {
   "cell_type": "code",
   "execution_count": null,
   "metadata": {},
   "outputs": [],
   "source": []
  }
 ],
 "metadata": {
  "kernelspec": {
   "display_name": "Python 3",
   "language": "python",
   "name": "python3"
  },
  "language_info": {
   "codemirror_mode": {
    "name": "ipython",
    "version": 3
   },
   "file_extension": ".py",
   "mimetype": "text/x-python",
   "name": "python",
   "nbconvert_exporter": "python",
   "pygments_lexer": "ipython3",
   "version": "3.7.6"
  }
 },
 "nbformat": 4,
 "nbformat_minor": 4
}
