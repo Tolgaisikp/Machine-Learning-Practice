{
 "cells": [
  {
   "cell_type": "code",
   "execution_count": 12,
   "metadata": {},
   "outputs": [],
   "source": [
    "from warnings import filterwarnings\n",
    "filterwarnings('ignore')\n",
    "import numpy as np\n",
    "import pandas as pd\n",
    "import seaborn as sns\n",
    "import matplotlib.pyplot as plt\n",
    "import scipy as sp\n",
    "from sklearn.cluster import KMeans\n",
    "from mpl_toolkits.mplot3d import Axes3D\n",
    "from yellowbrick.cluster import KElbowVisualizer\n",
    "from sklearn.preprocessing import StandardScaler\n",
    "from sklearn.decomposition import PCA"
   ]
  },
  {
   "cell_type": "code",
   "execution_count": 5,
   "metadata": {},
   "outputs": [
    {
     "data": {
      "text/html": [
       "<div>\n",
       "<style scoped>\n",
       "    .dataframe tbody tr th:only-of-type {\n",
       "        vertical-align: middle;\n",
       "    }\n",
       "\n",
       "    .dataframe tbody tr th {\n",
       "        vertical-align: top;\n",
       "    }\n",
       "\n",
       "    .dataframe thead th {\n",
       "        text-align: right;\n",
       "    }\n",
       "</style>\n",
       "<table border=\"1\" class=\"dataframe\">\n",
       "  <thead>\n",
       "    <tr style=\"text-align: right;\">\n",
       "      <th></th>\n",
       "      <th>Murder</th>\n",
       "      <th>Assault</th>\n",
       "      <th>UrbanPop</th>\n",
       "      <th>Rape</th>\n",
       "    </tr>\n",
       "  </thead>\n",
       "  <tbody>\n",
       "    <tr>\n",
       "      <th>Alabama</th>\n",
       "      <td>13.2</td>\n",
       "      <td>236</td>\n",
       "      <td>58</td>\n",
       "      <td>21.2</td>\n",
       "    </tr>\n",
       "    <tr>\n",
       "      <th>Alaska</th>\n",
       "      <td>10.0</td>\n",
       "      <td>263</td>\n",
       "      <td>48</td>\n",
       "      <td>44.5</td>\n",
       "    </tr>\n",
       "    <tr>\n",
       "      <th>Arizona</th>\n",
       "      <td>8.1</td>\n",
       "      <td>294</td>\n",
       "      <td>80</td>\n",
       "      <td>31.0</td>\n",
       "    </tr>\n",
       "    <tr>\n",
       "      <th>Arkansas</th>\n",
       "      <td>8.8</td>\n",
       "      <td>190</td>\n",
       "      <td>50</td>\n",
       "      <td>19.5</td>\n",
       "    </tr>\n",
       "    <tr>\n",
       "      <th>California</th>\n",
       "      <td>9.0</td>\n",
       "      <td>276</td>\n",
       "      <td>91</td>\n",
       "      <td>40.6</td>\n",
       "    </tr>\n",
       "  </tbody>\n",
       "</table>\n",
       "</div>"
      ],
      "text/plain": [
       "            Murder  Assault  UrbanPop  Rape\n",
       "Alabama       13.2      236        58  21.2\n",
       "Alaska        10.0      263        48  44.5\n",
       "Arizona        8.1      294        80  31.0\n",
       "Arkansas       8.8      190        50  19.5\n",
       "California     9.0      276        91  40.6"
      ]
     },
     "execution_count": 5,
     "metadata": {},
     "output_type": "execute_result"
    }
   ],
   "source": [
    "usarrests = pd.read_csv('USArrests.csv')\n",
    "df = usarrests.copy()\n",
    "df.index = df.iloc[:,0]\n",
    "df = df.drop(columns = 'Unnamed: 0')\n",
    "df.index.name = None\n",
    "df.head()"
   ]
  },
  {
   "cell_type": "code",
   "execution_count": 11,
   "metadata": {},
   "outputs": [
    {
     "data": {
      "text/plain": [
       "array([[ 1.25517927,  0.79078716, -0.52619514, -0.00345116],\n",
       "       [ 0.51301858,  1.11805959, -1.22406668,  2.50942392],\n",
       "       [ 0.07236067,  1.49381682,  1.00912225,  1.05346626],\n",
       "       [ 0.23470832,  0.23321191, -1.08449238, -0.18679398],\n",
       "       [ 0.28109336,  1.2756352 ,  1.77678094,  2.08881393],\n",
       "       [ 0.02597562,  0.40290872,  0.86954794,  1.88390137],\n",
       "       [-1.04088037, -0.73648418,  0.79976079, -1.09272319],\n",
       "       [-0.43787481,  0.81502956,  0.45082502, -0.58583422],\n",
       "       [ 1.76541475,  1.99078607,  1.00912225,  1.1505301 ],\n",
       "       [ 2.22926518,  0.48775713, -0.38662083,  0.49265293],\n",
       "       [-0.57702994, -1.51224105,  1.21848371, -0.11129987],\n",
       "       [-1.20322802, -0.61527217, -0.80534376, -0.75839217],\n",
       "       [ 0.60578867,  0.94836277,  1.21848371,  0.29852525],\n",
       "       [-0.13637203, -0.70012057, -0.03768506, -0.0250209 ],\n",
       "       [-1.29599811, -1.39102904, -0.5959823 , -1.07115345],\n",
       "       [-0.41468229, -0.67587817,  0.03210209, -0.34856705],\n",
       "       [ 0.44344101, -0.74860538, -0.94491807, -0.53190987],\n",
       "       [ 1.76541475,  0.94836277,  0.03210209,  0.10439756],\n",
       "       [-1.31919063, -1.06375661, -1.01470522, -1.44862395],\n",
       "       [ 0.81452136,  1.56654403,  0.10188925,  0.70835037],\n",
       "       [-0.78576263, -0.26375734,  1.35805802, -0.53190987],\n",
       "       [ 1.00006153,  1.02108998,  0.59039932,  1.49564599],\n",
       "       [-1.1800355 , -1.19708982,  0.03210209, -0.68289807],\n",
       "       [ 1.9277624 ,  1.06957478, -1.5032153 , -0.44563089],\n",
       "       [ 0.28109336,  0.0877575 ,  0.31125071,  0.75148985],\n",
       "       [-0.41468229, -0.74860538, -0.87513091, -0.521125  ],\n",
       "       [-0.80895515, -0.83345379, -0.24704653, -0.51034012],\n",
       "       [ 1.02325405,  0.98472638,  1.0789094 ,  2.671197  ],\n",
       "       [-1.31919063, -1.37890783, -0.66576945, -1.26528114],\n",
       "       [-0.08998698, -0.14254532,  1.63720664, -0.26228808],\n",
       "       [ 0.83771388,  1.38472601,  0.31125071,  1.17209984],\n",
       "       [ 0.76813632,  1.00896878,  1.42784517,  0.52500755],\n",
       "       [ 1.20879423,  2.01502847, -1.43342815, -0.55347961],\n",
       "       [-1.62069341, -1.52436225, -1.5032153 , -1.50254831],\n",
       "       [-0.11317951, -0.61527217,  0.66018648,  0.01811858],\n",
       "       [-0.27552716, -0.23951493,  0.1716764 , -0.13286962],\n",
       "       [-0.66980002, -0.14254532,  0.10188925,  0.87012344],\n",
       "       [-0.34510472, -0.78496898,  0.45082502, -0.68289807],\n",
       "       [-1.01768785,  0.03927269,  1.49763233, -1.39469959],\n",
       "       [ 1.53348953,  1.3119988 , -1.22406668,  0.13675217],\n",
       "       [-0.92491776, -1.027393  , -1.43342815, -0.90938037],\n",
       "       [ 1.25517927,  0.20896951, -0.45640799,  0.61128652],\n",
       "       [ 1.13921666,  0.36654512,  1.00912225,  0.46029832],\n",
       "       [-1.06407289, -0.61527217,  1.00912225,  0.17989166],\n",
       "       [-1.29599811, -1.48799864, -2.34066115, -1.08193832],\n",
       "       [ 0.16513075, -0.17890893, -0.17725937, -0.05737552],\n",
       "       [-0.87853272, -0.31224214,  0.52061217,  0.53579242],\n",
       "       [-0.48425985, -1.08799901, -1.85215107, -1.28685088],\n",
       "       [-1.20322802, -1.42739264,  0.03210209, -1.1250778 ],\n",
       "       [-0.22914211, -0.11830292, -0.38662083, -0.60740397]])"
      ]
     },
     "execution_count": 11,
     "metadata": {},
     "output_type": "execute_result"
    }
   ],
   "source": [
    "df = StandardScaler().fit_transform(df)\n",
    "df"
   ]
  },
  {
   "cell_type": "code",
   "execution_count": 37,
   "metadata": {},
   "outputs": [
    {
     "data": {
      "text/html": [
       "<div>\n",
       "<style scoped>\n",
       "    .dataframe tbody tr th:only-of-type {\n",
       "        vertical-align: middle;\n",
       "    }\n",
       "\n",
       "    .dataframe tbody tr th {\n",
       "        vertical-align: top;\n",
       "    }\n",
       "\n",
       "    .dataframe thead th {\n",
       "        text-align: right;\n",
       "    }\n",
       "</style>\n",
       "<table border=\"1\" class=\"dataframe\">\n",
       "  <thead>\n",
       "    <tr style=\"text-align: right;\">\n",
       "      <th></th>\n",
       "      <th>1</th>\n",
       "      <th>2</th>\n",
       "    </tr>\n",
       "  </thead>\n",
       "  <tbody>\n",
       "    <tr>\n",
       "      <th>0</th>\n",
       "      <td>0.985566</td>\n",
       "      <td>1.133392</td>\n",
       "    </tr>\n",
       "    <tr>\n",
       "      <th>1</th>\n",
       "      <td>1.950138</td>\n",
       "      <td>1.073213</td>\n",
       "    </tr>\n",
       "    <tr>\n",
       "      <th>2</th>\n",
       "      <td>1.763164</td>\n",
       "      <td>-0.745957</td>\n",
       "    </tr>\n",
       "    <tr>\n",
       "      <th>3</th>\n",
       "      <td>-0.141420</td>\n",
       "      <td>1.119797</td>\n",
       "    </tr>\n",
       "    <tr>\n",
       "      <th>4</th>\n",
       "      <td>2.523980</td>\n",
       "      <td>-1.542934</td>\n",
       "    </tr>\n",
       "  </tbody>\n",
       "</table>\n",
       "</div>"
      ],
      "text/plain": [
       "          1         2\n",
       "0  0.985566  1.133392\n",
       "1  1.950138  1.073213\n",
       "2  1.763164 -0.745957\n",
       "3 -0.141420  1.119797\n",
       "4  2.523980 -1.542934"
      ]
     },
     "execution_count": 37,
     "metadata": {},
     "output_type": "execute_result"
    }
   ],
   "source": [
    "pca = PCA(n_components = 2)\n",
    "pca_fit = pca.fit_transform(df)\n",
    "comp = pd.DataFrame(data = pca_fit, columns = ['1', '2'])\n",
    "comp.head()"
   ]
  },
  {
   "cell_type": "code",
   "execution_count": 38,
   "metadata": {},
   "outputs": [
    {
     "data": {
      "text/plain": [
       "array([2.53085875, 1.00996444])"
      ]
     },
     "execution_count": 38,
     "metadata": {},
     "output_type": "execute_result"
    }
   ],
   "source": [
    "pca.explained_variance_"
   ]
  },
  {
   "cell_type": "code",
   "execution_count": 39,
   "metadata": {},
   "outputs": [
    {
     "data": {
      "text/plain": [
       "array([0.62006039, 0.24744129])"
      ]
     },
     "execution_count": 39,
     "metadata": {},
     "output_type": "execute_result"
    }
   ],
   "source": [
    "pca.explained_variance_ratio_"
   ]
  },
  {
   "cell_type": "code",
   "execution_count": 21,
   "metadata": {},
   "outputs": [
    {
     "data": {
      "text/plain": [
       "0.8675016829223339"
      ]
     },
     "execution_count": 21,
     "metadata": {},
     "output_type": "execute_result"
    }
   ],
   "source": [
    "pca.explained_variance_ratio_.sum()"
   ]
  },
  {
   "cell_type": "code",
   "execution_count": 27,
   "metadata": {},
   "outputs": [
    {
     "data": {
      "text/plain": [
       "[<matplotlib.lines.Line2D at 0x1aef8d40cc8>]"
      ]
     },
     "execution_count": 27,
     "metadata": {},
     "output_type": "execute_result"
    },
    {
     "data": {
      "image/png": "[encoded data removed]",
      "text/plain": [
       "<Figure size 576x396 with 1 Axes>"
      ]
     },
     "metadata": {},
     "output_type": "display_data"
    }
   ],
   "source": [
    "pca = PCA().fit(df)\n",
    "plt.plot(np.cumsum(pca.explained_variance_ratio_))"
   ]
  },
  {
   "cell_type": "code",
   "execution_count": null,
   "metadata": {},
   "outputs": [],
   "source": []
  }
 ],
 "metadata": {
  "kernelspec": {
   "display_name": "Python 3",
   "language": "python",
   "name": "python3"
  },
  "language_info": {
   "codemirror_mode": {
    "name": "ipython",
    "version": 3
   },
   "file_extension": ".py",
   "mimetype": "text/x-python",
   "name": "python",
   "nbconvert_exporter": "python",
   "pygments_lexer": "ipython3",
   "version": "3.7.6"
  }
 },
 "nbformat": 4,
 "nbformat_minor": 4
}
