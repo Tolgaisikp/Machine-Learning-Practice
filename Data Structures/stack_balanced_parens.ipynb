{
 "cells": [
  {
   "cell_type": "code",
   "execution_count": 1,
   "metadata": {},
   "outputs": [],
   "source": [
    "#Determine if Parenthesis are Balanced"
   ]
  },
  {
   "cell_type": "code",
   "execution_count": 5,
   "metadata": {},
   "outputs": [],
   "source": [
    "#from stack import Stack şeklinde olacaktı"
   ]
  },
  {
   "cell_type": "code",
   "execution_count": 4,
   "metadata": {
    "jupyter": {
     "source_hidden": true
    }
   },
   "outputs": [],
   "source": [
    "class Stack():\n",
    "    def __init__(self):\n",
    "        self.items = []\n",
    "    \n",
    "    def push(self, item):\n",
    "        self.items.append(item)\n",
    "    \n",
    "    def pop(self):\n",
    "        if not self.is_null():\n",
    "            return self.items.pop()\n",
    "        else:\n",
    "            return 'Stack is empty'\n",
    "    \n",
    "    def is_null(self):\n",
    "        return self.items == []\n",
    "    \n",
    "    #bize stackteki en üstteki elemanı gösterir\n",
    "    def peek(self):\n",
    "        if not self.is_null():\n",
    "            return self.items[-1]\n",
    "    \n",
    "    def get_stack(self):\n",
    "        return self.items"
   ]
  },
  {
   "cell_type": "code",
   "execution_count": null,
   "metadata": {},
   "outputs": [],
   "source": [
    "\"\"\"\n",
    "balanced :(({}))\n",
    "\n",
    "non balanced : (()\n",
    "\n",
    "non balanced : ])\n",
    "\"\"\""
   ]
  },
  {
   "cell_type": "code",
   "execution_count": 7,
   "metadata": {},
   "outputs": [],
   "source": [
    "def is_match(p1, p2):\n",
    "    if p1 == \"(\" and p2 == \")\":\n",
    "        return True\n",
    "    elif p1 == \"{\" and p2 == \"}\":\n",
    "        return True\n",
    "    elif p1 == \"[\" and p2 == \"]\":\n",
    "        return True\n",
    "    else:\n",
    "        return False"
   ]
  },
  {
   "cell_type": "code",
   "execution_count": 13,
   "metadata": {},
   "outputs": [],
   "source": [
    "def is_paren_balanced(paren_string):\n",
    "    s = Stack() #stack oluşturduk\n",
    "    is_balanced = True #başlangıç bir true flag yaptık\n",
    "    index = 0 #döngü için bi index değeri\n",
    "    while index < len(paren_string) and is_balanced: \n",
    "        paren = paren_string[index] #herbir ifadeyi tek tek paren e atadık\n",
    "        if paren in \"([{\": #paren bunlardan birimi diye sorguladık\n",
    "            s.push(paren) #push ettik\n",
    "        else:\n",
    "            if s.is_null():#boşsa direk is_balance false oldu ve fonksiyon en alttaki sorgudan dolayı bitti\n",
    "                is_balanced = False\n",
    "            else:\n",
    "                top = s.pop()#boş değil ise en üsttekini sildi ve o değeri topa aldı topla sonraki parenı eşmi değilmi diye sorguladı\n",
    "                if not is_match(top, paren):#sondaki ile bir sonraki eş mi\n",
    "                    is_balanced = False #eş değil ise false yaptı ve fonksiyonu sonlandırdı\n",
    "        index +=1\n",
    "    if s.is_null() and is_balanced:#burada stack dolu olsa hatalı parantezleme olur is_balanced true olsa  \n",
    "        return True\n",
    "    else:\n",
    "        return False"
   ]
  },
  {
   "cell_type": "code",
   "execution_count": 14,
   "metadata": {},
   "outputs": [
    {
     "data": {
      "text/plain": [
       "True"
      ]
     },
     "execution_count": 14,
     "metadata": {},
     "output_type": "execute_result"
    }
   ],
   "source": [
    "print(is_paren_balanced(\"(({[]}))\"))"
   ]
  },
  {
   "cell_type": "code",
   "execution_count": 16,
   "metadata": {},
   "outputs": [
    {
     "name": "stdout",
     "output_type": "stream",
     "text": [
      "False\n"
     ]
    }
   ],
   "source": [
    "print(is_paren_balanced(\"((]}))\"))"
   ]
  },
  {
   "cell_type": "code",
   "execution_count": null,
   "metadata": {},
   "outputs": [],
   "source": []
  }
 ],
 "metadata": {
  "kernelspec": {
   "display_name": "Python 3",
   "language": "python",
   "name": "python3"
  },
  "language_info": {
   "codemirror_mode": {
    "name": "ipython",
    "version": 3
   },
   "file_extension": ".py",
   "mimetype": "text/x-python",
   "name": "python",
   "nbconvert_exporter": "python",
   "pygments_lexer": "ipython3",
   "version": "3.7.6"
  }
 },
 "nbformat": 4,
 "nbformat_minor": 4
}
