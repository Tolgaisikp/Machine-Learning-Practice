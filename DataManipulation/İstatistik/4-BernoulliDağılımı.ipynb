{
 "cells": [
  {
   "cell_type": "code",
   "execution_count": 5,
   "metadata": {},
   "outputs": [],
   "source": [
    "# Bernoulli Dağılımı"
   ]
  },
  {
   "cell_type": "code",
   "execution_count": 6,
   "metadata": {},
   "outputs": [],
   "source": [
    "from scipy.stats import bernoulli\n",
    "import numpy as np"
   ]
  },
  {
   "cell_type": "code",
   "execution_count": 7,
   "metadata": {},
   "outputs": [],
   "source": [
    "p = 0.6 #tura gelme olasılığı"
   ]
  },
  {
   "cell_type": "code",
   "execution_count": 8,
   "metadata": {},
   "outputs": [
    {
     "data": {
      "text/plain": [
       "0.6"
      ]
     },
     "execution_count": 8,
     "metadata": {},
     "output_type": "execute_result"
    }
   ],
   "source": [
    "rv = bernoulli(p)\n",
    "rv.pmf(k = 1)#olasılık kütle fonksiyonu"
   ]
  },
  {
   "cell_type": "code",
   "execution_count": 9,
   "metadata": {},
   "outputs": [
    {
     "data": {
      "text/plain": [
       "0.4"
      ]
     },
     "execution_count": 9,
     "metadata": {},
     "output_type": "execute_result"
    }
   ],
   "source": [
    "rv.pmf(k = 0)"
   ]
  },
  {
   "cell_type": "code",
   "execution_count": 10,
   "metadata": {},
   "outputs": [],
   "source": [
    "#Büyük Sayılar Yasası - sayılar arttıkça oranlar yaklaşır"
   ]
  },
  {
   "cell_type": "code",
   "execution_count": null,
   "metadata": {},
   "outputs": [],
   "source": [
    "#yazı tura olayı rastgele değişken olayıdır\n",
    "#parayı 5 yerine 15 50 arttıkça iki değerin atılma oranı birbirine yaklaşır"
   ]
  },
  {
   "cell_type": "code",
   "execution_count": 25,
   "metadata": {},
   "outputs": [
    {
     "name": "stdout",
     "output_type": "stream",
     "text": [
      "Atış Sayısı: 2 --- Yazı Olasılığı 100.00\n",
      "Atış Sayısı: 4 --- Yazı Olasılığı 50.00\n",
      "Atış Sayısı: 8 --- Yazı Olasılığı 62.50\n",
      "Atış Sayısı: 16 --- Yazı Olasılığı 31.25\n",
      "Atış Sayısı: 32 --- Yazı Olasılığı 59.38\n",
      "Atış Sayısı: 64 --- Yazı Olasılığı 57.81\n",
      "Atış Sayısı: 128 --- Yazı Olasılığı 49.22\n",
      "Atış Sayısı: 256 --- Yazı Olasılığı 46.09\n",
      "Atış Sayısı: 512 --- Yazı Olasılığı 46.88\n",
      "Atış Sayısı: 1024 --- Yazı Olasılığı 49.32\n",
      "Atış Sayısı: 2048 --- Yazı Olasılığı 50.24\n",
      "Atış Sayısı: 4096 --- Yazı Olasılığı 49.95\n",
      "Atış Sayısı: 8192 --- Yazı Olasılığı 49.65\n",
      "Atış Sayısı: 16384 --- Yazı Olasılığı 50.20\n",
      "Atış Sayısı: 32768 --- Yazı Olasılığı 50.11\n",
      "Atış Sayısı: 65536 --- Yazı Olasılığı 49.66\n",
      "Atış Sayısı: 131072 --- Yazı Olasılığı 50.01\n",
      "Atış Sayısı: 262144 --- Yazı Olasılığı 50.18\n",
      "Atış Sayısı: 524288 --- Yazı Olasılığı 49.95\n",
      "Atış Sayısı: 1048576 --- Yazı Olasılığı 50.00\n",
      "Atış Sayısı: 2097152 --- Yazı Olasılığı 49.97\n",
      "Atış Sayısı: 4194304 --- Yazı Olasılığı 50.01\n"
     ]
    }
   ],
   "source": [
    "rng = np.random.RandomState(1)\n",
    "for i in np.arange(1,23):\n",
    "    deney_sayisi = 2**i\n",
    "    yazi_turalar = rng.randint(0, 2, size = deney_sayisi)\n",
    "    yazi_olasiliklari = yazi_turalar.mean()\n",
    "    yazi_olasiliklari = np.mean(yazi_turalar)\n",
    "    print(\"Atış Sayısı:\",deney_sayisi,\"---\",'Yazı Olasılığı %.2f' % (yazi_olasiliklari * 100))"
   ]
  },
  {
   "cell_type": "code",
   "execution_count": null,
   "metadata": {},
   "outputs": [],
   "source": []
  },
  {
   "cell_type": "code",
   "execution_count": null,
   "metadata": {},
   "outputs": [],
   "source": []
  }
 ],
 "metadata": {
  "kernelspec": {
   "display_name": "Python 3",
   "language": "python",
   "name": "python3"
  },
  "language_info": {
   "codemirror_mode": {
    "name": "ipython",
    "version": 3
   },
   "file_extension": ".py",
   "mimetype": "text/x-python",
   "name": "python",
   "nbconvert_exporter": "python",
   "pygments_lexer": "ipython3",
   "version": "3.7.6"
  }
 },
 "nbformat": 4,
 "nbformat_minor": 4
}
