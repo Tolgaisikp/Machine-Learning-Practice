{
 "cells": [
  {
   "cell_type": "code",
   "execution_count": 1,
   "metadata": {},
   "outputs": [],
   "source": [
    "#Convert Integer to Binary"
   ]
  },
  {
   "cell_type": "code",
   "execution_count": 4,
   "metadata": {
    "jupyter": {
     "source_hidden": true
    }
   },
   "outputs": [],
   "source": [
    "class Stack():\n",
    "    def __init__(self):\n",
    "        self.items = []\n",
    "    \n",
    "    def push(self, item):\n",
    "        self.items.append(item)\n",
    "    \n",
    "    def pop(self):\n",
    "        if not self.is_null():\n",
    "            return self.items.pop()\n",
    "        else:\n",
    "            return 'Stack is empty'\n",
    "    \n",
    "    def is_null(self):\n",
    "        return self.items == []\n",
    "    \n",
    "    #bize stackteki en üstteki elemanı gösterir\n",
    "    def peek(self):\n",
    "        if not self.is_null():\n",
    "            return self.items[-1]\n",
    "    \n",
    "    def get_stack(self):\n",
    "        return self.items"
   ]
  },
  {
   "cell_type": "code",
   "execution_count": 67,
   "metadata": {},
   "outputs": [],
   "source": [
    "#benim denemem\n",
    "def convert(a):\n",
    "    binary = \"\"\n",
    "    stop = True\n",
    "    s = Stack()\n",
    "    while stop:\n",
    "        if a%2 == 1:\n",
    "            a = a // 2\n",
    "            s.push(1)\n",
    "            \n",
    "        elif a == 0:\n",
    "            stop = False\n",
    "            \n",
    "        elif a%2 == 0:\n",
    "            a = a // 2\n",
    "            s.push(0)\n",
    "            \n",
    "    liste = s.get_stack()\n",
    "    \n",
    "    for i in range(len(liste)):\n",
    "        binary += str(s.pop())\n",
    "    \n",
    "    return int(binary)"
   ]
  },
  {
   "cell_type": "code",
   "execution_count": 68,
   "metadata": {},
   "outputs": [
    {
     "data": {
      "text/plain": [
       "11100001"
      ]
     },
     "execution_count": 68,
     "metadata": {},
     "output_type": "execute_result"
    }
   ],
   "source": [
    "convert(225)"
   ]
  },
  {
   "cell_type": "code",
   "execution_count": 74,
   "metadata": {},
   "outputs": [],
   "source": [
    "def div_by_2(dec_num):\n",
    "    s = Stack()\n",
    "    while dec_num > 0:\n",
    "        remainder = dec_num % 2\n",
    "        s.push(remainder)\n",
    "        dec_num = dec_num // 2\n",
    "        \n",
    "    bin_num = \"\"\n",
    "    while not s.is_null():\n",
    "        bin_num += str(s.pop())\n",
    "    \n",
    "    return bin_num"
   ]
  },
  {
   "cell_type": "code",
   "execution_count": 76,
   "metadata": {},
   "outputs": [
    {
     "data": {
      "text/plain": [
       "'11110010'"
      ]
     },
     "execution_count": 76,
     "metadata": {},
     "output_type": "execute_result"
    }
   ],
   "source": [
    "div_by_2(242)"
   ]
  },
  {
   "cell_type": "code",
   "execution_count": null,
   "metadata": {},
   "outputs": [],
   "source": []
  }
 ],
 "metadata": {
  "kernelspec": {
   "display_name": "Python 3",
   "language": "python",
   "name": "python3"
  },
  "language_info": {
   "codemirror_mode": {
    "name": "ipython",
    "version": 3
   },
   "file_extension": ".py",
   "mimetype": "text/x-python",
   "name": "python",
   "nbconvert_exporter": "python",
   "pygments_lexer": "ipython3",
   "version": "3.7.6"
  }
 },
 "nbformat": 4,
 "nbformat_minor": 4
}
