{
 "cells": [
  {
   "cell_type": "markdown",
   "metadata": {},
   "source": [
    "# 0. Import Dependencies"
   ]
  },
  {
   "cell_type": "code",
   "execution_count": 1,
   "metadata": {},
   "outputs": [],
   "source": [
    "import pandas as pd \n",
    "import numpy as np\n",
    "import matplotlib.pyplot as plt\n",
    "import seaborn as sns\n",
    "import pickle"
   ]
  },
  {
   "cell_type": "code",
   "execution_count": 2,
   "metadata": {},
   "outputs": [],
   "source": [
    "with open(\"./traffic-signs-data/train.p\", mode = 'rb') as train_data:\n",
    "    train = pickle.load(train_data)\n",
    "with open(\"./traffic-signs-data/train.p\", mode = 'rb') as test_data:\n",
    "    test = pickle.load(test_data)\n",
    "with open(\"./traffic-signs-data/train.p\", mode = 'rb') as valida_data:\n",
    "    valid = pickle.load(valida_data)"
   ]
  },
  {
   "cell_type": "code",
   "execution_count": null,
   "metadata": {},
   "outputs": [],
   "source": []
  }
 ],
 "metadata": {
  "kernelspec": {
   "display_name": "Python 3.8.12 ('tf_gpu_env')",
   "language": "python",
   "name": "python3"
  },
  "language_info": {
   "codemirror_mode": {
    "name": "ipython",
    "version": 3
   },
   "file_extension": ".py",
   "mimetype": "text/x-python",
   "name": "python",
   "nbconvert_exporter": "python",
   "pygments_lexer": "ipython3",
   "version": "3.8.12"
  },
  "orig_nbformat": 4,
  "vscode": {
   "interpreter": {
    "hash": "7724af1f0b77363652052bc7b62f8f0ec6ad99eca81526789899a32c6605e655"
   }
  }
 },
 "nbformat": 4,
 "nbformat_minor": 2
}
