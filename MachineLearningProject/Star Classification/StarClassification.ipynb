{
  "cells": [
    {
      "cell_type": "markdown",
      "metadata": {
        "id": "G1uIwr-fJSbc"
      },
      "source": [
        "# 1. Import Dependencies"
      ]
    },
    {
      "cell_type": "code",
      "execution_count": 3,
      "metadata": {
        "id": "7-4SYw_gnjW5"
      },
      "outputs": [],
      "source": [
        "import numpy as np\n",
        "import pandas as pd\n",
        "import seaborn as sns\n",
        "import matplotlib.pyplot as plt\n",
        "from sklearn.model_selection import train_test_split\n",
        "from sklearn.naive_bayes import GaussianNB, BernoulliNB, MultinomialNB"
      ]
    },
    {
      "cell_type": "markdown",
      "metadata": {
        "id": "gN2Pzur6WJjx"
      },
      "source": [
        "# 2.EDA"
      ]
    },
    {
      "cell_type": "code",
      "execution_count": 4,
      "metadata": {
        "colab": {
          "base_uri": "https://localhost:8080/",
          "height": 195
        },
        "id": "JE6EBdjopiSt",
        "outputId": "64230abf-2459-4ecc-ff30-aedebfbba40a"
      },
      "outputs": [
        {
          "data": {
            "text/html": [
              "<div>\n",
              "<style scoped>\n",
              "    .dataframe tbody tr th:only-of-type {\n",
              "        vertical-align: middle;\n",
              "    }\n",
              "\n",
              "    .dataframe tbody tr th {\n",
              "        vertical-align: top;\n",
              "    }\n",
              "\n",
              "    .dataframe thead th {\n",
              "        text-align: right;\n",
              "    }\n",
              "</style>\n",
              "<table border=\"1\" class=\"dataframe\">\n",
              "  <thead>\n",
              "    <tr style=\"text-align: right;\">\n",
              "      <th></th>\n",
              "      <th>Temperature</th>\n",
              "      <th>L</th>\n",
              "      <th>R</th>\n",
              "      <th>A_M</th>\n",
              "      <th>Color</th>\n",
              "      <th>Spectral_Class</th>\n",
              "      <th>Type</th>\n",
              "    </tr>\n",
              "  </thead>\n",
              "  <tbody>\n",
              "    <tr>\n",
              "      <th>0</th>\n",
              "      <td>3068</td>\n",
              "      <td>0.002400</td>\n",
              "      <td>0.1700</td>\n",
              "      <td>16.12</td>\n",
              "      <td>Red</td>\n",
              "      <td>M</td>\n",
              "      <td>0</td>\n",
              "    </tr>\n",
              "    <tr>\n",
              "      <th>1</th>\n",
              "      <td>3042</td>\n",
              "      <td>0.000500</td>\n",
              "      <td>0.1542</td>\n",
              "      <td>16.60</td>\n",
              "      <td>Red</td>\n",
              "      <td>M</td>\n",
              "      <td>0</td>\n",
              "    </tr>\n",
              "    <tr>\n",
              "      <th>2</th>\n",
              "      <td>2600</td>\n",
              "      <td>0.000300</td>\n",
              "      <td>0.1020</td>\n",
              "      <td>18.70</td>\n",
              "      <td>Red</td>\n",
              "      <td>M</td>\n",
              "      <td>0</td>\n",
              "    </tr>\n",
              "    <tr>\n",
              "      <th>3</th>\n",
              "      <td>2800</td>\n",
              "      <td>0.000200</td>\n",
              "      <td>0.1600</td>\n",
              "      <td>16.65</td>\n",
              "      <td>Red</td>\n",
              "      <td>M</td>\n",
              "      <td>0</td>\n",
              "    </tr>\n",
              "    <tr>\n",
              "      <th>4</th>\n",
              "      <td>1939</td>\n",
              "      <td>0.000138</td>\n",
              "      <td>0.1030</td>\n",
              "      <td>20.06</td>\n",
              "      <td>Red</td>\n",
              "      <td>M</td>\n",
              "      <td>0</td>\n",
              "    </tr>\n",
              "  </tbody>\n",
              "</table>\n",
              "</div>"
            ],
            "text/plain": [
              "   Temperature         L       R    A_M Color Spectral_Class  Type\n",
              "0         3068  0.002400  0.1700  16.12   Red              M     0\n",
              "1         3042  0.000500  0.1542  16.60   Red              M     0\n",
              "2         2600  0.000300  0.1020  18.70   Red              M     0\n",
              "3         2800  0.000200  0.1600  16.65   Red              M     0\n",
              "4         1939  0.000138  0.1030  20.06   Red              M     0"
            ]
          },
          "execution_count": 4,
          "metadata": {},
          "output_type": "execute_result"
        }
      ],
      "source": [
        "df = pd.read_csv('Stars.csv')\n",
        "df.head(5)"
      ]
    },
    {
      "cell_type": "code",
      "execution_count": 5,
      "metadata": {
        "colab": {
          "base_uri": "https://localhost:8080/"
        },
        "id": "bpw1jf097PvT",
        "outputId": "873d0adb-16f6-4e47-aa15-d8340ff3439b"
      },
      "outputs": [
        {
          "name": "stdout",
          "output_type": "stream",
          "text": [
            "<class 'pandas.core.frame.DataFrame'>\n",
            "RangeIndex: 240 entries, 0 to 239\n",
            "Data columns (total 7 columns):\n",
            " #   Column          Non-Null Count  Dtype  \n",
            "---  ------          --------------  -----  \n",
            " 0   Temperature     240 non-null    int64  \n",
            " 1   L               240 non-null    float64\n",
            " 2   R               240 non-null    float64\n",
            " 3   A_M             240 non-null    float64\n",
            " 4   Color           240 non-null    object \n",
            " 5   Spectral_Class  240 non-null    object \n",
            " 6   Type            240 non-null    int64  \n",
            "dtypes: float64(3), int64(2), object(2)\n",
            "memory usage: 13.2+ KB\n"
          ]
        }
      ],
      "source": [
        "df.info()"
      ]
    },
    {
      "cell_type": "code",
      "execution_count": 6,
      "metadata": {
        "colab": {
          "base_uri": "https://localhost:8080/",
          "height": 282
        },
        "id": "E1bLLxPjpvtp",
        "outputId": "da4fb5ff-7bf9-4d16-fe91-460bccbef7da"
      },
      "outputs": [
        {
          "data": {
            "text/html": [
              "<div>\n",
              "<style scoped>\n",
              "    .dataframe tbody tr th:only-of-type {\n",
              "        vertical-align: middle;\n",
              "    }\n",
              "\n",
              "    .dataframe tbody tr th {\n",
              "        vertical-align: top;\n",
              "    }\n",
              "\n",
              "    .dataframe thead th {\n",
              "        text-align: right;\n",
              "    }\n",
              "</style>\n",
              "<table border=\"1\" class=\"dataframe\">\n",
              "  <thead>\n",
              "    <tr style=\"text-align: right;\">\n",
              "      <th></th>\n",
              "      <th>Temperature</th>\n",
              "      <th>L</th>\n",
              "      <th>R</th>\n",
              "      <th>A_M</th>\n",
              "      <th>Type</th>\n",
              "    </tr>\n",
              "  </thead>\n",
              "  <tbody>\n",
              "    <tr>\n",
              "      <th>count</th>\n",
              "      <td>240.000000</td>\n",
              "      <td>240.000000</td>\n",
              "      <td>240.000000</td>\n",
              "      <td>240.000000</td>\n",
              "      <td>240.000000</td>\n",
              "    </tr>\n",
              "    <tr>\n",
              "      <th>mean</th>\n",
              "      <td>10497.462500</td>\n",
              "      <td>107188.361635</td>\n",
              "      <td>237.157781</td>\n",
              "      <td>4.382396</td>\n",
              "      <td>2.500000</td>\n",
              "    </tr>\n",
              "    <tr>\n",
              "      <th>std</th>\n",
              "      <td>9552.425037</td>\n",
              "      <td>179432.244940</td>\n",
              "      <td>517.155763</td>\n",
              "      <td>10.532512</td>\n",
              "      <td>1.711394</td>\n",
              "    </tr>\n",
              "    <tr>\n",
              "      <th>min</th>\n",
              "      <td>1939.000000</td>\n",
              "      <td>0.000080</td>\n",
              "      <td>0.008400</td>\n",
              "      <td>-11.920000</td>\n",
              "      <td>0.000000</td>\n",
              "    </tr>\n",
              "    <tr>\n",
              "      <th>25%</th>\n",
              "      <td>3344.250000</td>\n",
              "      <td>0.000865</td>\n",
              "      <td>0.102750</td>\n",
              "      <td>-6.232500</td>\n",
              "      <td>1.000000</td>\n",
              "    </tr>\n",
              "    <tr>\n",
              "      <th>50%</th>\n",
              "      <td>5776.000000</td>\n",
              "      <td>0.070500</td>\n",
              "      <td>0.762500</td>\n",
              "      <td>8.313000</td>\n",
              "      <td>2.500000</td>\n",
              "    </tr>\n",
              "    <tr>\n",
              "      <th>75%</th>\n",
              "      <td>15055.500000</td>\n",
              "      <td>198050.000000</td>\n",
              "      <td>42.750000</td>\n",
              "      <td>13.697500</td>\n",
              "      <td>4.000000</td>\n",
              "    </tr>\n",
              "    <tr>\n",
              "      <th>max</th>\n",
              "      <td>40000.000000</td>\n",
              "      <td>849420.000000</td>\n",
              "      <td>1948.500000</td>\n",
              "      <td>20.060000</td>\n",
              "      <td>5.000000</td>\n",
              "    </tr>\n",
              "  </tbody>\n",
              "</table>\n",
              "</div>"
            ],
            "text/plain": [
              "        Temperature              L            R         A_M        Type\n",
              "count    240.000000     240.000000   240.000000  240.000000  240.000000\n",
              "mean   10497.462500  107188.361635   237.157781    4.382396    2.500000\n",
              "std     9552.425037  179432.244940   517.155763   10.532512    1.711394\n",
              "min     1939.000000       0.000080     0.008400  -11.920000    0.000000\n",
              "25%     3344.250000       0.000865     0.102750   -6.232500    1.000000\n",
              "50%     5776.000000       0.070500     0.762500    8.313000    2.500000\n",
              "75%    15055.500000  198050.000000    42.750000   13.697500    4.000000\n",
              "max    40000.000000  849420.000000  1948.500000   20.060000    5.000000"
            ]
          },
          "execution_count": 6,
          "metadata": {},
          "output_type": "execute_result"
        }
      ],
      "source": [
        "df.describe()"
      ]
    },
    {
      "cell_type": "code",
      "execution_count": 7,
      "metadata": {
        "colab": {
          "base_uri": "https://localhost:8080/"
        },
        "id": "nB1oX9CM8JAs",
        "outputId": "5f0f6a99-9a3f-41b0-ac2e-887beefd69e5"
      },
      "outputs": [
        {
          "data": {
            "text/plain": [
              "Temperature       0\n",
              "L                 0\n",
              "R                 0\n",
              "A_M               0\n",
              "Color             0\n",
              "Spectral_Class    0\n",
              "Type              0\n",
              "dtype: int64"
            ]
          },
          "execution_count": 7,
          "metadata": {},
          "output_type": "execute_result"
        }
      ],
      "source": [
        "#no null\n",
        "df.isna().sum()"
      ]
    },
    {
      "cell_type": "code",
      "execution_count": 8,
      "metadata": {
        "colab": {
          "base_uri": "https://localhost:8080/"
        },
        "id": "0kcfvX898I8-",
        "outputId": "b6031726-c0ea-467b-d520-202878c54573"
      },
      "outputs": [
        {
          "name": "stdout",
          "output_type": "stream",
          "text": [
            "Red                   112\n",
            "Blue                   56\n",
            "Blue-white             26\n",
            "Blue White             10\n",
            "yellow-white            8\n",
            "White                   7\n",
            "Blue white              4\n",
            "Yellowish White         3\n",
            "white                   3\n",
            "Orange                  2\n",
            "Whitish                 2\n",
            "yellowish               2\n",
            "White-Yellow            1\n",
            "Pale yellow orange      1\n",
            "Yellowish               1\n",
            "Blue-White              1\n",
            "Orange-Red              1\n",
            "Name: Color, dtype: int64\n",
            "There Are 17 Star Colors\n"
          ]
        }
      ],
      "source": [
        "print(df.Color.value_counts())\n",
        "print(f\"There Are {df.Color.value_counts().shape[0]} Star Colors\")"
      ]
    },
    {
      "cell_type": "code",
      "execution_count": 9,
      "metadata": {
        "colab": {
          "base_uri": "https://localhost:8080/"
        },
        "id": "1SDYLUqc8I2C",
        "outputId": "808d60fd-0cf9-45c2-8e06-957ae5ea7a96"
      },
      "outputs": [
        {
          "name": "stdout",
          "output_type": "stream",
          "text": [
            "M    111\n",
            "B     46\n",
            "O     40\n",
            "A     19\n",
            "F     17\n",
            "K      6\n",
            "G      1\n",
            "Name: Spectral_Class, dtype: int64\n",
            "There Are 7 Star Spectral Class\n"
          ]
        }
      ],
      "source": [
        "print(df.Spectral_Class.value_counts())\n",
        "print(f\"There Are {df.Spectral_Class.value_counts().shape[0]} Star Spectral Class\")"
      ]
    },
    {
      "cell_type": "markdown",
      "metadata": {
        "id": "N1JSCF5BR319"
      },
      "source": [
        "## 2.1 Correlation "
      ]
    },
    {
      "cell_type": "markdown",
      "metadata": {
        "id": "yBckXYv1SCXH"
      },
      "source": [
        "### 2.1.1 Pearson Correlation"
      ]
    },
    {
      "cell_type": "code",
      "execution_count": 10,
      "metadata": {
        "id": "KQm-q1qCR01B"
      },
      "outputs": [],
      "source": [
        "features = [\"Temperature\",\"L\",\"R\",\"A_M\"]\n",
        "pearson_corr = df[features].corr(method=\"pearson\")"
      ]
    },
    {
      "cell_type": "code",
      "execution_count": 11,
      "metadata": {
        "colab": {
          "base_uri": "https://localhost:8080/"
        },
        "id": "_uQY3AfVSjBS",
        "outputId": "9350245a-1326-45ac-9761-cf4a0f41c5c7"
      },
      "outputs": [
        {
          "data": {
            "image/png": "[encoded data removed]",
            "text/plain": [
              "<Figure size 720x576 with 2 Axes>"
            ]
          },
          "metadata": {
            "needs_background": "light"
          },
          "output_type": "display_data"
        }
      ],
      "source": [
        "figure = plt.figure(figsize=(10,8))\n",
        "sns.heatmap(pearson_corr,annot=True,cmap='RdYlGn', vmin=-1, vmax=+1)\n",
        "plt.title(\"PEARSON\")\n",
        "plt.xlabel(\"COLUMNS\")\n",
        "plt.ylabel(\"COLUMNS\")\n",
        "plt.show()"
      ]
    },
    {
      "cell_type": "markdown",
      "metadata": {
        "id": "0TkoVw0rNlCJ"
      },
      "source": [
        "### 2.1.2 Spearman Correlation"
      ]
    },
    {
      "cell_type": "code",
      "execution_count": 12,
      "metadata": {
        "id": "Uror7wosNoZK"
      },
      "outputs": [],
      "source": [
        "features = [\"Temperature\",\"L\",\"R\",\"A_M\"]\n",
        "corrSpearman = df[features].corr(method=\"spearman\")"
      ]
    },
    {
      "cell_type": "code",
      "execution_count": 13,
      "metadata": {
        "colab": {
          "base_uri": "https://localhost:8080/"
        },
        "id": "eCs1v2ZVNn-j",
        "outputId": "b3a0cec9-1b78-4ec0-b62b-f51057ef6c91"
      },
      "outputs": [
        {
          "data": {
            "image/png": "[encoded data removed]",
            "text/plain": [
              "<Figure size 720x576 with 2 Axes>"
            ]
          },
          "metadata": {
            "needs_background": "light"
          },
          "output_type": "display_data"
        }
      ],
      "source": [
        "figure = plt.figure(figsize=(10,8))\n",
        "sns.heatmap(corrSpearman,annot=True,cmap='RdYlGn', vmin=-1, vmax=+1)\n",
        "plt.title(\"SPEARMAN\")\n",
        "plt.xlabel(\"COLUMNS\")\n",
        "plt.ylabel(\"COLUMNS\")\n",
        "plt.show()"
      ]
    },
    {
      "cell_type": "markdown",
      "metadata": {
        "id": "KaSxvRi6I93T"
      },
      "source": [
        "# 3.Preprocessing"
      ]
    },
    {
      "cell_type": "markdown",
      "metadata": {
        "id": "tdWIihsOcnf4"
      },
      "source": [
        "## 3.1 Encoding \n",
        "\n",
        "*   One hot Encoding\n",
        "*   Dummy Encoding\n",
        "*   Label Encoding\n"
      ]
    },
    {
      "cell_type": "markdown",
      "metadata": {
        "id": "tmyhuZvyjWvP"
      },
      "source": [
        "### 3.1.1 Label Encoding"
      ]
    },
    {
      "cell_type": "code",
      "execution_count": 14,
      "metadata": {
        "id": "0Pr41QM-fkNK"
      },
      "outputs": [],
      "source": [
        "from sklearn.preprocessing import LabelEncoder, OneHotEncoder\n",
        "from pandas import get_dummies\n",
        "df_dummy_encoding = df.copy()\n",
        "\n",
        "labelEncoder = LabelEncoder()\n",
        "df_label_encoding = df.copy()\n",
        "\n",
        "df_label_encoding['Color_Stars'] = labelEncoder.fit_transform(df_label_encoding['Color'])\n",
        "df_label_encoding['Spectral_Class_Stars'] = labelEncoder.fit_transform(df_label_encoding['Spectral_Class'])\n",
        "df_label_encoding = df_label_encoding.drop(['Color', 'Spectral_Class'], axis = 1)\n",
        "\n",
        "df_dummy_encoding = df_label_encoding"
      ]
    },
    {
      "cell_type": "code",
      "execution_count": 15,
      "metadata": {
        "colab": {
          "base_uri": "https://localhost:8080/"
        },
        "id": "VeNI_TnvqjsT",
        "outputId": "f62f34de-33cd-4c90-9ccb-50c0d62b46a1"
      },
      "outputs": [
        {
          "data": {
            "text/html": [
              "<div>\n",
              "<style scoped>\n",
              "    .dataframe tbody tr th:only-of-type {\n",
              "        vertical-align: middle;\n",
              "    }\n",
              "\n",
              "    .dataframe tbody tr th {\n",
              "        vertical-align: top;\n",
              "    }\n",
              "\n",
              "    .dataframe thead th {\n",
              "        text-align: right;\n",
              "    }\n",
              "</style>\n",
              "<table border=\"1\" class=\"dataframe\">\n",
              "  <thead>\n",
              "    <tr style=\"text-align: right;\">\n",
              "      <th></th>\n",
              "      <th>Temperature</th>\n",
              "      <th>L</th>\n",
              "      <th>R</th>\n",
              "      <th>A_M</th>\n",
              "      <th>Type</th>\n",
              "      <th>Color_Stars</th>\n",
              "      <th>Spectral_Class_Stars</th>\n",
              "    </tr>\n",
              "  </thead>\n",
              "  <tbody>\n",
              "    <tr>\n",
              "      <th>0</th>\n",
              "      <td>3068</td>\n",
              "      <td>0.002400</td>\n",
              "      <td>0.1700</td>\n",
              "      <td>16.12</td>\n",
              "      <td>0</td>\n",
              "      <td>8</td>\n",
              "      <td>5</td>\n",
              "    </tr>\n",
              "    <tr>\n",
              "      <th>1</th>\n",
              "      <td>3042</td>\n",
              "      <td>0.000500</td>\n",
              "      <td>0.1542</td>\n",
              "      <td>16.60</td>\n",
              "      <td>0</td>\n",
              "      <td>8</td>\n",
              "      <td>5</td>\n",
              "    </tr>\n",
              "    <tr>\n",
              "      <th>2</th>\n",
              "      <td>2600</td>\n",
              "      <td>0.000300</td>\n",
              "      <td>0.1020</td>\n",
              "      <td>18.70</td>\n",
              "      <td>0</td>\n",
              "      <td>8</td>\n",
              "      <td>5</td>\n",
              "    </tr>\n",
              "    <tr>\n",
              "      <th>3</th>\n",
              "      <td>2800</td>\n",
              "      <td>0.000200</td>\n",
              "      <td>0.1600</td>\n",
              "      <td>16.65</td>\n",
              "      <td>0</td>\n",
              "      <td>8</td>\n",
              "      <td>5</td>\n",
              "    </tr>\n",
              "    <tr>\n",
              "      <th>4</th>\n",
              "      <td>1939</td>\n",
              "      <td>0.000138</td>\n",
              "      <td>0.1030</td>\n",
              "      <td>20.06</td>\n",
              "      <td>0</td>\n",
              "      <td>8</td>\n",
              "      <td>5</td>\n",
              "    </tr>\n",
              "    <tr>\n",
              "      <th>...</th>\n",
              "      <td>...</td>\n",
              "      <td>...</td>\n",
              "      <td>...</td>\n",
              "      <td>...</td>\n",
              "      <td>...</td>\n",
              "      <td>...</td>\n",
              "      <td>...</td>\n",
              "    </tr>\n",
              "    <tr>\n",
              "      <th>235</th>\n",
              "      <td>38940</td>\n",
              "      <td>374830.000000</td>\n",
              "      <td>1356.0000</td>\n",
              "      <td>-9.93</td>\n",
              "      <td>5</td>\n",
              "      <td>0</td>\n",
              "      <td>6</td>\n",
              "    </tr>\n",
              "    <tr>\n",
              "      <th>236</th>\n",
              "      <td>30839</td>\n",
              "      <td>834042.000000</td>\n",
              "      <td>1194.0000</td>\n",
              "      <td>-10.63</td>\n",
              "      <td>5</td>\n",
              "      <td>0</td>\n",
              "      <td>6</td>\n",
              "    </tr>\n",
              "    <tr>\n",
              "      <th>237</th>\n",
              "      <td>8829</td>\n",
              "      <td>537493.000000</td>\n",
              "      <td>1423.0000</td>\n",
              "      <td>-10.73</td>\n",
              "      <td>5</td>\n",
              "      <td>9</td>\n",
              "      <td>0</td>\n",
              "    </tr>\n",
              "    <tr>\n",
              "      <th>238</th>\n",
              "      <td>9235</td>\n",
              "      <td>404940.000000</td>\n",
              "      <td>1112.0000</td>\n",
              "      <td>-11.23</td>\n",
              "      <td>5</td>\n",
              "      <td>9</td>\n",
              "      <td>0</td>\n",
              "    </tr>\n",
              "    <tr>\n",
              "      <th>239</th>\n",
              "      <td>37882</td>\n",
              "      <td>294903.000000</td>\n",
              "      <td>1783.0000</td>\n",
              "      <td>-7.80</td>\n",
              "      <td>5</td>\n",
              "      <td>0</td>\n",
              "      <td>6</td>\n",
              "    </tr>\n",
              "  </tbody>\n",
              "</table>\n",
              "<p>240 rows × 7 columns</p>\n",
              "</div>"
            ],
            "text/plain": [
              "     Temperature              L          R    A_M  Type  Color_Stars  \\\n",
              "0           3068       0.002400     0.1700  16.12     0            8   \n",
              "1           3042       0.000500     0.1542  16.60     0            8   \n",
              "2           2600       0.000300     0.1020  18.70     0            8   \n",
              "3           2800       0.000200     0.1600  16.65     0            8   \n",
              "4           1939       0.000138     0.1030  20.06     0            8   \n",
              "..           ...            ...        ...    ...   ...          ...   \n",
              "235        38940  374830.000000  1356.0000  -9.93     5            0   \n",
              "236        30839  834042.000000  1194.0000 -10.63     5            0   \n",
              "237         8829  537493.000000  1423.0000 -10.73     5            9   \n",
              "238         9235  404940.000000  1112.0000 -11.23     5            9   \n",
              "239        37882  294903.000000  1783.0000  -7.80     5            0   \n",
              "\n",
              "     Spectral_Class_Stars  \n",
              "0                       5  \n",
              "1                       5  \n",
              "2                       5  \n",
              "3                       5  \n",
              "4                       5  \n",
              "..                    ...  \n",
              "235                     6  \n",
              "236                     6  \n",
              "237                     0  \n",
              "238                     0  \n",
              "239                     6  \n",
              "\n",
              "[240 rows x 7 columns]"
            ]
          },
          "execution_count": 15,
          "metadata": {},
          "output_type": "execute_result"
        }
      ],
      "source": [
        "df_label_encoding"
      ]
    },
    {
      "cell_type": "markdown",
      "metadata": {
        "id": "Eoy-OpbojdF8"
      },
      "source": [
        "### 3.1.2 One Hot Encoding"
      ]
    },
    {
      "cell_type": "code",
      "execution_count": 16,
      "metadata": {
        "id": "BangwY83gZgZ"
      },
      "outputs": [],
      "source": [
        "oneHotEncoder = OneHotEncoder()\n",
        "df_onehot_encoding = df.copy()\n",
        "\n",
        "onehot_encoding_df = pd.DataFrame(oneHotEncoder.fit_transform(df_onehot_encoding[['Color', 'Spectral_Class']]).toarray())\n",
        "df_onehot_encoding = df_onehot_encoding.join(onehot_encoding_df)\n",
        "df_onehot_encoding = df_onehot_encoding.drop(['Color', 'Spectral_Class'], axis = 1)\n",
        "\n",
        "df_dummy_encoding = df_onehot_encoding"
      ]
    },
    {
      "cell_type": "code",
      "execution_count": 17,
      "metadata": {
        "colab": {
          "base_uri": "https://localhost:8080/"
        },
        "id": "hUhIabEAqhR6",
        "outputId": "4ab69cfa-29da-4303-c6a2-4777850a9baa"
      },
      "outputs": [
        {
          "data": {
            "text/html": [
              "<div>\n",
              "<style scoped>\n",
              "    .dataframe tbody tr th:only-of-type {\n",
              "        vertical-align: middle;\n",
              "    }\n",
              "\n",
              "    .dataframe tbody tr th {\n",
              "        vertical-align: top;\n",
              "    }\n",
              "\n",
              "    .dataframe thead th {\n",
              "        text-align: right;\n",
              "    }\n",
              "</style>\n",
              "<table border=\"1\" class=\"dataframe\">\n",
              "  <thead>\n",
              "    <tr style=\"text-align: right;\">\n",
              "      <th></th>\n",
              "      <th>Temperature</th>\n",
              "      <th>L</th>\n",
              "      <th>R</th>\n",
              "      <th>A_M</th>\n",
              "      <th>Type</th>\n",
              "      <th>0</th>\n",
              "      <th>1</th>\n",
              "      <th>2</th>\n",
              "      <th>3</th>\n",
              "      <th>4</th>\n",
              "      <th>...</th>\n",
              "      <th>14</th>\n",
              "      <th>15</th>\n",
              "      <th>16</th>\n",
              "      <th>17</th>\n",
              "      <th>18</th>\n",
              "      <th>19</th>\n",
              "      <th>20</th>\n",
              "      <th>21</th>\n",
              "      <th>22</th>\n",
              "      <th>23</th>\n",
              "    </tr>\n",
              "  </thead>\n",
              "  <tbody>\n",
              "    <tr>\n",
              "      <th>0</th>\n",
              "      <td>3068</td>\n",
              "      <td>0.002400</td>\n",
              "      <td>0.1700</td>\n",
              "      <td>16.12</td>\n",
              "      <td>0</td>\n",
              "      <td>0.0</td>\n",
              "      <td>0.0</td>\n",
              "      <td>0.0</td>\n",
              "      <td>0.0</td>\n",
              "      <td>0.0</td>\n",
              "      <td>...</td>\n",
              "      <td>0.0</td>\n",
              "      <td>0.0</td>\n",
              "      <td>0.0</td>\n",
              "      <td>0.0</td>\n",
              "      <td>0.0</td>\n",
              "      <td>0.0</td>\n",
              "      <td>0.0</td>\n",
              "      <td>0.0</td>\n",
              "      <td>1.0</td>\n",
              "      <td>0.0</td>\n",
              "    </tr>\n",
              "    <tr>\n",
              "      <th>1</th>\n",
              "      <td>3042</td>\n",
              "      <td>0.000500</td>\n",
              "      <td>0.1542</td>\n",
              "      <td>16.60</td>\n",
              "      <td>0</td>\n",
              "      <td>0.0</td>\n",
              "      <td>0.0</td>\n",
              "      <td>0.0</td>\n",
              "      <td>0.0</td>\n",
              "      <td>0.0</td>\n",
              "      <td>...</td>\n",
              "      <td>0.0</td>\n",
              "      <td>0.0</td>\n",
              "      <td>0.0</td>\n",
              "      <td>0.0</td>\n",
              "      <td>0.0</td>\n",
              "      <td>0.0</td>\n",
              "      <td>0.0</td>\n",
              "      <td>0.0</td>\n",
              "      <td>1.0</td>\n",
              "      <td>0.0</td>\n",
              "    </tr>\n",
              "    <tr>\n",
              "      <th>2</th>\n",
              "      <td>2600</td>\n",
              "      <td>0.000300</td>\n",
              "      <td>0.1020</td>\n",
              "      <td>18.70</td>\n",
              "      <td>0</td>\n",
              "      <td>0.0</td>\n",
              "      <td>0.0</td>\n",
              "      <td>0.0</td>\n",
              "      <td>0.0</td>\n",
              "      <td>0.0</td>\n",
              "      <td>...</td>\n",
              "      <td>0.0</td>\n",
              "      <td>0.0</td>\n",
              "      <td>0.0</td>\n",
              "      <td>0.0</td>\n",
              "      <td>0.0</td>\n",
              "      <td>0.0</td>\n",
              "      <td>0.0</td>\n",
              "      <td>0.0</td>\n",
              "      <td>1.0</td>\n",
              "      <td>0.0</td>\n",
              "    </tr>\n",
              "    <tr>\n",
              "      <th>3</th>\n",
              "      <td>2800</td>\n",
              "      <td>0.000200</td>\n",
              "      <td>0.1600</td>\n",
              "      <td>16.65</td>\n",
              "      <td>0</td>\n",
              "      <td>0.0</td>\n",
              "      <td>0.0</td>\n",
              "      <td>0.0</td>\n",
              "      <td>0.0</td>\n",
              "      <td>0.0</td>\n",
              "      <td>...</td>\n",
              "      <td>0.0</td>\n",
              "      <td>0.0</td>\n",
              "      <td>0.0</td>\n",
              "      <td>0.0</td>\n",
              "      <td>0.0</td>\n",
              "      <td>0.0</td>\n",
              "      <td>0.0</td>\n",
              "      <td>0.0</td>\n",
              "      <td>1.0</td>\n",
              "      <td>0.0</td>\n",
              "    </tr>\n",
              "    <tr>\n",
              "      <th>4</th>\n",
              "      <td>1939</td>\n",
              "      <td>0.000138</td>\n",
              "      <td>0.1030</td>\n",
              "      <td>20.06</td>\n",
              "      <td>0</td>\n",
              "      <td>0.0</td>\n",
              "      <td>0.0</td>\n",
              "      <td>0.0</td>\n",
              "      <td>0.0</td>\n",
              "      <td>0.0</td>\n",
              "      <td>...</td>\n",
              "      <td>0.0</td>\n",
              "      <td>0.0</td>\n",
              "      <td>0.0</td>\n",
              "      <td>0.0</td>\n",
              "      <td>0.0</td>\n",
              "      <td>0.0</td>\n",
              "      <td>0.0</td>\n",
              "      <td>0.0</td>\n",
              "      <td>1.0</td>\n",
              "      <td>0.0</td>\n",
              "    </tr>\n",
              "    <tr>\n",
              "      <th>...</th>\n",
              "      <td>...</td>\n",
              "      <td>...</td>\n",
              "      <td>...</td>\n",
              "      <td>...</td>\n",
              "      <td>...</td>\n",
              "      <td>...</td>\n",
              "      <td>...</td>\n",
              "      <td>...</td>\n",
              "      <td>...</td>\n",
              "      <td>...</td>\n",
              "      <td>...</td>\n",
              "      <td>...</td>\n",
              "      <td>...</td>\n",
              "      <td>...</td>\n",
              "      <td>...</td>\n",
              "      <td>...</td>\n",
              "      <td>...</td>\n",
              "      <td>...</td>\n",
              "      <td>...</td>\n",
              "      <td>...</td>\n",
              "      <td>...</td>\n",
              "    </tr>\n",
              "    <tr>\n",
              "      <th>235</th>\n",
              "      <td>38940</td>\n",
              "      <td>374830.000000</td>\n",
              "      <td>1356.0000</td>\n",
              "      <td>-9.93</td>\n",
              "      <td>5</td>\n",
              "      <td>1.0</td>\n",
              "      <td>0.0</td>\n",
              "      <td>0.0</td>\n",
              "      <td>0.0</td>\n",
              "      <td>0.0</td>\n",
              "      <td>...</td>\n",
              "      <td>0.0</td>\n",
              "      <td>0.0</td>\n",
              "      <td>0.0</td>\n",
              "      <td>0.0</td>\n",
              "      <td>0.0</td>\n",
              "      <td>0.0</td>\n",
              "      <td>0.0</td>\n",
              "      <td>0.0</td>\n",
              "      <td>0.0</td>\n",
              "      <td>1.0</td>\n",
              "    </tr>\n",
              "    <tr>\n",
              "      <th>236</th>\n",
              "      <td>30839</td>\n",
              "      <td>834042.000000</td>\n",
              "      <td>1194.0000</td>\n",
              "      <td>-10.63</td>\n",
              "      <td>5</td>\n",
              "      <td>1.0</td>\n",
              "      <td>0.0</td>\n",
              "      <td>0.0</td>\n",
              "      <td>0.0</td>\n",
              "      <td>0.0</td>\n",
              "      <td>...</td>\n",
              "      <td>0.0</td>\n",
              "      <td>0.0</td>\n",
              "      <td>0.0</td>\n",
              "      <td>0.0</td>\n",
              "      <td>0.0</td>\n",
              "      <td>0.0</td>\n",
              "      <td>0.0</td>\n",
              "      <td>0.0</td>\n",
              "      <td>0.0</td>\n",
              "      <td>1.0</td>\n",
              "    </tr>\n",
              "    <tr>\n",
              "      <th>237</th>\n",
              "      <td>8829</td>\n",
              "      <td>537493.000000</td>\n",
              "      <td>1423.0000</td>\n",
              "      <td>-10.73</td>\n",
              "      <td>5</td>\n",
              "      <td>0.0</td>\n",
              "      <td>0.0</td>\n",
              "      <td>0.0</td>\n",
              "      <td>0.0</td>\n",
              "      <td>0.0</td>\n",
              "      <td>...</td>\n",
              "      <td>0.0</td>\n",
              "      <td>0.0</td>\n",
              "      <td>0.0</td>\n",
              "      <td>1.0</td>\n",
              "      <td>0.0</td>\n",
              "      <td>0.0</td>\n",
              "      <td>0.0</td>\n",
              "      <td>0.0</td>\n",
              "      <td>0.0</td>\n",
              "      <td>0.0</td>\n",
              "    </tr>\n",
              "    <tr>\n",
              "      <th>238</th>\n",
              "      <td>9235</td>\n",
              "      <td>404940.000000</td>\n",
              "      <td>1112.0000</td>\n",
              "      <td>-11.23</td>\n",
              "      <td>5</td>\n",
              "      <td>0.0</td>\n",
              "      <td>0.0</td>\n",
              "      <td>0.0</td>\n",
              "      <td>0.0</td>\n",
              "      <td>0.0</td>\n",
              "      <td>...</td>\n",
              "      <td>0.0</td>\n",
              "      <td>0.0</td>\n",
              "      <td>0.0</td>\n",
              "      <td>1.0</td>\n",
              "      <td>0.0</td>\n",
              "      <td>0.0</td>\n",
              "      <td>0.0</td>\n",
              "      <td>0.0</td>\n",
              "      <td>0.0</td>\n",
              "      <td>0.0</td>\n",
              "    </tr>\n",
              "    <tr>\n",
              "      <th>239</th>\n",
              "      <td>37882</td>\n",
              "      <td>294903.000000</td>\n",
              "      <td>1783.0000</td>\n",
              "      <td>-7.80</td>\n",
              "      <td>5</td>\n",
              "      <td>1.0</td>\n",
              "      <td>0.0</td>\n",
              "      <td>0.0</td>\n",
              "      <td>0.0</td>\n",
              "      <td>0.0</td>\n",
              "      <td>...</td>\n",
              "      <td>0.0</td>\n",
              "      <td>0.0</td>\n",
              "      <td>0.0</td>\n",
              "      <td>0.0</td>\n",
              "      <td>0.0</td>\n",
              "      <td>0.0</td>\n",
              "      <td>0.0</td>\n",
              "      <td>0.0</td>\n",
              "      <td>0.0</td>\n",
              "      <td>1.0</td>\n",
              "    </tr>\n",
              "  </tbody>\n",
              "</table>\n",
              "<p>240 rows × 29 columns</p>\n",
              "</div>"
            ],
            "text/plain": [
              "     Temperature              L          R    A_M  Type    0    1    2    3  \\\n",
              "0           3068       0.002400     0.1700  16.12     0  0.0  0.0  0.0  0.0   \n",
              "1           3042       0.000500     0.1542  16.60     0  0.0  0.0  0.0  0.0   \n",
              "2           2600       0.000300     0.1020  18.70     0  0.0  0.0  0.0  0.0   \n",
              "3           2800       0.000200     0.1600  16.65     0  0.0  0.0  0.0  0.0   \n",
              "4           1939       0.000138     0.1030  20.06     0  0.0  0.0  0.0  0.0   \n",
              "..           ...            ...        ...    ...   ...  ...  ...  ...  ...   \n",
              "235        38940  374830.000000  1356.0000  -9.93     5  1.0  0.0  0.0  0.0   \n",
              "236        30839  834042.000000  1194.0000 -10.63     5  1.0  0.0  0.0  0.0   \n",
              "237         8829  537493.000000  1423.0000 -10.73     5  0.0  0.0  0.0  0.0   \n",
              "238         9235  404940.000000  1112.0000 -11.23     5  0.0  0.0  0.0  0.0   \n",
              "239        37882  294903.000000  1783.0000  -7.80     5  1.0  0.0  0.0  0.0   \n",
              "\n",
              "       4  ...   14   15   16   17   18   19   20   21   22   23  \n",
              "0    0.0  ...  0.0  0.0  0.0  0.0  0.0  0.0  0.0  0.0  1.0  0.0  \n",
              "1    0.0  ...  0.0  0.0  0.0  0.0  0.0  0.0  0.0  0.0  1.0  0.0  \n",
              "2    0.0  ...  0.0  0.0  0.0  0.0  0.0  0.0  0.0  0.0  1.0  0.0  \n",
              "3    0.0  ...  0.0  0.0  0.0  0.0  0.0  0.0  0.0  0.0  1.0  0.0  \n",
              "4    0.0  ...  0.0  0.0  0.0  0.0  0.0  0.0  0.0  0.0  1.0  0.0  \n",
              "..   ...  ...  ...  ...  ...  ...  ...  ...  ...  ...  ...  ...  \n",
              "235  0.0  ...  0.0  0.0  0.0  0.0  0.0  0.0  0.0  0.0  0.0  1.0  \n",
              "236  0.0  ...  0.0  0.0  0.0  0.0  0.0  0.0  0.0  0.0  0.0  1.0  \n",
              "237  0.0  ...  0.0  0.0  0.0  1.0  0.0  0.0  0.0  0.0  0.0  0.0  \n",
              "238  0.0  ...  0.0  0.0  0.0  1.0  0.0  0.0  0.0  0.0  0.0  0.0  \n",
              "239  0.0  ...  0.0  0.0  0.0  0.0  0.0  0.0  0.0  0.0  0.0  1.0  \n",
              "\n",
              "[240 rows x 29 columns]"
            ]
          },
          "execution_count": 17,
          "metadata": {},
          "output_type": "execute_result"
        }
      ],
      "source": [
        "df_onehot_encoding"
      ]
    },
    {
      "cell_type": "markdown",
      "metadata": {
        "id": "6Mfxv21Fjis7"
      },
      "source": [
        "### 3.1.3 Dummy Encoding"
      ]
    },
    {
      "cell_type": "code",
      "execution_count": 18,
      "metadata": {
        "colab": {
          "base_uri": "https://localhost:8080/"
        },
        "id": "mnCAIlzSjkLZ",
        "outputId": "e89fd8d9-31cb-48c5-d742-cea7c1dc9838"
      },
      "outputs": [
        {
          "data": {
            "text/html": [
              "<div>\n",
              "<style scoped>\n",
              "    .dataframe tbody tr th:only-of-type {\n",
              "        vertical-align: middle;\n",
              "    }\n",
              "\n",
              "    .dataframe tbody tr th {\n",
              "        vertical-align: top;\n",
              "    }\n",
              "\n",
              "    .dataframe thead th {\n",
              "        text-align: right;\n",
              "    }\n",
              "</style>\n",
              "<table border=\"1\" class=\"dataframe\">\n",
              "  <thead>\n",
              "    <tr style=\"text-align: right;\">\n",
              "      <th></th>\n",
              "      <th>Temperature</th>\n",
              "      <th>L</th>\n",
              "      <th>R</th>\n",
              "      <th>A_M</th>\n",
              "      <th>Type</th>\n",
              "      <th>Blue</th>\n",
              "      <th>Blue White</th>\n",
              "      <th>Blue white</th>\n",
              "      <th>Blue-White</th>\n",
              "      <th>Blue-white</th>\n",
              "      <th>...</th>\n",
              "      <th>white</th>\n",
              "      <th>yellow-white</th>\n",
              "      <th>yellowish</th>\n",
              "      <th>A</th>\n",
              "      <th>B</th>\n",
              "      <th>F</th>\n",
              "      <th>G</th>\n",
              "      <th>K</th>\n",
              "      <th>M</th>\n",
              "      <th>O</th>\n",
              "    </tr>\n",
              "  </thead>\n",
              "  <tbody>\n",
              "    <tr>\n",
              "      <th>0</th>\n",
              "      <td>3068</td>\n",
              "      <td>0.002400</td>\n",
              "      <td>0.1700</td>\n",
              "      <td>16.12</td>\n",
              "      <td>0</td>\n",
              "      <td>0</td>\n",
              "      <td>0</td>\n",
              "      <td>0</td>\n",
              "      <td>0</td>\n",
              "      <td>0</td>\n",
              "      <td>...</td>\n",
              "      <td>0</td>\n",
              "      <td>0</td>\n",
              "      <td>0</td>\n",
              "      <td>0</td>\n",
              "      <td>0</td>\n",
              "      <td>0</td>\n",
              "      <td>0</td>\n",
              "      <td>0</td>\n",
              "      <td>1</td>\n",
              "      <td>0</td>\n",
              "    </tr>\n",
              "    <tr>\n",
              "      <th>1</th>\n",
              "      <td>3042</td>\n",
              "      <td>0.000500</td>\n",
              "      <td>0.1542</td>\n",
              "      <td>16.60</td>\n",
              "      <td>0</td>\n",
              "      <td>0</td>\n",
              "      <td>0</td>\n",
              "      <td>0</td>\n",
              "      <td>0</td>\n",
              "      <td>0</td>\n",
              "      <td>...</td>\n",
              "      <td>0</td>\n",
              "      <td>0</td>\n",
              "      <td>0</td>\n",
              "      <td>0</td>\n",
              "      <td>0</td>\n",
              "      <td>0</td>\n",
              "      <td>0</td>\n",
              "      <td>0</td>\n",
              "      <td>1</td>\n",
              "      <td>0</td>\n",
              "    </tr>\n",
              "    <tr>\n",
              "      <th>2</th>\n",
              "      <td>2600</td>\n",
              "      <td>0.000300</td>\n",
              "      <td>0.1020</td>\n",
              "      <td>18.70</td>\n",
              "      <td>0</td>\n",
              "      <td>0</td>\n",
              "      <td>0</td>\n",
              "      <td>0</td>\n",
              "      <td>0</td>\n",
              "      <td>0</td>\n",
              "      <td>...</td>\n",
              "      <td>0</td>\n",
              "      <td>0</td>\n",
              "      <td>0</td>\n",
              "      <td>0</td>\n",
              "      <td>0</td>\n",
              "      <td>0</td>\n",
              "      <td>0</td>\n",
              "      <td>0</td>\n",
              "      <td>1</td>\n",
              "      <td>0</td>\n",
              "    </tr>\n",
              "    <tr>\n",
              "      <th>3</th>\n",
              "      <td>2800</td>\n",
              "      <td>0.000200</td>\n",
              "      <td>0.1600</td>\n",
              "      <td>16.65</td>\n",
              "      <td>0</td>\n",
              "      <td>0</td>\n",
              "      <td>0</td>\n",
              "      <td>0</td>\n",
              "      <td>0</td>\n",
              "      <td>0</td>\n",
              "      <td>...</td>\n",
              "      <td>0</td>\n",
              "      <td>0</td>\n",
              "      <td>0</td>\n",
              "      <td>0</td>\n",
              "      <td>0</td>\n",
              "      <td>0</td>\n",
              "      <td>0</td>\n",
              "      <td>0</td>\n",
              "      <td>1</td>\n",
              "      <td>0</td>\n",
              "    </tr>\n",
              "    <tr>\n",
              "      <th>4</th>\n",
              "      <td>1939</td>\n",
              "      <td>0.000138</td>\n",
              "      <td>0.1030</td>\n",
              "      <td>20.06</td>\n",
              "      <td>0</td>\n",
              "      <td>0</td>\n",
              "      <td>0</td>\n",
              "      <td>0</td>\n",
              "      <td>0</td>\n",
              "      <td>0</td>\n",
              "      <td>...</td>\n",
              "      <td>0</td>\n",
              "      <td>0</td>\n",
              "      <td>0</td>\n",
              "      <td>0</td>\n",
              "      <td>0</td>\n",
              "      <td>0</td>\n",
              "      <td>0</td>\n",
              "      <td>0</td>\n",
              "      <td>1</td>\n",
              "      <td>0</td>\n",
              "    </tr>\n",
              "    <tr>\n",
              "      <th>...</th>\n",
              "      <td>...</td>\n",
              "      <td>...</td>\n",
              "      <td>...</td>\n",
              "      <td>...</td>\n",
              "      <td>...</td>\n",
              "      <td>...</td>\n",
              "      <td>...</td>\n",
              "      <td>...</td>\n",
              "      <td>...</td>\n",
              "      <td>...</td>\n",
              "      <td>...</td>\n",
              "      <td>...</td>\n",
              "      <td>...</td>\n",
              "      <td>...</td>\n",
              "      <td>...</td>\n",
              "      <td>...</td>\n",
              "      <td>...</td>\n",
              "      <td>...</td>\n",
              "      <td>...</td>\n",
              "      <td>...</td>\n",
              "      <td>...</td>\n",
              "    </tr>\n",
              "    <tr>\n",
              "      <th>235</th>\n",
              "      <td>38940</td>\n",
              "      <td>374830.000000</td>\n",
              "      <td>1356.0000</td>\n",
              "      <td>-9.93</td>\n",
              "      <td>5</td>\n",
              "      <td>1</td>\n",
              "      <td>0</td>\n",
              "      <td>0</td>\n",
              "      <td>0</td>\n",
              "      <td>0</td>\n",
              "      <td>...</td>\n",
              "      <td>0</td>\n",
              "      <td>0</td>\n",
              "      <td>0</td>\n",
              "      <td>0</td>\n",
              "      <td>0</td>\n",
              "      <td>0</td>\n",
              "      <td>0</td>\n",
              "      <td>0</td>\n",
              "      <td>0</td>\n",
              "      <td>1</td>\n",
              "    </tr>\n",
              "    <tr>\n",
              "      <th>236</th>\n",
              "      <td>30839</td>\n",
              "      <td>834042.000000</td>\n",
              "      <td>1194.0000</td>\n",
              "      <td>-10.63</td>\n",
              "      <td>5</td>\n",
              "      <td>1</td>\n",
              "      <td>0</td>\n",
              "      <td>0</td>\n",
              "      <td>0</td>\n",
              "      <td>0</td>\n",
              "      <td>...</td>\n",
              "      <td>0</td>\n",
              "      <td>0</td>\n",
              "      <td>0</td>\n",
              "      <td>0</td>\n",
              "      <td>0</td>\n",
              "      <td>0</td>\n",
              "      <td>0</td>\n",
              "      <td>0</td>\n",
              "      <td>0</td>\n",
              "      <td>1</td>\n",
              "    </tr>\n",
              "    <tr>\n",
              "      <th>237</th>\n",
              "      <td>8829</td>\n",
              "      <td>537493.000000</td>\n",
              "      <td>1423.0000</td>\n",
              "      <td>-10.73</td>\n",
              "      <td>5</td>\n",
              "      <td>0</td>\n",
              "      <td>0</td>\n",
              "      <td>0</td>\n",
              "      <td>0</td>\n",
              "      <td>0</td>\n",
              "      <td>...</td>\n",
              "      <td>0</td>\n",
              "      <td>0</td>\n",
              "      <td>0</td>\n",
              "      <td>1</td>\n",
              "      <td>0</td>\n",
              "      <td>0</td>\n",
              "      <td>0</td>\n",
              "      <td>0</td>\n",
              "      <td>0</td>\n",
              "      <td>0</td>\n",
              "    </tr>\n",
              "    <tr>\n",
              "      <th>238</th>\n",
              "      <td>9235</td>\n",
              "      <td>404940.000000</td>\n",
              "      <td>1112.0000</td>\n",
              "      <td>-11.23</td>\n",
              "      <td>5</td>\n",
              "      <td>0</td>\n",
              "      <td>0</td>\n",
              "      <td>0</td>\n",
              "      <td>0</td>\n",
              "      <td>0</td>\n",
              "      <td>...</td>\n",
              "      <td>0</td>\n",
              "      <td>0</td>\n",
              "      <td>0</td>\n",
              "      <td>1</td>\n",
              "      <td>0</td>\n",
              "      <td>0</td>\n",
              "      <td>0</td>\n",
              "      <td>0</td>\n",
              "      <td>0</td>\n",
              "      <td>0</td>\n",
              "    </tr>\n",
              "    <tr>\n",
              "      <th>239</th>\n",
              "      <td>37882</td>\n",
              "      <td>294903.000000</td>\n",
              "      <td>1783.0000</td>\n",
              "      <td>-7.80</td>\n",
              "      <td>5</td>\n",
              "      <td>1</td>\n",
              "      <td>0</td>\n",
              "      <td>0</td>\n",
              "      <td>0</td>\n",
              "      <td>0</td>\n",
              "      <td>...</td>\n",
              "      <td>0</td>\n",
              "      <td>0</td>\n",
              "      <td>0</td>\n",
              "      <td>0</td>\n",
              "      <td>0</td>\n",
              "      <td>0</td>\n",
              "      <td>0</td>\n",
              "      <td>0</td>\n",
              "      <td>0</td>\n",
              "      <td>1</td>\n",
              "    </tr>\n",
              "  </tbody>\n",
              "</table>\n",
              "<p>240 rows × 29 columns</p>\n",
              "</div>"
            ],
            "text/plain": [
              "     Temperature              L          R    A_M  Type  Blue  Blue White  \\\n",
              "0           3068       0.002400     0.1700  16.12     0     0           0   \n",
              "1           3042       0.000500     0.1542  16.60     0     0           0   \n",
              "2           2600       0.000300     0.1020  18.70     0     0           0   \n",
              "3           2800       0.000200     0.1600  16.65     0     0           0   \n",
              "4           1939       0.000138     0.1030  20.06     0     0           0   \n",
              "..           ...            ...        ...    ...   ...   ...         ...   \n",
              "235        38940  374830.000000  1356.0000  -9.93     5     1           0   \n",
              "236        30839  834042.000000  1194.0000 -10.63     5     1           0   \n",
              "237         8829  537493.000000  1423.0000 -10.73     5     0           0   \n",
              "238         9235  404940.000000  1112.0000 -11.23     5     0           0   \n",
              "239        37882  294903.000000  1783.0000  -7.80     5     1           0   \n",
              "\n",
              "     Blue white  Blue-White  Blue-white  ...  white  yellow-white  yellowish  \\\n",
              "0             0           0           0  ...      0             0          0   \n",
              "1             0           0           0  ...      0             0          0   \n",
              "2             0           0           0  ...      0             0          0   \n",
              "3             0           0           0  ...      0             0          0   \n",
              "4             0           0           0  ...      0             0          0   \n",
              "..          ...         ...         ...  ...    ...           ...        ...   \n",
              "235           0           0           0  ...      0             0          0   \n",
              "236           0           0           0  ...      0             0          0   \n",
              "237           0           0           0  ...      0             0          0   \n",
              "238           0           0           0  ...      0             0          0   \n",
              "239           0           0           0  ...      0             0          0   \n",
              "\n",
              "     A  B  F  G  K  M  O  \n",
              "0    0  0  0  0  0  1  0  \n",
              "1    0  0  0  0  0  1  0  \n",
              "2    0  0  0  0  0  1  0  \n",
              "3    0  0  0  0  0  1  0  \n",
              "4    0  0  0  0  0  1  0  \n",
              "..  .. .. .. .. .. .. ..  \n",
              "235  0  0  0  0  0  0  1  \n",
              "236  0  0  0  0  0  0  1  \n",
              "237  1  0  0  0  0  0  0  \n",
              "238  1  0  0  0  0  0  0  \n",
              "239  0  0  0  0  0  0  1  \n",
              "\n",
              "[240 rows x 29 columns]"
            ]
          },
          "execution_count": 18,
          "metadata": {},
          "output_type": "execute_result"
        }
      ],
      "source": [
        "df_dummy_encoding = df.copy()\n",
        "\n",
        "dummy_encoding_df1 = get_dummies(df_dummy_encoding.Color)\n",
        "dummy_encoding_df2 = get_dummies(df_dummy_encoding.Spectral_Class)\n",
        "\n",
        "df_dummy_encoding = df_dummy_encoding.join(dummy_encoding_df1)\n",
        "df_dummy_encoding = df_dummy_encoding.join(dummy_encoding_df2)\n",
        "df_dummy_encoding = df_dummy_encoding.drop(['Color', 'Spectral_Class'], axis = 1)\n",
        "\n",
        "df_dummy_encoding"
      ]
    },
    {
      "cell_type": "code",
      "execution_count": 19,
      "metadata": {
        "colab": {
          "base_uri": "https://localhost:8080/"
        },
        "id": "T64oMnVpV790",
        "outputId": "f15c8cf3-a698-4e81-d01d-f1c0bfb1bcb1"
      },
      "outputs": [
        {
          "data": {
            "text/html": [
              "<div>\n",
              "<style scoped>\n",
              "    .dataframe tbody tr th:only-of-type {\n",
              "        vertical-align: middle;\n",
              "    }\n",
              "\n",
              "    .dataframe tbody tr th {\n",
              "        vertical-align: top;\n",
              "    }\n",
              "\n",
              "    .dataframe thead th {\n",
              "        text-align: right;\n",
              "    }\n",
              "</style>\n",
              "<table border=\"1\" class=\"dataframe\">\n",
              "  <thead>\n",
              "    <tr style=\"text-align: right;\">\n",
              "      <th></th>\n",
              "      <th>Temperature</th>\n",
              "      <th>L</th>\n",
              "      <th>R</th>\n",
              "      <th>A_M</th>\n",
              "      <th>Type</th>\n",
              "      <th>Blue</th>\n",
              "      <th>Blue White</th>\n",
              "      <th>Blue white</th>\n",
              "      <th>Blue-White</th>\n",
              "      <th>Blue-white</th>\n",
              "      <th>...</th>\n",
              "      <th>white</th>\n",
              "      <th>yellow-white</th>\n",
              "      <th>yellowish</th>\n",
              "      <th>A</th>\n",
              "      <th>B</th>\n",
              "      <th>F</th>\n",
              "      <th>G</th>\n",
              "      <th>K</th>\n",
              "      <th>M</th>\n",
              "      <th>O</th>\n",
              "    </tr>\n",
              "  </thead>\n",
              "  <tbody>\n",
              "    <tr>\n",
              "      <th>count</th>\n",
              "      <td>240.000000</td>\n",
              "      <td>240.000000</td>\n",
              "      <td>240.000000</td>\n",
              "      <td>240.000000</td>\n",
              "      <td>240.000000</td>\n",
              "      <td>240.000000</td>\n",
              "      <td>240.000000</td>\n",
              "      <td>240.000000</td>\n",
              "      <td>240.000000</td>\n",
              "      <td>240.000000</td>\n",
              "      <td>...</td>\n",
              "      <td>240.000000</td>\n",
              "      <td>240.000000</td>\n",
              "      <td>240.000000</td>\n",
              "      <td>240.000000</td>\n",
              "      <td>240.000000</td>\n",
              "      <td>240.000000</td>\n",
              "      <td>240.000000</td>\n",
              "      <td>240.000000</td>\n",
              "      <td>240.000000</td>\n",
              "      <td>240.000000</td>\n",
              "    </tr>\n",
              "    <tr>\n",
              "      <th>mean</th>\n",
              "      <td>10497.462500</td>\n",
              "      <td>107188.361635</td>\n",
              "      <td>237.157781</td>\n",
              "      <td>0.509768</td>\n",
              "      <td>2.500000</td>\n",
              "      <td>0.233333</td>\n",
              "      <td>0.041667</td>\n",
              "      <td>0.016667</td>\n",
              "      <td>0.004167</td>\n",
              "      <td>0.108333</td>\n",
              "      <td>...</td>\n",
              "      <td>0.012500</td>\n",
              "      <td>0.033333</td>\n",
              "      <td>0.008333</td>\n",
              "      <td>0.079167</td>\n",
              "      <td>0.191667</td>\n",
              "      <td>0.070833</td>\n",
              "      <td>0.004167</td>\n",
              "      <td>0.025000</td>\n",
              "      <td>0.462500</td>\n",
              "      <td>0.166667</td>\n",
              "    </tr>\n",
              "    <tr>\n",
              "      <th>std</th>\n",
              "      <td>9552.425037</td>\n",
              "      <td>179432.244940</td>\n",
              "      <td>517.155763</td>\n",
              "      <td>0.329347</td>\n",
              "      <td>1.711394</td>\n",
              "      <td>0.423836</td>\n",
              "      <td>0.200244</td>\n",
              "      <td>0.128287</td>\n",
              "      <td>0.064550</td>\n",
              "      <td>0.311450</td>\n",
              "      <td>...</td>\n",
              "      <td>0.111335</td>\n",
              "      <td>0.179881</td>\n",
              "      <td>0.091096</td>\n",
              "      <td>0.270563</td>\n",
              "      <td>0.394435</td>\n",
              "      <td>0.257082</td>\n",
              "      <td>0.064550</td>\n",
              "      <td>0.156451</td>\n",
              "      <td>0.499634</td>\n",
              "      <td>0.373457</td>\n",
              "    </tr>\n",
              "    <tr>\n",
              "      <th>min</th>\n",
              "      <td>1939.000000</td>\n",
              "      <td>0.000080</td>\n",
              "      <td>0.008400</td>\n",
              "      <td>0.000000</td>\n",
              "      <td>0.000000</td>\n",
              "      <td>0.000000</td>\n",
              "      <td>0.000000</td>\n",
              "      <td>0.000000</td>\n",
              "      <td>0.000000</td>\n",
              "      <td>0.000000</td>\n",
              "      <td>...</td>\n",
              "      <td>0.000000</td>\n",
              "      <td>0.000000</td>\n",
              "      <td>0.000000</td>\n",
              "      <td>0.000000</td>\n",
              "      <td>0.000000</td>\n",
              "      <td>0.000000</td>\n",
              "      <td>0.000000</td>\n",
              "      <td>0.000000</td>\n",
              "      <td>0.000000</td>\n",
              "      <td>0.000000</td>\n",
              "    </tr>\n",
              "    <tr>\n",
              "      <th>25%</th>\n",
              "      <td>3344.250000</td>\n",
              "      <td>0.000865</td>\n",
              "      <td>0.102750</td>\n",
              "      <td>0.177846</td>\n",
              "      <td>1.000000</td>\n",
              "      <td>0.000000</td>\n",
              "      <td>0.000000</td>\n",
              "      <td>0.000000</td>\n",
              "      <td>0.000000</td>\n",
              "      <td>0.000000</td>\n",
              "      <td>...</td>\n",
              "      <td>0.000000</td>\n",
              "      <td>0.000000</td>\n",
              "      <td>0.000000</td>\n",
              "      <td>0.000000</td>\n",
              "      <td>0.000000</td>\n",
              "      <td>0.000000</td>\n",
              "      <td>0.000000</td>\n",
              "      <td>0.000000</td>\n",
              "      <td>0.000000</td>\n",
              "      <td>0.000000</td>\n",
              "    </tr>\n",
              "    <tr>\n",
              "      <th>50%</th>\n",
              "      <td>5776.000000</td>\n",
              "      <td>0.070500</td>\n",
              "      <td>0.762500</td>\n",
              "      <td>0.632677</td>\n",
              "      <td>2.500000</td>\n",
              "      <td>0.000000</td>\n",
              "      <td>0.000000</td>\n",
              "      <td>0.000000</td>\n",
              "      <td>0.000000</td>\n",
              "      <td>0.000000</td>\n",
              "      <td>...</td>\n",
              "      <td>0.000000</td>\n",
              "      <td>0.000000</td>\n",
              "      <td>0.000000</td>\n",
              "      <td>0.000000</td>\n",
              "      <td>0.000000</td>\n",
              "      <td>0.000000</td>\n",
              "      <td>0.000000</td>\n",
              "      <td>0.000000</td>\n",
              "      <td>0.000000</td>\n",
              "      <td>0.000000</td>\n",
              "    </tr>\n",
              "    <tr>\n",
              "      <th>75%</th>\n",
              "      <td>15055.500000</td>\n",
              "      <td>198050.000000</td>\n",
              "      <td>42.750000</td>\n",
              "      <td>0.801048</td>\n",
              "      <td>4.000000</td>\n",
              "      <td>0.000000</td>\n",
              "      <td>0.000000</td>\n",
              "      <td>0.000000</td>\n",
              "      <td>0.000000</td>\n",
              "      <td>0.000000</td>\n",
              "      <td>...</td>\n",
              "      <td>0.000000</td>\n",
              "      <td>0.000000</td>\n",
              "      <td>0.000000</td>\n",
              "      <td>0.000000</td>\n",
              "      <td>0.000000</td>\n",
              "      <td>0.000000</td>\n",
              "      <td>0.000000</td>\n",
              "      <td>0.000000</td>\n",
              "      <td>1.000000</td>\n",
              "      <td>0.000000</td>\n",
              "    </tr>\n",
              "    <tr>\n",
              "      <th>max</th>\n",
              "      <td>40000.000000</td>\n",
              "      <td>849420.000000</td>\n",
              "      <td>1948.500000</td>\n",
              "      <td>1.000000</td>\n",
              "      <td>5.000000</td>\n",
              "      <td>1.000000</td>\n",
              "      <td>1.000000</td>\n",
              "      <td>1.000000</td>\n",
              "      <td>1.000000</td>\n",
              "      <td>1.000000</td>\n",
              "      <td>...</td>\n",
              "      <td>1.000000</td>\n",
              "      <td>1.000000</td>\n",
              "      <td>1.000000</td>\n",
              "      <td>1.000000</td>\n",
              "      <td>1.000000</td>\n",
              "      <td>1.000000</td>\n",
              "      <td>1.000000</td>\n",
              "      <td>1.000000</td>\n",
              "      <td>1.000000</td>\n",
              "      <td>1.000000</td>\n",
              "    </tr>\n",
              "  </tbody>\n",
              "</table>\n",
              "<p>8 rows × 29 columns</p>\n",
              "</div>"
            ],
            "text/plain": [
              "        Temperature              L            R         A_M        Type  \\\n",
              "count    240.000000     240.000000   240.000000  240.000000  240.000000   \n",
              "mean   10497.462500  107188.361635   237.157781    0.509768    2.500000   \n",
              "std     9552.425037  179432.244940   517.155763    0.329347    1.711394   \n",
              "min     1939.000000       0.000080     0.008400    0.000000    0.000000   \n",
              "25%     3344.250000       0.000865     0.102750    0.177846    1.000000   \n",
              "50%     5776.000000       0.070500     0.762500    0.632677    2.500000   \n",
              "75%    15055.500000  198050.000000    42.750000    0.801048    4.000000   \n",
              "max    40000.000000  849420.000000  1948.500000    1.000000    5.000000   \n",
              "\n",
              "             Blue  Blue White  Blue white  Blue-White  Blue-white  ...  \\\n",
              "count  240.000000  240.000000  240.000000  240.000000  240.000000  ...   \n",
              "mean     0.233333    0.041667    0.016667    0.004167    0.108333  ...   \n",
              "std      0.423836    0.200244    0.128287    0.064550    0.311450  ...   \n",
              "min      0.000000    0.000000    0.000000    0.000000    0.000000  ...   \n",
              "25%      0.000000    0.000000    0.000000    0.000000    0.000000  ...   \n",
              "50%      0.000000    0.000000    0.000000    0.000000    0.000000  ...   \n",
              "75%      0.000000    0.000000    0.000000    0.000000    0.000000  ...   \n",
              "max      1.000000    1.000000    1.000000    1.000000    1.000000  ...   \n",
              "\n",
              "            white  yellow-white   yellowish           A           B  \\\n",
              "count  240.000000    240.000000  240.000000  240.000000  240.000000   \n",
              "mean     0.012500      0.033333    0.008333    0.079167    0.191667   \n",
              "std      0.111335      0.179881    0.091096    0.270563    0.394435   \n",
              "min      0.000000      0.000000    0.000000    0.000000    0.000000   \n",
              "25%      0.000000      0.000000    0.000000    0.000000    0.000000   \n",
              "50%      0.000000      0.000000    0.000000    0.000000    0.000000   \n",
              "75%      0.000000      0.000000    0.000000    0.000000    0.000000   \n",
              "max      1.000000      1.000000    1.000000    1.000000    1.000000   \n",
              "\n",
              "                F           G           K           M           O  \n",
              "count  240.000000  240.000000  240.000000  240.000000  240.000000  \n",
              "mean     0.070833    0.004167    0.025000    0.462500    0.166667  \n",
              "std      0.257082    0.064550    0.156451    0.499634    0.373457  \n",
              "min      0.000000    0.000000    0.000000    0.000000    0.000000  \n",
              "25%      0.000000    0.000000    0.000000    0.000000    0.000000  \n",
              "50%      0.000000    0.000000    0.000000    0.000000    0.000000  \n",
              "75%      0.000000    0.000000    0.000000    1.000000    0.000000  \n",
              "max      1.000000    1.000000    1.000000    1.000000    1.000000  \n",
              "\n",
              "[8 rows x 29 columns]"
            ]
          },
          "execution_count": 19,
          "metadata": {},
          "output_type": "execute_result"
        }
      ],
      "source": [
        "from sklearn.preprocessing import MinMaxScaler\n",
        "scaler = MinMaxScaler()\n",
        "\n",
        "numpy_array = df_dummy_encoding.A_M.to_numpy()\n",
        "scaled = scaler.fit_transform(numpy_array.reshape(-1,1))\n",
        "\n",
        "df_dummy_encoding_mnb = df_dummy_encoding.copy()\n",
        "df_dummy_encoding_mnb.A_M = scaled\n",
        "df_dummy_encoding_mnb.describe()"
      ]
    },
    {
      "cell_type": "markdown",
      "metadata": {
        "id": "qxjlERXKW3Co"
      },
      "source": [
        "## 3.2 PCA"
      ]
    },
    {
      "cell_type": "code",
      "execution_count": 20,
      "metadata": {
        "id": "eCIeHQDOW6zp"
      },
      "outputs": [],
      "source": [
        "from sklearn.decomposition import PCA"
      ]
    },
    {
      "cell_type": "code",
      "execution_count": 21,
      "metadata": {
        "id": "MWXx9-9HW6XV"
      },
      "outputs": [],
      "source": [
        "pca_8comp = PCA(n_components = 8, whiten = True)\n",
        "pca_5comp = PCA(n_components = 5, whiten = True)"
      ]
    },
    {
      "cell_type": "markdown",
      "metadata": {
        "id": "gyt30w0ToCfV"
      },
      "source": [
        "### 8 Component"
      ]
    },
    {
      "cell_type": "code",
      "execution_count": 22,
      "metadata": {
        "colab": {
          "base_uri": "https://localhost:8080/"
        },
        "id": "9-RNo-2JkBDn",
        "outputId": "6e7bd91d-8575-4c81-f800-627158125ddd"
      },
      "outputs": [
        {
          "name": "stdout",
          "output_type": "stream",
          "text": [
            "[0.46683476 0.20916857 0.09265388 0.05298693 0.04343655 0.02853525\n",
            " 0.02068657 0.01756955]\n",
            "0.9318720456910119\n"
          ]
        }
      ],
      "source": [
        "df_8comp = df_dummy_encoding_mnb.iloc[:,5:22]\n",
        "pca1 = pca_8comp.fit(df_8comp)\n",
        "print(pca1.explained_variance_ratio_)\n",
        "print(sum(pca1.explained_variance_ratio_))"
      ]
    },
    {
      "cell_type": "markdown",
      "metadata": {
        "id": "DX16ApqtoHrG"
      },
      "source": [
        "### 5 Component"
      ]
    },
    {
      "cell_type": "code",
      "execution_count": 23,
      "metadata": {
        "colab": {
          "base_uri": "https://localhost:8080/"
        },
        "id": "tcTY2veslsPv",
        "outputId": "ae8c9e3e-bd99-4d38-c1d3-c771b4eb45f0"
      },
      "outputs": [
        {
          "name": "stdout",
          "output_type": "stream",
          "text": [
            "[0.46683476 0.20916857 0.09265388 0.05298693 0.04343655]\n",
            "0.86508067536931\n"
          ]
        }
      ],
      "source": [
        "df_5comp = df_dummy_encoding_mnb.iloc[:,5:22]\n",
        "pca2 = pca_5comp.fit(df_5comp)\n",
        "print(pca2.explained_variance_ratio_)\n",
        "print(sum(pca2.explained_variance_ratio_))"
      ]
    },
    {
      "cell_type": "markdown",
      "metadata": {
        "id": "zm5nis6Lpbra"
      },
      "source": [
        "## 3.3 Normalization\n",
        "\n",
        "\n",
        "*   MinMaxScaler\n",
        "*   StandardScaler\n",
        "*   Normalizer\n",
        "\n"
      ]
    },
    {
      "cell_type": "markdown",
      "metadata": {
        "id": "beHqytvS-O8D"
      },
      "source": [
        "### 3.3.1 MinMaxScaler"
      ]
    },
    {
      "cell_type": "code",
      "execution_count": 26,
      "metadata": {
        "id": "ZT05MkBlpi5K"
      },
      "outputs": [],
      "source": [
        "from sklearn.preprocessing import MinMaxScaler\n",
        "minmaxscaler = MinMaxScaler()"
      ]
    },
    {
      "cell_type": "code",
      "execution_count": 27,
      "metadata": {
        "colab": {
          "base_uri": "https://localhost:8080/",
          "height": 212
        },
        "id": "BeZYhT_ypirk",
        "outputId": "b778f116-24e9-41c3-d24b-7aa2e4ac2795"
      },
      "outputs": [
        {
          "data": {
            "text/html": [
              "<div>\n",
              "<style scoped>\n",
              "    .dataframe tbody tr th:only-of-type {\n",
              "        vertical-align: middle;\n",
              "    }\n",
              "\n",
              "    .dataframe tbody tr th {\n",
              "        vertical-align: top;\n",
              "    }\n",
              "\n",
              "    .dataframe thead th {\n",
              "        text-align: right;\n",
              "    }\n",
              "</style>\n",
              "<table border=\"1\" class=\"dataframe\">\n",
              "  <thead>\n",
              "    <tr style=\"text-align: right;\">\n",
              "      <th></th>\n",
              "      <th>Temperature</th>\n",
              "      <th>L</th>\n",
              "      <th>R</th>\n",
              "      <th>A_M</th>\n",
              "      <th>Type</th>\n",
              "      <th>Blue</th>\n",
              "      <th>Blue White</th>\n",
              "      <th>Blue white</th>\n",
              "      <th>Blue-White</th>\n",
              "      <th>Blue-white</th>\n",
              "      <th>...</th>\n",
              "      <th>white</th>\n",
              "      <th>yellow-white</th>\n",
              "      <th>yellowish</th>\n",
              "      <th>A</th>\n",
              "      <th>B</th>\n",
              "      <th>F</th>\n",
              "      <th>G</th>\n",
              "      <th>K</th>\n",
              "      <th>M</th>\n",
              "      <th>O</th>\n",
              "    </tr>\n",
              "  </thead>\n",
              "  <tbody>\n",
              "    <tr>\n",
              "      <th>0</th>\n",
              "      <td>0.029663</td>\n",
              "      <td>2.731275e-09</td>\n",
              "      <td>0.000083</td>\n",
              "      <td>0.876798</td>\n",
              "      <td>0</td>\n",
              "      <td>0</td>\n",
              "      <td>0</td>\n",
              "      <td>0</td>\n",
              "      <td>0</td>\n",
              "      <td>0</td>\n",
              "      <td>...</td>\n",
              "      <td>0</td>\n",
              "      <td>0</td>\n",
              "      <td>0</td>\n",
              "      <td>0</td>\n",
              "      <td>0</td>\n",
              "      <td>0</td>\n",
              "      <td>0</td>\n",
              "      <td>0</td>\n",
              "      <td>1</td>\n",
              "      <td>0</td>\n",
              "    </tr>\n",
              "    <tr>\n",
              "      <th>1</th>\n",
              "      <td>0.028980</td>\n",
              "      <td>4.944550e-10</td>\n",
              "      <td>0.000075</td>\n",
              "      <td>0.891807</td>\n",
              "      <td>0</td>\n",
              "      <td>0</td>\n",
              "      <td>0</td>\n",
              "      <td>0</td>\n",
              "      <td>0</td>\n",
              "      <td>0</td>\n",
              "      <td>...</td>\n",
              "      <td>0</td>\n",
              "      <td>0</td>\n",
              "      <td>0</td>\n",
              "      <td>0</td>\n",
              "      <td>0</td>\n",
              "      <td>0</td>\n",
              "      <td>0</td>\n",
              "      <td>0</td>\n",
              "      <td>1</td>\n",
              "      <td>0</td>\n",
              "    </tr>\n",
              "    <tr>\n",
              "      <th>2</th>\n",
              "      <td>0.017367</td>\n",
              "      <td>2.590003e-10</td>\n",
              "      <td>0.000048</td>\n",
              "      <td>0.957473</td>\n",
              "      <td>0</td>\n",
              "      <td>0</td>\n",
              "      <td>0</td>\n",
              "      <td>0</td>\n",
              "      <td>0</td>\n",
              "      <td>0</td>\n",
              "      <td>...</td>\n",
              "      <td>0</td>\n",
              "      <td>0</td>\n",
              "      <td>0</td>\n",
              "      <td>0</td>\n",
              "      <td>0</td>\n",
              "      <td>0</td>\n",
              "      <td>0</td>\n",
              "      <td>0</td>\n",
              "      <td>1</td>\n",
              "      <td>0</td>\n",
              "    </tr>\n",
              "    <tr>\n",
              "      <th>3</th>\n",
              "      <td>0.022622</td>\n",
              "      <td>1.412729e-10</td>\n",
              "      <td>0.000078</td>\n",
              "      <td>0.893371</td>\n",
              "      <td>0</td>\n",
              "      <td>0</td>\n",
              "      <td>0</td>\n",
              "      <td>0</td>\n",
              "      <td>0</td>\n",
              "      <td>0</td>\n",
              "      <td>...</td>\n",
              "      <td>0</td>\n",
              "      <td>0</td>\n",
              "      <td>0</td>\n",
              "      <td>0</td>\n",
              "      <td>0</td>\n",
              "      <td>0</td>\n",
              "      <td>0</td>\n",
              "      <td>0</td>\n",
              "      <td>1</td>\n",
              "      <td>0</td>\n",
              "    </tr>\n",
              "    <tr>\n",
              "      <th>4</th>\n",
              "      <td>0.000000</td>\n",
              "      <td>6.828189e-11</td>\n",
              "      <td>0.000049</td>\n",
              "      <td>1.000000</td>\n",
              "      <td>0</td>\n",
              "      <td>0</td>\n",
              "      <td>0</td>\n",
              "      <td>0</td>\n",
              "      <td>0</td>\n",
              "      <td>0</td>\n",
              "      <td>...</td>\n",
              "      <td>0</td>\n",
              "      <td>0</td>\n",
              "      <td>0</td>\n",
              "      <td>0</td>\n",
              "      <td>0</td>\n",
              "      <td>0</td>\n",
              "      <td>0</td>\n",
              "      <td>0</td>\n",
              "      <td>1</td>\n",
              "      <td>0</td>\n",
              "    </tr>\n",
              "  </tbody>\n",
              "</table>\n",
              "<p>5 rows × 29 columns</p>\n",
              "</div>"
            ],
            "text/plain": [
              "   Temperature             L         R       A_M  Type  Blue  Blue White  \\\n",
              "0     0.029663  2.731275e-09  0.000083  0.876798     0     0           0   \n",
              "1     0.028980  4.944550e-10  0.000075  0.891807     0     0           0   \n",
              "2     0.017367  2.590003e-10  0.000048  0.957473     0     0           0   \n",
              "3     0.022622  1.412729e-10  0.000078  0.893371     0     0           0   \n",
              "4     0.000000  6.828189e-11  0.000049  1.000000     0     0           0   \n",
              "\n",
              "   Blue white  Blue-White  Blue-white  ...  white  yellow-white  yellowish  A  \\\n",
              "0           0           0           0  ...      0             0          0  0   \n",
              "1           0           0           0  ...      0             0          0  0   \n",
              "2           0           0           0  ...      0             0          0  0   \n",
              "3           0           0           0  ...      0             0          0  0   \n",
              "4           0           0           0  ...      0             0          0  0   \n",
              "\n",
              "   B  F  G  K  M  O  \n",
              "0  0  0  0  0  1  0  \n",
              "1  0  0  0  0  1  0  \n",
              "2  0  0  0  0  1  0  \n",
              "3  0  0  0  0  1  0  \n",
              "4  0  0  0  0  1  0  \n",
              "\n",
              "[5 rows x 29 columns]"
            ]
          },
          "execution_count": 27,
          "metadata": {},
          "output_type": "execute_result"
        }
      ],
      "source": [
        "df_mmscaler = df_dummy_encoding_mnb.iloc[:,0:4]\n",
        "df_dummy_encoding_mnb.iloc[:,0:4] = minmaxscaler.fit_transform(df_mmscaler)\n",
        "\n",
        "df_dummy_encoding_mnb.head()"
      ]
    },
    {
      "cell_type": "markdown",
      "metadata": {
        "id": "axXaHtHBYVyY"
      },
      "source": [
        "### 3.3.2 StandardScaler"
      ]
    },
    {
      "cell_type": "code",
      "execution_count": 28,
      "metadata": {
        "id": "S2dEptWnYa0X"
      },
      "outputs": [],
      "source": [
        "from sklearn.preprocessing import StandardScaler\n",
        "standartscaler = StandardScaler()"
      ]
    },
    {
      "cell_type": "code",
      "execution_count": 29,
      "metadata": {
        "colab": {
          "base_uri": "https://localhost:8080/"
        },
        "id": "YbkVZqcfYao8",
        "outputId": "804c9264-be71-4c24-ab03-5c8a9952f28e"
      },
      "outputs": [
        {
          "data": {
            "text/html": [
              "<div>\n",
              "<style scoped>\n",
              "    .dataframe tbody tr th:only-of-type {\n",
              "        vertical-align: middle;\n",
              "    }\n",
              "\n",
              "    .dataframe tbody tr th {\n",
              "        vertical-align: top;\n",
              "    }\n",
              "\n",
              "    .dataframe thead th {\n",
              "        text-align: right;\n",
              "    }\n",
              "</style>\n",
              "<table border=\"1\" class=\"dataframe\">\n",
              "  <thead>\n",
              "    <tr style=\"text-align: right;\">\n",
              "      <th></th>\n",
              "      <th>Temperature</th>\n",
              "      <th>L</th>\n",
              "      <th>R</th>\n",
              "      <th>A_M</th>\n",
              "      <th>Type</th>\n",
              "      <th>Blue</th>\n",
              "      <th>Blue White</th>\n",
              "      <th>Blue white</th>\n",
              "      <th>Blue-White</th>\n",
              "      <th>Blue-white</th>\n",
              "      <th>...</th>\n",
              "      <th>white</th>\n",
              "      <th>yellow-white</th>\n",
              "      <th>yellowish</th>\n",
              "      <th>A</th>\n",
              "      <th>B</th>\n",
              "      <th>F</th>\n",
              "      <th>G</th>\n",
              "      <th>K</th>\n",
              "      <th>M</th>\n",
              "      <th>O</th>\n",
              "    </tr>\n",
              "  </thead>\n",
              "  <tbody>\n",
              "    <tr>\n",
              "      <th>0</th>\n",
              "      <td>-0.779382</td>\n",
              "      <td>-0.598624</td>\n",
              "      <td>-0.459210</td>\n",
              "      <td>1.116745</td>\n",
              "      <td>0</td>\n",
              "      <td>0</td>\n",
              "      <td>0</td>\n",
              "      <td>0</td>\n",
              "      <td>0</td>\n",
              "      <td>0</td>\n",
              "      <td>...</td>\n",
              "      <td>0</td>\n",
              "      <td>0</td>\n",
              "      <td>0</td>\n",
              "      <td>0</td>\n",
              "      <td>0</td>\n",
              "      <td>0</td>\n",
              "      <td>0</td>\n",
              "      <td>0</td>\n",
              "      <td>1</td>\n",
              "      <td>0</td>\n",
              "    </tr>\n",
              "    <tr>\n",
              "      <th>1</th>\n",
              "      <td>-0.782110</td>\n",
              "      <td>-0.598624</td>\n",
              "      <td>-0.459241</td>\n",
              "      <td>1.162414</td>\n",
              "      <td>0</td>\n",
              "      <td>0</td>\n",
              "      <td>0</td>\n",
              "      <td>0</td>\n",
              "      <td>0</td>\n",
              "      <td>0</td>\n",
              "      <td>...</td>\n",
              "      <td>0</td>\n",
              "      <td>0</td>\n",
              "      <td>0</td>\n",
              "      <td>0</td>\n",
              "      <td>0</td>\n",
              "      <td>0</td>\n",
              "      <td>0</td>\n",
              "      <td>0</td>\n",
              "      <td>1</td>\n",
              "      <td>0</td>\n",
              "    </tr>\n",
              "    <tr>\n",
              "      <th>2</th>\n",
              "      <td>-0.828477</td>\n",
              "      <td>-0.598624</td>\n",
              "      <td>-0.459342</td>\n",
              "      <td>1.362213</td>\n",
              "      <td>0</td>\n",
              "      <td>0</td>\n",
              "      <td>0</td>\n",
              "      <td>0</td>\n",
              "      <td>0</td>\n",
              "      <td>0</td>\n",
              "      <td>...</td>\n",
              "      <td>0</td>\n",
              "      <td>0</td>\n",
              "      <td>0</td>\n",
              "      <td>0</td>\n",
              "      <td>0</td>\n",
              "      <td>0</td>\n",
              "      <td>0</td>\n",
              "      <td>0</td>\n",
              "      <td>1</td>\n",
              "      <td>0</td>\n",
              "    </tr>\n",
              "    <tr>\n",
              "      <th>3</th>\n",
              "      <td>-0.807496</td>\n",
              "      <td>-0.598624</td>\n",
              "      <td>-0.459229</td>\n",
              "      <td>1.167171</td>\n",
              "      <td>0</td>\n",
              "      <td>0</td>\n",
              "      <td>0</td>\n",
              "      <td>0</td>\n",
              "      <td>0</td>\n",
              "      <td>0</td>\n",
              "      <td>...</td>\n",
              "      <td>0</td>\n",
              "      <td>0</td>\n",
              "      <td>0</td>\n",
              "      <td>0</td>\n",
              "      <td>0</td>\n",
              "      <td>0</td>\n",
              "      <td>0</td>\n",
              "      <td>0</td>\n",
              "      <td>1</td>\n",
              "      <td>0</td>\n",
              "    </tr>\n",
              "    <tr>\n",
              "      <th>4</th>\n",
              "      <td>-0.897819</td>\n",
              "      <td>-0.598624</td>\n",
              "      <td>-0.459340</td>\n",
              "      <td>1.491607</td>\n",
              "      <td>0</td>\n",
              "      <td>0</td>\n",
              "      <td>0</td>\n",
              "      <td>0</td>\n",
              "      <td>0</td>\n",
              "      <td>0</td>\n",
              "      <td>...</td>\n",
              "      <td>0</td>\n",
              "      <td>0</td>\n",
              "      <td>0</td>\n",
              "      <td>0</td>\n",
              "      <td>0</td>\n",
              "      <td>0</td>\n",
              "      <td>0</td>\n",
              "      <td>0</td>\n",
              "      <td>1</td>\n",
              "      <td>0</td>\n",
              "    </tr>\n",
              "  </tbody>\n",
              "</table>\n",
              "<p>5 rows × 29 columns</p>\n",
              "</div>"
            ],
            "text/plain": [
              "   Temperature         L         R       A_M  Type  Blue  Blue White  \\\n",
              "0    -0.779382 -0.598624 -0.459210  1.116745     0     0           0   \n",
              "1    -0.782110 -0.598624 -0.459241  1.162414     0     0           0   \n",
              "2    -0.828477 -0.598624 -0.459342  1.362213     0     0           0   \n",
              "3    -0.807496 -0.598624 -0.459229  1.167171     0     0           0   \n",
              "4    -0.897819 -0.598624 -0.459340  1.491607     0     0           0   \n",
              "\n",
              "   Blue white  Blue-White  Blue-white  ...  white  yellow-white  yellowish  A  \\\n",
              "0           0           0           0  ...      0             0          0  0   \n",
              "1           0           0           0  ...      0             0          0  0   \n",
              "2           0           0           0  ...      0             0          0  0   \n",
              "3           0           0           0  ...      0             0          0  0   \n",
              "4           0           0           0  ...      0             0          0  0   \n",
              "\n",
              "   B  F  G  K  M  O  \n",
              "0  0  0  0  0  1  0  \n",
              "1  0  0  0  0  1  0  \n",
              "2  0  0  0  0  1  0  \n",
              "3  0  0  0  0  1  0  \n",
              "4  0  0  0  0  1  0  \n",
              "\n",
              "[5 rows x 29 columns]"
            ]
          },
          "execution_count": 29,
          "metadata": {},
          "output_type": "execute_result"
        }
      ],
      "source": [
        "df_sscaler = df_dummy_encoding_mnb.iloc[:,0:4]\n",
        "df_dummy_encoding_mnb.iloc[:,0:4] = standartscaler.fit_transform(df_sscaler)\n",
        "\n",
        "df_dummy_encoding_mnb.head()"
      ]
    },
    {
      "cell_type": "markdown",
      "metadata": {
        "id": "GYbrcLIoZoP4"
      },
      "source": [
        "### 3.3.3 Normalizer"
      ]
    },
    {
      "cell_type": "code",
      "execution_count": 30,
      "metadata": {
        "id": "40D9w-7HZqiC"
      },
      "outputs": [],
      "source": [
        "from sklearn.preprocessing import Normalizer\n",
        "normalizer = Normalizer()"
      ]
    },
    {
      "cell_type": "code",
      "execution_count": 31,
      "metadata": {
        "id": "e15j6EIaZuCC"
      },
      "outputs": [],
      "source": [
        "#df_norm = df_dummy_encoding_mnb.iloc[:,0:4]\n",
        "#df_dummy_encoding_mnb.iloc[:,0:4] = normalizer.fit_transform(df_norm)\n",
        "\n",
        "#df_dummy_encoding_mnb.head()"
      ]
    },
    {
      "cell_type": "markdown",
      "metadata": {
        "id": "Ylour9LZN9Qy"
      },
      "source": [
        "# 4.Model Building"
      ]
    },
    {
      "cell_type": "markdown",
      "metadata": {
        "id": "Uw0vFbNXNxss"
      },
      "source": [
        "## 4.1 Train Test Split"
      ]
    },
    {
      "cell_type": "code",
      "execution_count": null,
      "metadata": {
        "colab": {
          "base_uri": "https://localhost:8080/"
        },
        "id": "GfAA5C4EWZcS",
        "outputId": "17229f1b-5986-489f-a3b2-cd6509763b9d"
      },
      "outputs": [
        {
          "name": "stdout",
          "output_type": "stream",
          "text": [
            "(240,)\n"
          ]
        }
      ],
      "source": [
        "#star types\n",
        "types = df_dummy_encoding_mnb.iloc[:,4].values\n",
        "print(types.shape)"
      ]
    },
    {
      "cell_type": "code",
      "execution_count": null,
      "metadata": {
        "colab": {
          "base_uri": "https://localhost:8080/"
        },
        "id": "cZsui5M5WZXB",
        "outputId": "19681e5c-b59c-4033-b5e6-f95da865f9ef"
      },
      "outputs": [
        {
          "name": "stdout",
          "output_type": "stream",
          "text": [
            "(240, 28)\n"
          ]
        }
      ],
      "source": [
        "#star features\n",
        "df_X = df_dummy_encoding_mnb.drop(['Type'], axis = 1)\n",
        "print(df_X.shape)"
      ]
    },
    {
      "cell_type": "code",
      "execution_count": null,
      "metadata": {
        "colab": {
          "base_uri": "https://localhost:8080/"
        },
        "id": "f6QW6-XXsu7b",
        "outputId": "b88bf454-c456-45fe-cea2-6e334ab247f7"
      },
      "outputs": [
        {
          "name": "stdout",
          "output_type": "stream",
          "text": [
            "(168, 28)\n",
            "(168,)\n",
            "(72,)\n"
          ]
        }
      ],
      "source": [
        "X_train, X_test, y_train, y_test = train_test_split(df_X,types,test_size=0.30,random_state=44)\n",
        "print(X_train.shape)\n",
        "print(y_train.shape)\n",
        "print(y_test.reshape(-1).shape)"
      ]
    },
    {
      "cell_type": "code",
      "execution_count": null,
      "metadata": {
        "id": "g49FYesM8F1g"
      },
      "outputs": [],
      "source": [
        "y_train_flatten = y_train.reshape(-1)\n",
        "y_yest_flatten = y_test.reshape(-1)"
      ]
    },
    {
      "cell_type": "markdown",
      "metadata": {
        "id": "qOJdF_8_Ay1r"
      },
      "source": [
        "## 4.2 Naive Bayes\n",
        "GaussianNB, BernoulliNB and MultinomialNB "
      ]
    },
    {
      "cell_type": "code",
      "execution_count": null,
      "metadata": {
        "id": "SgfYwnKju-pn"
      },
      "outputs": [],
      "source": [
        "gaussianNB = GaussianNB()\n",
        "bernoulliNB = BernoulliNB()\n",
        "multinomialNB = MultinomialNB()"
      ]
    },
    {
      "cell_type": "code",
      "execution_count": null,
      "metadata": {
        "colab": {
          "base_uri": "https://localhost:8080/"
        },
        "id": "XN6-m04nu-kH",
        "outputId": "844a3ecc-b7f7-47e7-f055-2026aa581f9a"
      },
      "outputs": [
        {
          "data": {
            "text/plain": [
              "MultinomialNB(alpha=1.0, class_prior=None, fit_prior=True)"
            ]
          },
          "execution_count": 141,
          "metadata": {
            "tags": []
          },
          "output_type": "execute_result"
        }
      ],
      "source": [
        "gaussianNB.fit(X_train, y_train_flatten)\n",
        "bernoulliNB.fit(X_train, y_train_flatten)\n",
        "multinomialNB.fit(X_train, y_train_flatten"
      ]
    },
    {
      "cell_type": "code",
      "execution_count": null,
      "metadata": {
        "id": "tiaLE6xV0sVw"
      },
      "outputs": [],
      "source": [
        "result_gnb = gaussianNB.predict(X_test)\n",
        "result_bnb = bernoulliNB.predict(X_test)\n",
        "result_mnb = multinomialNB.predict(X_test)"
      ]
    },
    {
      "cell_type": "markdown",
      "metadata": {
        "id": "gEa093om6cWq"
      },
      "source": [
        "### Accuracy / Loss"
      ]
    },
    {
      "cell_type": "code",
      "execution_count": null,
      "metadata": {
        "colab": {
          "base_uri": "https://localhost:8080/"
        },
        "id": "tkJ3hZMF2eSA",
        "outputId": "914946a9-1216-4836-a024-37999a3b1a2a"
      },
      "outputs": [
        {
          "name": "stdout",
          "output_type": "stream",
          "text": [
            "GaussianNB Acc: 0.97,  BernoulliNB Acc: 0.56,  MultinomialNB Acc: 0.67\n",
            "GaussianNB MSE Loss: 0.03,  BernoulliNB MSE Loss: 3.85,  MultinomialNB MSE Loss: 1.00\n"
          ]
        }
      ],
      "source": [
        "from sklearn.metrics import accuracy_score, classification_report, precision_score, recall_score, mean_squared_error\n",
        "accuracy_gnb = accuracy_score(y_test, result_gnb)\n",
        "accuracy_bnb = accuracy_score(y_test, result_bnb)\n",
        "accuracy_mnb = accuracy_score(y_test, result_mnb)\n",
        "\n",
        "loss_gnb = mean_squared_error(y_test, result_gnb)\n",
        "loss_bnb = mean_squared_error(y_test, result_bnb)\n",
        "loss_mnb = mean_squared_error(y_test, result_mnb)\n",
        "\n",
        "print('GaussianNB Acc: {:.2f},  BernoulliNB Acc: {:.2f},  MultinomialNB Acc: {:.2f}'.format(accuracy_gnb, accuracy_bnb, accuracy_mnb))\n",
        "print('GaussianNB MSE Loss: {:.2f},  BernoulliNB MSE Loss: {:.2f},  MultinomialNB MSE Loss: {:.2f}'.format(loss_gnb, loss_bnb, loss_mnb))"
      ]
    },
    {
      "cell_type": "code",
      "execution_count": null,
      "metadata": {
        "colab": {
          "base_uri": "https://localhost:8080/"
        },
        "id": "oqlg5P5f3ZAK",
        "outputId": "09addc34-4321-48f5-8f82-fc5d05a4bf28"
      },
      "outputs": [
        {
          "name": "stdout",
          "output_type": "stream",
          "text": [
            "              precision    recall  f1-score   support\n",
            "\n",
            "           0       1.00      1.00      1.00        14\n",
            "           1       1.00      1.00      1.00        15\n",
            "           2       1.00      1.00      1.00         7\n",
            "           3       1.00      0.80      0.89        10\n",
            "           4       0.89      1.00      0.94        17\n",
            "           5       1.00      1.00      1.00         9\n",
            "\n",
            "    accuracy                           0.97        72\n",
            "   macro avg       0.98      0.97      0.97        72\n",
            "weighted avg       0.98      0.97      0.97        72\n",
            "\n"
          ]
        }
      ],
      "source": [
        "print(classification_report(y_test, result_gnb))#sensitivity = recall, specificity = precision    "
      ]
    },
    {
      "cell_type": "code",
      "execution_count": null,
      "metadata": {
        "colab": {
          "base_uri": "https://localhost:8080/"
        },
        "id": "iZf50XfwEdae",
        "outputId": "76d08ab8-78f4-4388-e453-8cdac13ca251"
      },
      "outputs": [
        {
          "name": "stdout",
          "output_type": "stream",
          "text": [
            "              precision    recall  f1-score   support\n",
            "\n",
            "           0       0.34      1.00      0.51        14\n",
            "           1       1.00      0.00      0.00        15\n",
            "           2       0.88      1.00      0.93         7\n",
            "           3       0.89      0.80      0.84        10\n",
            "           4       0.79      0.65      0.71        17\n",
            "           5       1.00      0.00      0.00         9\n",
            "\n",
            "    accuracy                           0.56        72\n",
            "   macro avg       0.82      0.57      0.50        72\n",
            "weighted avg       0.79      0.56      0.47        72\n",
            "\n"
          ]
        }
      ],
      "source": [
        "print(classification_report(y_test, result_bnb, zero_division = 1))"
      ]
    },
    {
      "cell_type": "code",
      "execution_count": null,
      "metadata": {
        "colab": {
          "base_uri": "https://localhost:8080/"
        },
        "id": "nZOOiEusEnbD",
        "outputId": "36869873-eb45-40ea-c642-c19acffc412a"
      },
      "outputs": [
        {
          "name": "stdout",
          "output_type": "stream",
          "text": [
            "              precision    recall  f1-score   support\n",
            "\n",
            "           0       0.48      1.00      0.65        14\n",
            "           1       0.00      0.00      0.00        15\n",
            "           2       1.00      1.00      1.00         7\n",
            "           3       1.00      0.80      0.89        10\n",
            "           4       0.79      0.65      0.71        17\n",
            "           5       1.00      0.89      0.94         9\n",
            "\n",
            "    accuracy                           0.67        72\n",
            "   macro avg       0.71      0.72      0.70        72\n",
            "weighted avg       0.64      0.67      0.63        72\n",
            "\n"
          ]
        }
      ],
      "source": [
        "print(classification_report(y_test, result_mnb, zero_division = 1))"
      ]
    },
    {
      "cell_type": "markdown",
      "metadata": {
        "id": "vNs05-XJ4H_j"
      },
      "source": [
        "### Confusion Matrix"
      ]
    },
    {
      "cell_type": "code",
      "execution_count": null,
      "metadata": {
        "colab": {
          "base_uri": "https://localhost:8080/"
        },
        "id": "skp-PaJTKCZt",
        "outputId": "aba605d3-773b-4cde-df76-3ddddd8ac2c4"
      },
      "outputs": [
        {
          "data": {
            "text/plain": [
              "<matplotlib.axes._subplots.AxesSubplot at 0x7f73e759f650>"
            ]
          },
          "execution_count": 147,
          "metadata": {
            "tags": []
          },
          "output_type": "execute_result"
        },
        {
          "data": {
            "image/png": "[encoded data removed]",
            "text/plain": [
              "<Figure size 864x576 with 2 Axes>"
            ]
          },
          "metadata": {
            "needs_background": "light",
            "tags": []
          },
          "output_type": "display_data"
        }
      ],
      "source": [
        "from sklearn.metrics import confusion_matrix\n",
        "from sklearn.metrics import plot_confusion_matrix\n",
        "classes = ['Red Dwarf', 'Brown Dwarf', 'White Dwarf', 'Main Sequence', 'Super Giants', 'Hyper Giants']\n",
        "\n",
        "plt.figure(figsize = (12,8))\n",
        "sns.heatmap(confusion_matrix(y_test,result_gnb), annot=True,\n",
        "            xticklabels = classes, yticklabels = classes)"
      ]
    },
    {
      "cell_type": "code",
      "execution_count": null,
      "metadata": {
        "colab": {
          "base_uri": "https://localhost:8080/"
        },
        "id": "Ku9pAf7qKCQz",
        "outputId": "b5cd1684-b057-49f9-cb74-fabb6dcb385b"
      },
      "outputs": [
        {
          "data": {
            "text/plain": [
              "<matplotlib.axes._subplots.AxesSubplot at 0x7f73e747de90>"
            ]
          },
          "execution_count": 148,
          "metadata": {
            "tags": []
          },
          "output_type": "execute_result"
        },
        {
          "data": {
            "image/png": "[encoded data removed]",
            "text/plain": [
              "<Figure size 864x576 with 2 Axes>"
            ]
          },
          "metadata": {
            "needs_background": "light",
            "tags": []
          },
          "output_type": "display_data"
        }
      ],
      "source": [
        "plt.figure(figsize = (12,8))\n",
        "sns.heatmap(confusion_matrix(y_test,result_bnb), annot=True,\n",
        "            xticklabels = classes, yticklabels = classes)"
      ]
    },
    {
      "cell_type": "code",
      "execution_count": null,
      "metadata": {
        "colab": {
          "base_uri": "https://localhost:8080/"
        },
        "id": "hNVd25YTKB_V",
        "outputId": "7a330af3-da1d-4ec7-8502-295557e487a7"
      },
      "outputs": [
        {
          "data": {
            "text/plain": [
              "<matplotlib.axes._subplots.AxesSubplot at 0x7f73e7377f90>"
            ]
          },
          "execution_count": 149,
          "metadata": {
            "tags": []
          },
          "output_type": "execute_result"
        },
        {
          "data": {
            "image/png": "[encoded data removed]",
            "text/plain": [
              "<Figure size 864x576 with 2 Axes>"
            ]
          },
          "metadata": {
            "needs_background": "light",
            "tags": []
          },
          "output_type": "display_data"
        }
      ],
      "source": [
        "plt.figure(figsize = (12,8))\n",
        "sns.heatmap(confusion_matrix(y_test,result_mnb), annot=True,\n",
        "            xticklabels = classes, yticklabels = classes)"
      ]
    },
    {
      "cell_type": "markdown",
      "metadata": {
        "id": "n4vatwp7ZOWb"
      },
      "source": [
        "### Prediction"
      ]
    },
    {
      "cell_type": "code",
      "execution_count": null,
      "metadata": {
        "id": "7iB763apDj96"
      },
      "outputs": [],
      "source": [
        "def class_name(x):\n",
        "  return classes[x[0]]"
      ]
    },
    {
      "cell_type": "code",
      "execution_count": null,
      "metadata": {
        "colab": {
          "base_uri": "https://localhost:8080/"
        },
        "id": "XTAJW8nzn13A",
        "outputId": "d7f3e048-be7f-4f85-d79b-0260796b7da3"
      },
      "outputs": [
        {
          "name": "stdout",
          "output_type": "stream",
          "text": [
            "Super Giants\n"
          ]
        }
      ],
      "source": [
        "item = gaussianNB.predict(X_test.iloc[0].to_numpy().reshape(1,-1))\n",
        "print(class_name(item))"
      ]
    },
    {
      "cell_type": "markdown",
      "metadata": {
        "id": "j3YfkPL9BFcw"
      },
      "source": [
        "## 4.3 SVM"
      ]
    },
    {
      "cell_type": "code",
      "execution_count": null,
      "metadata": {
        "colab": {
          "base_uri": "https://localhost:8080/"
        },
        "id": "CIeV70rzBD6h",
        "outputId": "9417475b-f714-40bd-c6f2-8d5e3b5cb27e"
      },
      "outputs": [
        {
          "data": {
            "text/plain": [
              "SVC(C=1.0, break_ties=False, cache_size=200, class_weight=None, coef0=0.0,\n",
              "    decision_function_shape='ovr', degree=3, gamma='scale', kernel='sigmoid',\n",
              "    max_iter=-1, probability=False, random_state=0, shrinking=True, tol=0.001,\n",
              "    verbose=False)"
            ]
          },
          "execution_count": 152,
          "metadata": {
            "tags": []
          },
          "output_type": "execute_result"
        }
      ],
      "source": [
        "from sklearn.svm import SVC\n",
        "\n",
        "svc_l = SVC(kernel='linear', random_state = 0)\n",
        "svc_l.fit(X_train, y_train)\n",
        "\n",
        "svc_p = SVC(kernel='poly', random_state = 0)\n",
        "svc_p.fit(X_train, y_train)\n",
        "\n",
        "svc_s = SVC(kernel='sigmoid', random_state = 0)\n",
        "svc_s.fit(X_train, y_train)"
      ]
    },
    {
      "cell_type": "markdown",
      "metadata": {
        "id": "WAStGRunEdmg"
      },
      "source": [
        "### Accuracy / Loss"
      ]
    },
    {
      "cell_type": "code",
      "execution_count": null,
      "metadata": {
        "colab": {
          "base_uri": "https://localhost:8080/"
        },
        "id": "DJjrQodsDnKE",
        "outputId": "7daf97eb-906b-46fd-a5d2-d43bc36d75b3"
      },
      "outputs": [
        {
          "name": "stdout",
          "output_type": "stream",
          "text": [
            "SVM Linear Acc: 0.83,  SVM Linear Loss: 0.17\n",
            "SVM Poly Acc: 0.97,  SVM Poly Loss: 0.03\n",
            "SVM Sigmoid Acc: 0.68,  SVM Sigmoid Loss: 1.57\n"
          ]
        }
      ],
      "source": [
        "result_svc_l = svc_l.predict(X_test)\n",
        "\n",
        "accuracy_svc_l = accuracy_score(y_test, result_svc_l)\n",
        "loss_svc_l = mean_squared_error(y_test, result_svc_l)\n",
        "\n",
        "result_svc_p = svc_p.predict(X_test)\n",
        "\n",
        "accuracy_svc_p = accuracy_score(y_test, result_svc_p)\n",
        "loss_svc_p = mean_squared_error(y_test, result_svc_p)\n",
        "\n",
        "result_svc_s = svc_s.predict(X_test)\n",
        "\n",
        "accuracy_svc_s = accuracy_score(y_test, result_svc_s)\n",
        "loss_svc_s = mean_squared_error(y_test, result_svc_s)\n",
        "\n",
        "print('SVM Linear Acc: {:.2f},  SVM Linear Loss: {:.2f}'.format(accuracy_svc_l, loss_svc_l))\n",
        "print('SVM Poly Acc: {:.2f},  SVM Poly Loss: {:.2f}'.format(accuracy_svc_p, loss_svc_p))\n",
        "print('SVM Sigmoid Acc: {:.2f},  SVM Sigmoid Loss: {:.2f}'.format(accuracy_svc_s, loss_svc_s))"
      ]
    },
    {
      "cell_type": "code",
      "execution_count": null,
      "metadata": {
        "colab": {
          "base_uri": "https://localhost:8080/"
        },
        "id": "wzBkhKZND90D",
        "outputId": "1f2c1e4e-5e38-451a-f023-bf5cc62d18a7"
      },
      "outputs": [
        {
          "name": "stdout",
          "output_type": "stream",
          "text": [
            "              precision    recall  f1-score   support\n",
            "\n",
            "           0       0.58      1.00      0.74        14\n",
            "           1       1.00      0.33      0.50        15\n",
            "           2       1.00      1.00      1.00         7\n",
            "           3       1.00      0.80      0.89        10\n",
            "           4       0.89      1.00      0.94        17\n",
            "           5       1.00      1.00      1.00         9\n",
            "\n",
            "    accuracy                           0.83        72\n",
            "   macro avg       0.91      0.86      0.85        72\n",
            "weighted avg       0.89      0.83      0.82        72\n",
            "\n"
          ]
        }
      ],
      "source": [
        "print(classification_report(y_test, result_svc_l))"
      ]
    },
    {
      "cell_type": "code",
      "execution_count": null,
      "metadata": {
        "colab": {
          "base_uri": "https://localhost:8080/"
        },
        "id": "Z1Lj6xYvMI6w",
        "outputId": "8570dbc2-befc-4edf-f344-3201262fa35f"
      },
      "outputs": [
        {
          "name": "stdout",
          "output_type": "stream",
          "text": [
            "              precision    recall  f1-score   support\n",
            "\n",
            "           0       1.00      1.00      1.00        14\n",
            "           1       1.00      1.00      1.00        15\n",
            "           2       1.00      1.00      1.00         7\n",
            "           3       1.00      0.80      0.89        10\n",
            "           4       0.89      1.00      0.94        17\n",
            "           5       1.00      1.00      1.00         9\n",
            "\n",
            "    accuracy                           0.97        72\n",
            "   macro avg       0.98      0.97      0.97        72\n",
            "weighted avg       0.98      0.97      0.97        72\n",
            "\n"
          ]
        }
      ],
      "source": [
        "print(classification_report(y_test, result_svc_p))"
      ]
    },
    {
      "cell_type": "code",
      "execution_count": null,
      "metadata": {
        "colab": {
          "base_uri": "https://localhost:8080/"
        },
        "id": "Pez1DTgaMIu7",
        "outputId": "a5aceca5-ba37-4754-a616-510b6e932ba7"
      },
      "outputs": [
        {
          "name": "stdout",
          "output_type": "stream",
          "text": [
            "              precision    recall  f1-score   support\n",
            "\n",
            "           0       0.40      1.00      0.57        14\n",
            "           1       0.00      0.00      0.00        15\n",
            "           2       1.00      1.00      1.00         7\n",
            "           3       1.00      0.80      0.89        10\n",
            "           4       0.85      0.65      0.73        17\n",
            "           5       1.00      1.00      1.00         9\n",
            "\n",
            "    accuracy                           0.68        72\n",
            "   macro avg       0.71      0.74      0.70        72\n",
            "weighted avg       0.64      0.68      0.63        72\n",
            "\n"
          ]
        },
        {
          "name": "stderr",
          "output_type": "stream",
          "text": [
            "/usr/local/lib/python3.7/dist-packages/sklearn/metrics/_classification.py:1272: UndefinedMetricWarning: Precision and F-score are ill-defined and being set to 0.0 in labels with no predicted samples. Use `zero_division` parameter to control this behavior.\n",
            "  _warn_prf(average, modifier, msg_start, len(result))\n"
          ]
        }
      ],
      "source": [
        "print(classification_report(y_test, result_svc_s))"
      ]
    },
    {
      "cell_type": "markdown",
      "metadata": {
        "id": "ouPVYxHTHRgO"
      },
      "source": [
        "### Confusion Matrix"
      ]
    },
    {
      "cell_type": "code",
      "execution_count": null,
      "metadata": {
        "colab": {
          "base_uri": "https://localhost:8080/"
        },
        "id": "KOY--RWWEK1r",
        "outputId": "6567cf8e-8b4e-4563-af4d-afb71a71d76a"
      },
      "outputs": [
        {
          "data": {
            "text/plain": [
              "<matplotlib.axes._subplots.AxesSubplot at 0x7f73e720f410>"
            ]
          },
          "execution_count": 157,
          "metadata": {
            "tags": []
          },
          "output_type": "execute_result"
        },
        {
          "data": {
            "image/png": "[encoded data removed]",
            "text/plain": [
              "<Figure size 864x576 with 2 Axes>"
            ]
          },
          "metadata": {
            "needs_background": "light",
            "tags": []
          },
          "output_type": "display_data"
        }
      ],
      "source": [
        "classes = ['Red Dwarf', 'Brown Dwarf', 'White Dwarf', 'Main Sequence', 'Super Giants', 'Hyper Giants']\n",
        "\n",
        "plt.figure(figsize = (12,8))\n",
        "sns.heatmap(confusion_matrix(y_test, result_svc_l), annot=True,\n",
        "            xticklabels = classes, yticklabels = classes)"
      ]
    },
    {
      "cell_type": "code",
      "execution_count": null,
      "metadata": {
        "colab": {
          "base_uri": "https://localhost:8080/"
        },
        "id": "FTa0AuZYMK-w",
        "outputId": "667d2f58-0f99-48ae-9c52-27be24869c95"
      },
      "outputs": [
        {
          "data": {
            "text/plain": [
              "<matplotlib.axes._subplots.AxesSubplot at 0x7f73e70ffd10>"
            ]
          },
          "execution_count": 158,
          "metadata": {
            "tags": []
          },
          "output_type": "execute_result"
        },
        {
          "data": {
            "image/png": "[encoded data removed]",
            "text/plain": [
              "<Figure size 864x576 with 2 Axes>"
            ]
          },
          "metadata": {
            "needs_background": "light",
            "tags": []
          },
          "output_type": "display_data"
        }
      ],
      "source": [
        "plt.figure(figsize = (12,8))\n",
        "sns.heatmap(confusion_matrix(y_test, result_svc_p), annot=True,\n",
        "            xticklabels = classes, yticklabels = classes)"
      ]
    },
    {
      "cell_type": "code",
      "execution_count": null,
      "metadata": {
        "colab": {
          "base_uri": "https://localhost:8080/"
        },
        "id": "pCRkALu5MLZd",
        "outputId": "55aef4ce-2fc2-42a3-c0db-d5fa8a72a3f7"
      },
      "outputs": [
        {
          "data": {
            "text/plain": [
              "<matplotlib.axes._subplots.AxesSubplot at 0x7f73e71147d0>"
            ]
          },
          "execution_count": 159,
          "metadata": {
            "tags": []
          },
          "output_type": "execute_result"
        },
        {
          "data": {
            "image/png": "[encoded data removed]",
            "text/plain": [
              "<Figure size 864x576 with 2 Axes>"
            ]
          },
          "metadata": {
            "needs_background": "light",
            "tags": []
          },
          "output_type": "display_data"
        }
      ],
      "source": [
        "plt.figure(figsize = (12,8))\n",
        "sns.heatmap(confusion_matrix(y_test, result_svc_s), annot=True,\n",
        "            xticklabels = classes, yticklabels = classes)"
      ]
    },
    {
      "cell_type": "markdown",
      "metadata": {
        "id": "rLxEF37SHXgx"
      },
      "source": [
        "### Prediction"
      ]
    },
    {
      "cell_type": "code",
      "execution_count": null,
      "metadata": {
        "colab": {
          "base_uri": "https://localhost:8080/"
        },
        "id": "cgh0HLgRER6P",
        "outputId": "4c1f7e4b-6fe8-49db-895d-5d6517770ab3"
      },
      "outputs": [
        {
          "name": "stdout",
          "output_type": "stream",
          "text": [
            "Super Giants\n"
          ]
        }
      ],
      "source": [
        "item = svc_l.predict(X_test.iloc[0].to_numpy().reshape(1,-1))\n",
        "print(class_name(item))"
      ]
    },
    {
      "cell_type": "markdown",
      "metadata": {
        "id": "3XVTiSd6Ho_c"
      },
      "source": [
        "## 4.4 Neural Network"
      ]
    },
    {
      "cell_type": "code",
      "execution_count": null,
      "metadata": {
        "colab": {
          "base_uri": "https://localhost:8080/"
        },
        "id": "4lnqbl2XHris",
        "outputId": "8940e4c4-fe55-4a48-d560-8fc6c67022df"
      },
      "outputs": [
        {
          "name": "stderr",
          "output_type": "stream",
          "text": [
            "/usr/local/lib/python3.7/dist-packages/sklearn/neural_network/_multilayer_perceptron.py:571: ConvergenceWarning: Stochastic Optimizer: Maximum iterations (300) reached and the optimization hasn't converged yet.\n",
            "  % self.max_iter, ConvergenceWarning)\n",
            "/usr/local/lib/python3.7/dist-packages/sklearn/neural_network/_multilayer_perceptron.py:571: ConvergenceWarning: Stochastic Optimizer: Maximum iterations (450) reached and the optimization hasn't converged yet.\n",
            "  % self.max_iter, ConvergenceWarning)\n",
            "/usr/local/lib/python3.7/dist-packages/sklearn/neural_network/_multilayer_perceptron.py:571: ConvergenceWarning: Stochastic Optimizer: Maximum iterations (600) reached and the optimization hasn't converged yet.\n",
            "  % self.max_iter, ConvergenceWarning)\n"
          ]
        },
        {
          "data": {
            "text/plain": [
              "MLPClassifier(activation='relu', alpha=0.0001, batch_size='auto', beta_1=0.9,\n",
              "              beta_2=0.999, early_stopping=False, epsilon=1e-08,\n",
              "              hidden_layer_sizes=100, learning_rate='constant',\n",
              "              learning_rate_init=0.001, max_fun=15000, max_iter=600,\n",
              "              momentum=0.9, n_iter_no_change=10, nesterovs_momentum=True,\n",
              "              power_t=0.5, random_state=0, shuffle=True, solver='adam',\n",
              "              tol=0.0001, validation_fraction=0.1, verbose=False,\n",
              "              warm_start=False)"
            ]
          },
          "execution_count": 208,
          "metadata": {
            "tags": []
          },
          "output_type": "execute_result"
        }
      ],
      "source": [
        "from sklearn.neural_network import MLPClassifier\n",
        "\n",
        "clf_t = MLPClassifier(random_state=0, hidden_layer_sizes=50, activation='tanh', max_iter=300) \n",
        "clf_t.fit(X_train, y_train)\n",
        "\n",
        "clf450_r = MLPClassifier(random_state=0, hidden_layer_sizes=50, activation='relu', max_iter=450)\n",
        "clf450_r.fit(X_train, y_train)\n",
        "\n",
        "clf600_r = MLPClassifier(random_state=0, hidden_layer_sizes=100, activation='relu', max_iter=600)\n",
        "clf600_r.fit(X_train, y_train)"
      ]
    },
    {
      "cell_type": "code",
      "execution_count": null,
      "metadata": {
        "colab": {
          "base_uri": "https://localhost:8080/"
        },
        "id": "BhHQUgK8IEeu",
        "outputId": "7945da86-ff90-4f95-ebfc-1dbf45c82902"
      },
      "outputs": [
        {
          "name": "stdout",
          "output_type": "stream",
          "text": [
            "50 hidden layer, activation tanh, iteration 300\n",
            "NN Acc: 0.79,  NN Loss: 0.88\n",
            "------------------------------------\n",
            "100 hidden layer, activation relu, iteration 450\n",
            "NN Acc: 0.96,  NN Loss: 0.04\n",
            "------------------------------------\n",
            "200 hidden layer, activation relu, iteration 600\n",
            "NN Acc: 1.00,  NN Loss: 0.00\n"
          ]
        }
      ],
      "source": [
        "result_clf_t = clf_t.predict(X_test)\n",
        "\n",
        "accuracy_clf_t = accuracy_score(y_test, result_clf_t)\n",
        "loss_clf_t = mean_squared_error(y_test, result_clf_t)\n",
        "\n",
        "print('50 hidden layer, activation tanh, iteration 300')\n",
        "print('NN Acc: {:.2f},  NN Loss: {:.2f}'.format(accuracy_clf_t, loss_clf_t))\n",
        "print('------------------------------------')\n",
        "\n",
        "result_clf450_r = clf450_r.predict(X_test)\n",
        "\n",
        "accuracy_clf450_r = accuracy_score(y_test, result_clf450_r)\n",
        "loss_clf450_r = mean_squared_error(y_test, result_clf450_r)\n",
        "\n",
        "print('100 hidden layer, activation relu, iteration 450')\n",
        "print('NN Acc: {:.2f},  NN Loss: {:.2f}'.format(accuracy_clf450_r, loss_clf450_r))\n",
        "print('------------------------------------')\n",
        "\n",
        "result_clf600_r = clf600_r.predict(X_test)\n",
        "\n",
        "accuracy_clf600_r = accuracy_score(y_test, result_clf600_r)\n",
        "loss_clf600_r = mean_squared_error(y_test, result_clf600_r)\n",
        "\n",
        "print('200 hidden layer, activation relu, iteration 600')\n",
        "print('NN Acc: {:.2f},  NN Loss: {:.2f}'.format(accuracy_clf600_r, loss_clf600_r))"
      ]
    },
    {
      "cell_type": "code",
      "execution_count": null,
      "metadata": {
        "colab": {
          "base_uri": "https://localhost:8080/"
        },
        "id": "kaMQL-ffWbos",
        "outputId": "47a18712-b48a-434d-f86a-d3c24b121e3f"
      },
      "outputs": [
        {
          "name": "stdout",
          "output_type": "stream",
          "text": [
            "              precision    recall  f1-score   support\n",
            "\n",
            "           0       0.67      1.00      0.80        14\n",
            "           1       0.57      0.53      0.55        15\n",
            "           2       1.00      1.00      1.00         7\n",
            "           3       1.00      0.80      0.89        10\n",
            "           4       0.85      0.65      0.73        17\n",
            "           5       1.00      1.00      1.00         9\n",
            "\n",
            "    accuracy                           0.79        72\n",
            "   macro avg       0.85      0.83      0.83        72\n",
            "weighted avg       0.81      0.79      0.79        72\n",
            "\n"
          ]
        }
      ],
      "source": [
        "print(classification_report(y_test, result_clf_t))"
      ]
    },
    {
      "cell_type": "code",
      "execution_count": null,
      "metadata": {
        "colab": {
          "base_uri": "https://localhost:8080/"
        },
        "id": "HrhKCF8nWTSj",
        "outputId": "529ad6d4-a810-4920-fb58-4b60c51fea8a"
      },
      "outputs": [
        {
          "name": "stdout",
          "output_type": "stream",
          "text": [
            "              precision    recall  f1-score   support\n",
            "\n",
            "           0       0.88      1.00      0.93        14\n",
            "           1       1.00      0.87      0.93        15\n",
            "           2       1.00      1.00      1.00         7\n",
            "           3       1.00      0.90      0.95        10\n",
            "           4       0.94      1.00      0.97        17\n",
            "           5       1.00      1.00      1.00         9\n",
            "\n",
            "    accuracy                           0.96        72\n",
            "   macro avg       0.97      0.96      0.96        72\n",
            "weighted avg       0.96      0.96      0.96        72\n",
            "\n"
          ]
        }
      ],
      "source": [
        "print(classification_report(y_test, result_clf450_r))"
      ]
    },
    {
      "cell_type": "code",
      "execution_count": null,
      "metadata": {
        "colab": {
          "base_uri": "https://localhost:8080/"
        },
        "id": "d9lGPEKmSkv8",
        "outputId": "28e8fdcf-138f-4b75-8bec-6b8dbd33a355"
      },
      "outputs": [
        {
          "name": "stdout",
          "output_type": "stream",
          "text": [
            "              precision    recall  f1-score   support\n",
            "\n",
            "           0       1.00      1.00      1.00        14\n",
            "           1       1.00      1.00      1.00        15\n",
            "           2       1.00      1.00      1.00         7\n",
            "           3       1.00      1.00      1.00        10\n",
            "           4       1.00      1.00      1.00        17\n",
            "           5       1.00      1.00      1.00         9\n",
            "\n",
            "    accuracy                           1.00        72\n",
            "   macro avg       1.00      1.00      1.00        72\n",
            "weighted avg       1.00      1.00      1.00        72\n",
            "\n"
          ]
        }
      ],
      "source": [
        "print(classification_report(y_test, result_clf600_r))"
      ]
    },
    {
      "cell_type": "code",
      "execution_count": null,
      "metadata": {
        "colab": {
          "base_uri": "https://localhost:8080/"
        },
        "id": "kXwdyFMWWXl-",
        "outputId": "0bd71e6c-0de0-4b34-fd57-fb23ff38ca68"
      },
      "outputs": [
        {
          "data": {
            "text/plain": [
              "<matplotlib.axes._subplots.AxesSubplot at 0x7f73e9e21710>"
            ]
          },
          "execution_count": 166,
          "metadata": {
            "tags": []
          },
          "output_type": "execute_result"
        },
        {
          "data": {
            "image/png": "[encoded data removed]",
            "text/plain": [
              "<Figure size 864x576 with 2 Axes>"
            ]
          },
          "metadata": {
            "needs_background": "light",
            "tags": []
          },
          "output_type": "display_data"
        }
      ],
      "source": [
        "classes = ['Red Dwarf', 'Brown Dwarf', 'White Dwarf', 'Main Sequence', 'Super Giants', 'Hyper Giants']\n",
        "\n",
        "plt.figure(figsize = (12,8))\n",
        "sns.heatmap(confusion_matrix(y_test, result_clf_t), annot=True,\n",
        "            xticklabels = classes, yticklabels = classes)"
      ]
    },
    {
      "cell_type": "code",
      "execution_count": null,
      "metadata": {
        "colab": {
          "base_uri": "https://localhost:8080/"
        },
        "id": "78m9ElbRWlcN",
        "outputId": "b437fd48-b31f-4156-f33f-a7af625dc8cb"
      },
      "outputs": [
        {
          "data": {
            "text/plain": [
              "<matplotlib.axes._subplots.AxesSubplot at 0x7f73eb6cb850>"
            ]
          },
          "execution_count": 167,
          "metadata": {
            "tags": []
          },
          "output_type": "execute_result"
        },
        {
          "data": {
            "image/png": "[encoded data removed]",
            "text/plain": [
              "<Figure size 864x576 with 2 Axes>"
            ]
          },
          "metadata": {
            "needs_background": "light",
            "tags": []
          },
          "output_type": "display_data"
        }
      ],
      "source": [
        "plt.figure(figsize = (12,8))\n",
        "sns.heatmap(confusion_matrix(y_test, result_clf450_r), annot=True,\n",
        "            xticklabels = classes, yticklabels = classes)"
      ]
    },
    {
      "cell_type": "code",
      "execution_count": null,
      "metadata": {
        "colab": {
          "base_uri": "https://localhost:8080/"
        },
        "id": "jwIbm7rZTWYm",
        "outputId": "e25c8802-cb04-4b02-9c0b-aa4c4aa52594"
      },
      "outputs": [
        {
          "data": {
            "text/plain": [
              "<matplotlib.axes._subplots.AxesSubplot at 0x7f73eabf8190>"
            ]
          },
          "execution_count": 168,
          "metadata": {
            "tags": []
          },
          "output_type": "execute_result"
        },
        {
          "data": {
            "image/png": "[encoded data removed]",
            "text/plain": [
              "<Figure size 864x576 with 2 Axes>"
            ]
          },
          "metadata": {
            "needs_background": "light",
            "tags": []
          },
          "output_type": "display_data"
        }
      ],
      "source": [
        "plt.figure(figsize = (12,8))\n",
        "sns.heatmap(confusion_matrix(y_test, result_clf600_r), annot=True,\n",
        "            xticklabels = classes, yticklabels = classes)"
      ]
    },
    {
      "cell_type": "code",
      "execution_count": null,
      "metadata": {
        "colab": {
          "base_uri": "https://localhost:8080/"
        },
        "id": "u4DS220LWonE",
        "outputId": "e689e662-4dbc-4213-fdab-9fad47e84b20"
      },
      "outputs": [
        {
          "name": "stdout",
          "output_type": "stream",
          "text": [
            "Super Giants\n"
          ]
        }
      ],
      "source": [
        "item = clf450_r.predict(X_test.iloc[0].to_numpy().reshape(1,-1))\n",
        "print(class_name(item))"
      ]
    },
    {
      "cell_type": "markdown",
      "metadata": {
        "id": "aXDeOAf8Wz0T"
      },
      "source": [
        "## 4.5 K-NN"
      ]
    },
    {
      "cell_type": "code",
      "execution_count": null,
      "metadata": {
        "colab": {
          "base_uri": "https://localhost:8080/"
        },
        "id": "0GxyQ7VgWy6M",
        "outputId": "bd1aecc7-668b-4bfc-d2a7-85c4f9f738fc"
      },
      "outputs": [
        {
          "data": {
            "text/plain": [
              "KNeighborsClassifier(algorithm='auto', leaf_size=30, metric='minkowski',\n",
              "                     metric_params=None, n_jobs=None, n_neighbors=5, p=2,\n",
              "                     weights='uniform')"
            ]
          },
          "execution_count": 210,
          "metadata": {
            "tags": []
          },
          "output_type": "execute_result"
        }
      ],
      "source": [
        "from sklearn.neighbors import KNeighborsClassifier\n",
        "\n",
        "knn_50 = KNeighborsClassifier(n_neighbors=50, metric='minkowski', p = 2)\n",
        "knn_50.fit(X_train, y_train)\n",
        "\n",
        "knn_10 = KNeighborsClassifier(n_neighbors=10, metric='minkowski', p = 2)\n",
        "knn_10.fit(X_train, y_train)\n",
        "\n",
        "knn_5 = KNeighborsClassifier(n_neighbors=5, metric='minkowski', p = 2)\n",
        "knn_5.fit(X_train, y_train)"
      ]
    },
    {
      "cell_type": "code",
      "execution_count": null,
      "metadata": {
        "colab": {
          "base_uri": "https://localhost:8080/"
        },
        "id": "6nIU9y9oYrTs",
        "outputId": "3ddec010-2f18-4550-9e9b-3cdf3a58f237"
      },
      "outputs": [
        {
          "name": "stdout",
          "output_type": "stream",
          "text": [
            "K-NN N=50 Acc: 0.53,  K-NN Loss: 2.54\n",
            "K-NN N=10 Acc: 0.85,  K-NN Loss: 0.46\n",
            "K-NN N=5 Acc: 0.99,  K-NN Loss: 0.12\n"
          ]
        }
      ],
      "source": [
        "result_knn_50 = knn_50.predict(X_test)\n",
        "\n",
        "accuracy_knn_50 = accuracy_score(y_test, result_knn_50)\n",
        "loss_knn_50 = mean_squared_error(y_test, result_knn_50)\n",
        "\n",
        "print('K-NN N=50 Acc: {:.2f},  K-NN Loss: {:.2f}'.format(accuracy_knn_50, loss_knn_50))\n",
        "\n",
        "\n",
        "result_knn_10 = knn_10.predict(X_test)\n",
        "\n",
        "accuracy_knn_10 = accuracy_score(y_test, result_knn_10)\n",
        "loss_knn_10 = mean_squared_error(y_test, result_knn_10)\n",
        "\n",
        "print('K-NN N=10 Acc: {:.2f},  K-NN Loss: {:.2f}'.format(accuracy_knn_10, loss_knn_10))\n",
        "\n",
        "\n",
        "result_knn_5 = knn_5.predict(X_test)\n",
        "\n",
        "accuracy_knn_5 = accuracy_score(y_test, result_knn_5)\n",
        "loss_knn_5 = mean_squared_error(y_test, result_knn_5)\n",
        "\n",
        "print('K-NN N=5 Acc: {:.2f},  K-NN Loss: {:.2f}'.format(accuracy_knn_5, loss_knn_5))"
      ]
    },
    {
      "cell_type": "code",
      "execution_count": null,
      "metadata": {
        "colab": {
          "base_uri": "https://localhost:8080/"
        },
        "id": "5jD1YPXfY-_F",
        "outputId": "fe35420b-0e1d-4fc5-b5f2-0abe89560a9f"
      },
      "outputs": [
        {
          "name": "stdout",
          "output_type": "stream",
          "text": [
            "              precision    recall  f1-score   support\n",
            "\n",
            "           0       0.48      1.00      0.65        14\n",
            "           1       0.00      0.00      0.00        15\n",
            "           2       0.70      1.00      0.82         7\n",
            "           3       1.00      0.50      0.67        10\n",
            "           4       0.79      0.65      0.71        17\n",
            "           5       1.00      0.11      0.20         9\n",
            "\n",
            "    accuracy                           0.53        72\n",
            "   macro avg       0.66      0.54      0.51        72\n",
            "weighted avg       0.61      0.53      0.49        72\n",
            "\n"
          ]
        }
      ],
      "source": [
        "print(classification_report(y_test, result_knn_50))"
      ]
    },
    {
      "cell_type": "code",
      "execution_count": null,
      "metadata": {
        "colab": {
          "base_uri": "https://localhost:8080/"
        },
        "id": "NVTL0YChT1WE",
        "outputId": "b5f53b0a-1a03-4e57-8e08-67c64085b2db"
      },
      "outputs": [
        {
          "name": "stdout",
          "output_type": "stream",
          "text": [
            "              precision    recall  f1-score   support\n",
            "\n",
            "           0       1.00      1.00      1.00        14\n",
            "           1       0.88      1.00      0.94        15\n",
            "           2       1.00      1.00      1.00         7\n",
            "           3       0.80      0.80      0.80        10\n",
            "           4       0.79      0.65      0.71        17\n",
            "           5       0.60      0.67      0.63         9\n",
            "\n",
            "    accuracy                           0.85        72\n",
            "   macro avg       0.84      0.85      0.85        72\n",
            "weighted avg       0.85      0.85      0.84        72\n",
            "\n"
          ]
        }
      ],
      "source": [
        "print(classification_report(y_test, result_knn_10))"
      ]
    },
    {
      "cell_type": "code",
      "execution_count": null,
      "metadata": {
        "colab": {
          "base_uri": "https://localhost:8080/"
        },
        "id": "cG3Hi053T2jE",
        "outputId": "3454b897-fc0b-4a54-c70c-e6ed09545d95"
      },
      "outputs": [
        {
          "name": "stdout",
          "output_type": "stream",
          "text": [
            "              precision    recall  f1-score   support\n",
            "\n",
            "           0       1.00      1.00      1.00        14\n",
            "           1       1.00      1.00      1.00        15\n",
            "           2       0.88      1.00      0.93         7\n",
            "           3       1.00      1.00      1.00        10\n",
            "           4       1.00      1.00      1.00        17\n",
            "           5       1.00      0.89      0.94         9\n",
            "\n",
            "    accuracy                           0.99        72\n",
            "   macro avg       0.98      0.98      0.98        72\n",
            "weighted avg       0.99      0.99      0.99        72\n",
            "\n"
          ]
        }
      ],
      "source": [
        "print(classification_report(y_test, result_knn_5))"
      ]
    },
    {
      "cell_type": "code",
      "execution_count": null,
      "metadata": {
        "colab": {
          "base_uri": "https://localhost:8080/"
        },
        "id": "Pdsd7EpGZAsW",
        "outputId": "605c493d-5089-47b7-a6ff-32acc1166cfd"
      },
      "outputs": [
        {
          "data": {
            "text/plain": [
              "<matplotlib.axes._subplots.AxesSubplot at 0x7f73e7685990>"
            ]
          },
          "execution_count": 175,
          "metadata": {
            "tags": []
          },
          "output_type": "execute_result"
        },
        {
          "data": {
            "image/png": "[encoded data removed]",
            "text/plain": [
              "<Figure size 864x576 with 2 Axes>"
            ]
          },
          "metadata": {
            "needs_background": "light",
            "tags": []
          },
          "output_type": "display_data"
        }
      ],
      "source": [
        "classes = ['Red Dwarf', 'Brown Dwarf', 'White Dwarf', 'Main Sequence', 'Super Giants', 'Hyper Giants']\n",
        "\n",
        "plt.figure(figsize = (12,8))\n",
        "sns.heatmap(confusion_matrix(y_test, result_knn_50), annot=True,\n",
        "            xticklabels = classes, yticklabels = classes)"
      ]
    },
    {
      "cell_type": "code",
      "execution_count": null,
      "metadata": {
        "colab": {
          "base_uri": "https://localhost:8080/"
        },
        "id": "RlNdAnHaT4J-",
        "outputId": "62e568f3-89a9-4ef9-8593-a5225aa5851a"
      },
      "outputs": [
        {
          "data": {
            "text/plain": [
              "<matplotlib.axes._subplots.AxesSubplot at 0x7f73e9b93310>"
            ]
          },
          "execution_count": 176,
          "metadata": {
            "tags": []
          },
          "output_type": "execute_result"
        },
        {
          "data": {
            "image/png": "[encoded data removed]",
            "text/plain": [
              "<Figure size 864x576 with 2 Axes>"
            ]
          },
          "metadata": {
            "needs_background": "light",
            "tags": []
          },
          "output_type": "display_data"
        }
      ],
      "source": [
        "plt.figure(figsize = (12,8))\n",
        "sns.heatmap(confusion_matrix(y_test, result_knn_10), annot=True,\n",
        "            xticklabels = classes, yticklabels = classes)"
      ]
    },
    {
      "cell_type": "code",
      "execution_count": null,
      "metadata": {
        "colab": {
          "base_uri": "https://localhost:8080/"
        },
        "id": "EDSNGPlET5xe",
        "outputId": "acbf6563-c8db-4532-89f4-55edbb314df8"
      },
      "outputs": [
        {
          "data": {
            "text/plain": [
              "<matplotlib.axes._subplots.AxesSubplot at 0x7f73e6f81bd0>"
            ]
          },
          "execution_count": 177,
          "metadata": {
            "tags": []
          },
          "output_type": "execute_result"
        },
        {
          "data": {
            "image/png": "[encoded data removed]",
            "text/plain": [
              "<Figure size 864x576 with 2 Axes>"
            ]
          },
          "metadata": {
            "needs_background": "light",
            "tags": []
          },
          "output_type": "display_data"
        }
      ],
      "source": [
        "plt.figure(figsize = (12,8))\n",
        "sns.heatmap(confusion_matrix(y_test, result_knn_5), annot=True,\n",
        "            xticklabels = classes, yticklabels = classes)"
      ]
    },
    {
      "cell_type": "code",
      "execution_count": null,
      "metadata": {
        "colab": {
          "base_uri": "https://localhost:8080/"
        },
        "id": "F-An275ZZJiy",
        "outputId": "bec836f3-b15a-4fa9-9e82-5f3e5d6b4bb6"
      },
      "outputs": [
        {
          "name": "stdout",
          "output_type": "stream",
          "text": [
            "Super Giants\n"
          ]
        }
      ],
      "source": [
        "item = knn_50.predict(X_test.iloc[0].to_numpy().reshape(1,-1))\n",
        "print(class_name(item))"
      ]
    },
    {
      "cell_type": "markdown",
      "metadata": {
        "id": "WQLEDqTDZP9u"
      },
      "source": [
        "## 4.6 Decision Tree"
      ]
    },
    {
      "cell_type": "code",
      "execution_count": null,
      "metadata": {
        "colab": {
          "base_uri": "https://localhost:8080/"
        },
        "id": "Vnfm9THvZswA",
        "outputId": "826a675b-6451-4e88-9cce-0801775e75b0"
      },
      "outputs": [
        {
          "data": {
            "text/plain": [
              "DecisionTreeClassifier(ccp_alpha=0.0, class_weight=None, criterion='entropy',\n",
              "                       max_depth=None, max_features=None, max_leaf_nodes=None,\n",
              "                       min_impurity_decrease=0.0, min_impurity_split=None,\n",
              "                       min_samples_leaf=1, min_samples_split=2,\n",
              "                       min_weight_fraction_leaf=0.0, presort='deprecated',\n",
              "                       random_state=0, splitter='best')"
            ]
          },
          "execution_count": 179,
          "metadata": {
            "tags": []
          },
          "output_type": "execute_result"
        }
      ],
      "source": [
        "from sklearn.tree import DecisionTreeClassifier \n",
        "\n",
        "dtc = DecisionTreeClassifier(criterion = 'entropy', min_samples_leaf=1, random_state=0)\n",
        "dtc.fit(X_train, y_train)"
      ]
    },
    {
      "cell_type": "code",
      "execution_count": null,
      "metadata": {
        "colab": {
          "base_uri": "https://localhost:8080/"
        },
        "id": "4xua9lzlZzT2",
        "outputId": "36c805f6-b357-48b2-93b1-bfdcc9184689"
      },
      "outputs": [
        {
          "name": "stdout",
          "output_type": "stream",
          "text": [
            "Decision Tree Acc: 1.00,  Decision Tree Loss: 0.00\n"
          ]
        }
      ],
      "source": [
        "result_dtc = dtc.predict(X_test)\n",
        "\n",
        "accuracy_dtc = accuracy_score(y_test, result_dtc)\n",
        "loss_dtc = mean_squared_error(y_test, result_dtc)\n",
        "\n",
        "print('Decision Tree Acc: {:.2f},  Decision Tree Loss: {:.2f}'.format(accuracy_dtc, loss_dtc))"
      ]
    },
    {
      "cell_type": "code",
      "execution_count": null,
      "metadata": {
        "colab": {
          "base_uri": "https://localhost:8080/"
        },
        "id": "CD30sZQcbfby",
        "outputId": "b4879c83-0337-44f5-f257-c67ffbe544ea"
      },
      "outputs": [
        {
          "name": "stdout",
          "output_type": "stream",
          "text": [
            "              precision    recall  f1-score   support\n",
            "\n",
            "           0       1.00      1.00      1.00        14\n",
            "           1       1.00      1.00      1.00        15\n",
            "           2       1.00      1.00      1.00         7\n",
            "           3       1.00      1.00      1.00        10\n",
            "           4       1.00      1.00      1.00        17\n",
            "           5       1.00      1.00      1.00         9\n",
            "\n",
            "    accuracy                           1.00        72\n",
            "   macro avg       1.00      1.00      1.00        72\n",
            "weighted avg       1.00      1.00      1.00        72\n",
            "\n"
          ]
        }
      ],
      "source": [
        "print(classification_report(y_test, result_dtc))"
      ]
    },
    {
      "cell_type": "code",
      "execution_count": null,
      "metadata": {
        "colab": {
          "base_uri": "https://localhost:8080/",
          "height": 500
        },
        "id": "kNhEXG0pcVVp",
        "outputId": "2629c663-f502-4c2b-afa8-e5eed82d0b86"
      },
      "outputs": [
        {
          "data": {
            "text/plain": [
              "<matplotlib.axes._subplots.AxesSubplot at 0x7f73e6e10a90>"
            ]
          },
          "execution_count": 182,
          "metadata": {
            "tags": []
          },
          "output_type": "execute_result"
        },
        {
          "data": {
            "image/png": "[encoded data removed]",
            "text/plain": [
              "<Figure size 864x576 with 2 Axes>"
            ]
          },
          "metadata": {
            "needs_background": "light",
            "tags": []
          },
          "output_type": "display_data"
        }
      ],
      "source": [
        "classes = ['Red Dwarf', 'Brown Dwarf', 'White Dwarf', 'Main Sequence', 'Super Giants', 'Hyper Giants']\n",
        "\n",
        "plt.figure(figsize = (12,8))\n",
        "sns.heatmap(confusion_matrix(y_test, result_dtc), annot=True,\n",
        "            xticklabels = classes, yticklabels = classes)"
      ]
    },
    {
      "cell_type": "code",
      "execution_count": null,
      "metadata": {
        "colab": {
          "base_uri": "https://localhost:8080/"
        },
        "id": "27vHCd9TcbkQ",
        "outputId": "1b88f979-26d0-4c5a-a09a-c479702ea786"
      },
      "outputs": [
        {
          "name": "stdout",
          "output_type": "stream",
          "text": [
            "Super Giants\n"
          ]
        }
      ],
      "source": [
        "item = dtc.predict(X_test.iloc[0].to_numpy().reshape(1,-1))\n",
        "print(class_name(item))"
      ]
    },
    {
      "cell_type": "markdown",
      "metadata": {
        "id": "GRrUa5XKHifE"
      },
      "source": [
        "# 5.Model Analysis"
      ]
    },
    {
      "cell_type": "markdown",
      "metadata": {
        "id": "ZKFwI2fQJrdB"
      },
      "source": [
        "## 5.1 Naive Bayes"
      ]
    },
    {
      "cell_type": "code",
      "execution_count": null,
      "metadata": {
        "colab": {
          "base_uri": "https://localhost:8080/",
          "height": 295
        },
        "id": "lLRJsM_pHkll",
        "outputId": "6671f30d-5a2f-4f7b-d8eb-a6d8486fd3d0"
      },
      "outputs": [
        {
          "data": {
            "image/png": "[encoded data removed]",
            "text/plain": [
              "<Figure size 432x288 with 1 Axes>"
            ]
          },
          "metadata": {
            "needs_background": "light",
            "tags": []
          },
          "output_type": "display_data"
        }
      ],
      "source": [
        "import pandas as pd\n",
        "loss = {'Loss':[loss_gnb, loss_bnb, loss_mnb], 'Model':['GNB', 'BNB', 'MNB']}\n",
        "Loss = pd.DataFrame(loss)\n",
        "\n",
        "sns.barplot(x=\"Loss\", y=\"Model\", data=Loss, color=\"r\")\n",
        "plt.xlabel(\"Error\")\n",
        "plt.ylabel(\"MODELS\")\n",
        "plt.xlim(0,2)\n",
        "plt.title(\"MODEL ERROR COMPARISON\")\n",
        "plt.show()"
      ]
    },
    {
      "cell_type": "code",
      "execution_count": null,
      "metadata": {
        "colab": {
          "base_uri": "https://localhost:8080/",
          "height": 295
        },
        "id": "uFTsDyKeHvEN",
        "outputId": "87562ab7-7b54-4656-b7ce-3ea1e79e3ac6"
      },
      "outputs": [
        {
          "data": {
            "image/png": "[encoded data removed]",
            "text/plain": [
              "<Figure size 432x288 with 1 Axes>"
            ]
          },
          "metadata": {
            "needs_background": "light",
            "tags": []
          },
          "output_type": "display_data"
        }
      ],
      "source": [
        "acc = {'Acc':[accuracy_gnb, accuracy_bnb, accuracy_mnb], 'Model':['GNB', 'BNB', 'MNB']}\n",
        "Acc = pd.DataFrame(acc)\n",
        "\n",
        "sns.barplot(x=\"Acc\", y=\"Model\", data=Acc, color=\"b\")\n",
        "plt.xlabel(\"Acc\")\n",
        "plt.ylabel(\"MODELS\")\n",
        "plt.xlim(0,2)\n",
        "plt.title(\"MODEL ACCURACY COMPARISON\")\n",
        "plt.show()"
      ]
    },
    {
      "cell_type": "markdown",
      "metadata": {
        "id": "fZv2hdlZJu8i"
      },
      "source": [
        "## 5.2 SVM"
      ]
    },
    {
      "cell_type": "code",
      "execution_count": null,
      "metadata": {
        "colab": {
          "base_uri": "https://localhost:8080/",
          "height": 295
        },
        "id": "nxKa_uWwJi7a",
        "outputId": "14b2bb4e-9ec7-447b-a364-00cc86187df6"
      },
      "outputs": [
        {
          "data": {
            "image/png": "[encoded data removed]",
            "text/plain": [
              "<Figure size 432x288 with 1 Axes>"
            ]
          },
          "metadata": {
            "needs_background": "light",
            "tags": []
          },
          "output_type": "display_data"
        }
      ],
      "source": [
        "loss = {'Loss':[loss_svc_l, loss_svc_p, loss_svc_s], 'Model':['SVM Linear', 'SVM Poly', 'SVM Sigmoid']}\n",
        "Loss = pd.DataFrame(loss)\n",
        "\n",
        "sns.barplot(x=\"Loss\", y=\"Model\", data=Loss, color=\"r\")\n",
        "plt.xlabel(\"Error\")\n",
        "plt.ylabel(\"MODELS\")\n",
        "plt.xlim(0,2)\n",
        "plt.title(\"MODEL ERROR COMPARISON\")\n",
        "plt.show()"
      ]
    },
    {
      "cell_type": "code",
      "execution_count": null,
      "metadata": {
        "colab": {
          "base_uri": "https://localhost:8080/",
          "height": 295
        },
        "id": "cPSOs91GJucr",
        "outputId": "b47fc2e4-7b04-4264-859b-8ae5e16b9e4e"
      },
      "outputs": [
        {
          "data": {
            "image/png": "[encoded data removed]",
            "text/plain": [
              "<Figure size 432x288 with 1 Axes>"
            ]
          },
          "metadata": {
            "needs_background": "light",
            "tags": []
          },
          "output_type": "display_data"
        }
      ],
      "source": [
        "acc = {'Acc':[accuracy_svc_l, accuracy_svc_p, accuracy_svc_s], 'Model':['SVM Linear', 'SVM Poly', 'SVM Sigmoid']}\n",
        "Acc = pd.DataFrame(acc)\n",
        "\n",
        "sns.barplot(x=\"Acc\", y=\"Model\", data=Acc, color=\"b\")\n",
        "plt.xlabel(\"Acc\")\n",
        "plt.ylabel(\"MODELS\")\n",
        "plt.xlim(0,2)\n",
        "plt.title(\"MODEL ACCURACY COMPARISON\")\n",
        "plt.show()"
      ]
    },
    {
      "cell_type": "markdown",
      "metadata": {
        "id": "pUzIQFkMO_vz"
      },
      "source": [
        "## 5.3 Neural Network"
      ]
    },
    {
      "cell_type": "code",
      "execution_count": null,
      "metadata": {
        "colab": {
          "base_uri": "https://localhost:8080/",
          "height": 295
        },
        "id": "WNXivZIjJt7j",
        "outputId": "fc5067fd-7ea0-4ed1-b259-8b0a9901e2bb"
      },
      "outputs": [
        {
          "data": {
            "image/png": "[encoded data removed]",
            "text/plain": [
              "<Figure size 432x288 with 1 Axes>"
            ]
          },
          "metadata": {
            "needs_background": "light",
            "tags": []
          },
          "output_type": "display_data"
        }
      ],
      "source": [
        "loss = {'Loss':[loss_clf_t, loss_clf450_r, loss_clf600_r], 'Model':['NN Tanh', 'NN Relu 450', 'NN Relu 600']}\n",
        "Loss = pd.DataFrame(loss)\n",
        "\n",
        "sns.barplot(x=\"Loss\", y=\"Model\", data=Loss, color=\"r\")\n",
        "plt.xlabel(\"Error\")\n",
        "plt.ylabel(\"MODELS\")\n",
        "plt.xlim(0,2)\n",
        "plt.title(\"MODEL ERROR COMPARISON\")\n",
        "plt.show()"
      ]
    },
    {
      "cell_type": "code",
      "execution_count": null,
      "metadata": {
        "colab": {
          "base_uri": "https://localhost:8080/",
          "height": 295
        },
        "id": "_4lQO5e0PaX4",
        "outputId": "a03950e8-b8ef-47b3-fd65-4d6ccd104349"
      },
      "outputs": [
        {
          "data": {
            "image/png": "[encoded data removed]",
            "text/plain": [
              "<Figure size 432x288 with 1 Axes>"
            ]
          },
          "metadata": {
            "needs_background": "light",
            "tags": []
          },
          "output_type": "display_data"
        }
      ],
      "source": [
        "acc = {'Acc':[accuracy_clf_t, accuracy_clf450_r, accuracy_clf600_r], 'Model':['NN Tanh', 'NN Relu 450', 'NN Relu 600']}\n",
        "Acc = pd.DataFrame(acc)\n",
        "\n",
        "sns.barplot(x=\"Acc\", y=\"Model\", data=Acc, color=\"b\")\n",
        "plt.xlabel(\"Acc\")\n",
        "plt.ylabel(\"MODELS\")\n",
        "plt.xlim(0,2)\n",
        "plt.title(\"MODEL ACCURACY COMPARISON\")\n",
        "plt.show()"
      ]
    },
    {
      "cell_type": "markdown",
      "metadata": {
        "id": "SotLyiKATS8-"
      },
      "source": [
        "## 5.4 K-NN"
      ]
    },
    {
      "cell_type": "code",
      "execution_count": null,
      "metadata": {
        "colab": {
          "base_uri": "https://localhost:8080/",
          "height": 295
        },
        "id": "BuKEb50JPbZ9",
        "outputId": "a7cb20a8-e3e1-4259-f254-f507daa1aaac"
      },
      "outputs": [
        {
          "data": {
            "image/png": "[encoded data removed]",
            "text/plain": [
              "<Figure size 432x288 with 1 Axes>"
            ]
          },
          "metadata": {
            "needs_background": "light",
            "tags": []
          },
          "output_type": "display_data"
        }
      ],
      "source": [
        "loss = {'Loss':[loss_knn_50, loss_knn_10, loss_knn_5], 'Model':['K-NN n=50', 'K-NN n=10', 'K-NN n=5']}\n",
        "Loss = pd.DataFrame(loss)\n",
        "\n",
        "sns.barplot(x=\"Loss\", y=\"Model\", data=Loss, color=\"r\")\n",
        "plt.xlabel(\"Error\")\n",
        "plt.ylabel(\"MODELS\")\n",
        "plt.xlim(0,2)\n",
        "plt.title(\"MODEL ERROR COMPARISON\")\n",
        "plt.show()"
      ]
    },
    {
      "cell_type": "code",
      "execution_count": null,
      "metadata": {
        "colab": {
          "base_uri": "https://localhost:8080/",
          "height": 295
        },
        "id": "QFKpVP-CTocf",
        "outputId": "c9ec68e8-76e9-447f-b432-45377f7dbc41"
      },
      "outputs": [
        {
          "data": {
            "image/png": "[encoded data removed]",
            "text/plain": [
              "<Figure size 432x288 with 1 Axes>"
            ]
          },
          "metadata": {
            "needs_background": "light",
            "tags": []
          },
          "output_type": "display_data"
        }
      ],
      "source": [
        "acc = {'Acc':[accuracy_knn_50, accuracy_knn_10, accuracy_knn_5], 'Model':['K-NN n=50', 'K-NN n=10', 'K-NN n=5']}\n",
        "Acc = pd.DataFrame(acc)\n",
        "\n",
        "sns.barplot(x=\"Acc\", y=\"Model\", data=Acc, color=\"b\")\n",
        "plt.xlabel(\"Acc\")\n",
        "plt.ylabel(\"MODELS\")\n",
        "plt.xlim(0,2)\n",
        "plt.title(\"MODEL ACCURACY COMPARISON\")\n",
        "plt.show()"
      ]
    },
    {
      "cell_type": "markdown",
      "metadata": {
        "id": "GChG0CofY9_z"
      },
      "source": [
        "## 5.5 Decision Tree"
      ]
    },
    {
      "cell_type": "code",
      "execution_count": null,
      "metadata": {
        "colab": {
          "base_uri": "https://localhost:8080/",
          "height": 295
        },
        "id": "IpeheCN6Tpya",
        "outputId": "c8a604a0-297b-4169-bd51-3385c93456ad"
      },
      "outputs": [
        {
          "data": {
            "image/png": "[encoded data removed]",
            "text/plain": [
              "<Figure size 432x288 with 1 Axes>"
            ]
          },
          "metadata": {
            "needs_background": "light",
            "tags": []
          },
          "output_type": "display_data"
        }
      ],
      "source": [
        "loss = {'Loss':[loss_dtc], 'Model':['DTC']}\n",
        "Loss = pd.DataFrame(loss)\n",
        "\n",
        "sns.barplot(x=\"Loss\", y=\"Model\", data=Loss, color=\"r\")\n",
        "plt.xlabel(\"Error\")\n",
        "plt.ylabel(\"MODELS\")\n",
        "plt.xlim(0,2)\n",
        "plt.title(\"MODEL ERROR COMPARISON\")\n",
        "plt.show()"
      ]
    },
    {
      "cell_type": "code",
      "execution_count": null,
      "metadata": {
        "colab": {
          "base_uri": "https://localhost:8080/",
          "height": 295
        },
        "id": "GN4iGARoZT7n",
        "outputId": "7977bb3a-70b6-4007-cc7f-559da6c3ec14"
      },
      "outputs": [
        {
          "data": {
            "image/png": "[encoded data removed]",
            "text/plain": [
              "<Figure size 432x288 with 1 Axes>"
            ]
          },
          "metadata": {
            "needs_background": "light",
            "tags": []
          },
          "output_type": "display_data"
        }
      ],
      "source": [
        "acc = {'Acc':[accuracy_dtc], 'Model':['DTC']}\n",
        "Acc = pd.DataFrame(acc)\n",
        "\n",
        "sns.barplot(x=\"Acc\", y=\"Model\", data=Acc, color=\"b\")\n",
        "plt.xlabel(\"Acc\")\n",
        "plt.ylabel(\"MODELS\")\n",
        "plt.xlim(0,2)\n",
        "plt.title(\"MODEL ACCURACY COMPARISON\")\n",
        "plt.show()"
      ]
    },
    {
      "cell_type": "markdown",
      "metadata": {},
      "source": [
        "# 6. Dataset"
      ]
    },
    {
      "cell_type": "code",
      "execution_count": null,
      "metadata": {
        "id": "CS2l8Ek0ZU8B"
      },
      "outputs": [],
      "source": [
        "#https://www.kaggle.com/brsdincer/star-type-classification/metadata "
      ]
    }
  ],
  "metadata": {
    "colab": {
      "collapsed_sections": [
        "G1uIwr-fJSbc",
        "N1JSCF5BR319",
        "tdWIihsOcnf4",
        "tmyhuZvyjWvP",
        "zm5nis6Lpbra",
        "beHqytvS-O8D",
        "axXaHtHBYVyY",
        "GYbrcLIoZoP4",
        "Ylour9LZN9Qy",
        "qOJdF_8_Ay1r",
        "j3YfkPL9BFcw",
        "3XVTiSd6Ho_c",
        "aXDeOAf8Wz0T"
      ],
      "name": "DataMiningProject.ipynb",
      "provenance": []
    },
    "kernelspec": {
      "display_name": "Python 3",
      "name": "python3"
    },
    "language_info": {
      "codemirror_mode": {
        "name": "ipython",
        "version": 3
      },
      "file_extension": ".py",
      "mimetype": "text/x-python",
      "name": "python",
      "nbconvert_exporter": "python",
      "pygments_lexer": "ipython3",
      "version": "3.8.8"
    }
  },
  "nbformat": 4,
  "nbformat_minor": 0
}
