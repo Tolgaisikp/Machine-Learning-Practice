{
 "cells": [
  {
   "cell_type": "markdown",
   "metadata": {},
   "source": [
    "# 0 Import Dependencies"
   ]
  },
  {
   "cell_type": "code",
   "execution_count": 13,
   "metadata": {},
   "outputs": [],
   "source": [
    "import bentoml\n",
    "from bentoml.io import NumpyNdarray\n",
    "\n",
    "from sklearn import svm\n",
    "from sklearn import datasets\n",
    "import numpy as np\n",
    "\n",
    "import warnings\n",
    "warnings.filterwarnings(\"ignore\")"
   ]
  },
  {
   "cell_type": "markdown",
   "metadata": {},
   "source": [
    "# 1. Saving Models with BentoML"
   ]
  },
  {
   "cell_type": "code",
   "execution_count": 14,
   "metadata": {},
   "outputs": [
    {
     "name": "stdout",
     "output_type": "stream",
     "text": [
      "Model saved: Model(tag=\"iris_clf:wuqxrab3ggizkgdg\")\n"
     ]
    }
   ],
   "source": [
    "# Load training data set\n",
    "iris = datasets.load_iris()\n",
    "X, y = iris.data, iris.target\n",
    "\n",
    "# Train the model\n",
    "clf = svm.SVC(gamma='scale')\n",
    "clf.fit(X, y)\n",
    "\n",
    "# Save model to the BentoML local model store\n",
    "saved_model = bentoml.sklearn.save_model(\"iris_clf\", clf)\n",
    "print(f\"Model saved: {saved_model}\")"
   ]
  },
  {
   "cell_type": "markdown",
   "metadata": {},
   "source": [
    "# 2. Load Models with BentoML"
   ]
  },
  {
   "cell_type": "code",
   "execution_count": 15,
   "metadata": {},
   "outputs": [],
   "source": [
    "model = bentoml.sklearn.load_model(\"iris_clf:q5uskxj3f6ljqgdg\")\n",
    "\n",
    "# Alternatively, use `latest` to find the newest version\n",
    "model = bentoml.sklearn.load_model(\"iris_clf:latest\")\n",
    "\n",
    "#for another libraries bentoml.pytorch.save_model"
   ]
  },
  {
   "cell_type": "markdown",
   "metadata": {},
   "source": [
    "# 3. Creating a Service"
   ]
  },
  {
   "cell_type": "code",
   "execution_count": 16,
   "metadata": {},
   "outputs": [],
   "source": [
    "#in service.py\n",
    "#run bentoml serve service:svc --reload\n",
    "\n",
    "#curl \\\n",
    "#  -X POST \\\n",
    "#  -H \"content-type: application/json\" \\\n",
    "#  --data \"[[5.9, 3, 5.1, 1.8]]\" \\\n",
    "#  http://127.0.0.1:3000/classify\n"
   ]
  },
  {
   "cell_type": "markdown",
   "metadata": {},
   "source": [
    "# 4. Using Models in a Service"
   ]
  },
  {
   "cell_type": "code",
   "execution_count": 21,
   "metadata": {},
   "outputs": [
    {
     "name": "stderr",
     "output_type": "stream",
     "text": [
      "'Runner.init_local' is for debugging and testing only\n"
     ]
    }
   ],
   "source": [
    "import bentoml\n",
    "\n",
    "iris_clf_runner = bentoml.sklearn.get(\"iris_clf:latest\").to_runner()\n",
    "iris_clf_runner.init_local()\n",
    "predict = iris_clf_runner.predict.run([[5.9, 3., 5.1, 1.8]])"
   ]
  },
  {
   "cell_type": "code",
   "execution_count": 22,
   "metadata": {},
   "outputs": [
    {
     "name": "stdout",
     "output_type": "stream",
     "text": [
      "2\n"
     ]
    }
   ],
   "source": [
    "print(predict.item())"
   ]
  },
  {
   "cell_type": "markdown",
   "metadata": {},
   "source": [
    "# 5. Building a Bento"
   ]
  },
  {
   "cell_type": "code",
   "execution_count": null,
   "metadata": {},
   "outputs": [],
   "source": [
    "#Bento is the distribution format for a service. It is a self-contained archive that contains all the source code, \n",
    "#model files and dependency specifications required to run the service.\n",
    "\n",
    "#bentofile.yaml\n",
    "\n",
    "#bentoml build\n",
    "\n",
    "#Bento(tag=\"iris_classifier:td4fobz3hgr2igdg\")\n",
    "\n",
    "#curl -X POST -H \"content-type: application/json\" --data \"[[5.9, 3, 5.1, 1.8]]\" http://127.0.0.1:3000/classify"
   ]
  },
  {
   "cell_type": "markdown",
   "metadata": {},
   "source": [
    "# 6. Generate Docker Image"
   ]
  },
  {
   "cell_type": "code",
   "execution_count": null,
   "metadata": {},
   "outputs": [],
   "source": [
    "#bentoml containerize iris_classifier:latest"
   ]
  }
 ],
 "metadata": {
  "kernelspec": {
   "display_name": "Python 3.9.12 ('base')",
   "language": "python",
   "name": "python3"
  },
  "language_info": {
   "codemirror_mode": {
    "name": "ipython",
    "version": 3
   },
   "file_extension": ".py",
   "mimetype": "text/x-python",
   "name": "python",
   "nbconvert_exporter": "python",
   "pygments_lexer": "ipython3",
   "version": "3.9.12"
  },
  "orig_nbformat": 4,
  "vscode": {
   "interpreter": {
    "hash": "31cf15fed92e62aa7d6778408617ff39bdc085f4cc3c18f2308b69b9b1d0f755"
   }
  }
 },
 "nbformat": 4,
 "nbformat_minor": 2
}
