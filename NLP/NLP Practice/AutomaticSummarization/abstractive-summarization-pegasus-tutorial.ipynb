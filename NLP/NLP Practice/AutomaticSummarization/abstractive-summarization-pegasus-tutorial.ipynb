{
 "cells": [
  {
   "cell_type": "markdown",
   "id": "cb7f5a8e-6380-4524-a935-5aa1732ef1be",
   "metadata": {},
   "source": [
    "# 1. Import and Load Model"
   ]
  },
  {
   "cell_type": "code",
   "execution_count": 1,
   "id": "c874c8b8-9463-4a90-a732-93b1643e13eb",
   "metadata": {},
   "outputs": [],
   "source": [
    "import torch \n",
    "from transformers import PegasusForConditionalGeneration, PegasusTokenizer"
   ]
  },
  {
   "cell_type": "code",
   "execution_count": 2,
   "id": "99bd09c0-c202-450a-9a1e-71fccc621725",
   "metadata": {},
   "outputs": [],
   "source": [
    "device = 'cuda' if torch.cuda.is_available() else 'cpu'"
   ]
  },
  {
   "cell_type": "code",
   "execution_count": 3,
   "id": "12319f26-4ec6-43f3-af97-ecde31727eb3",
   "metadata": {},
   "outputs": [],
   "source": [
    "model_name = \"google/pegasus-xsum\""
   ]
  },
  {
   "cell_type": "code",
   "execution_count": 4,
   "id": "c343c3c3-b863-43ec-8c85-af7a648a025d",
   "metadata": {},
   "outputs": [],
   "source": [
    "#load model and tokenizer\n",
    "tokenizer = PegasusTokenizer.from_pretrained(model_name)"
   ]
  },
  {
   "cell_type": "code",
   "execution_count": 5,
   "id": "8687e873-c068-465a-a6b3-829670ba2529",
   "metadata": {},
   "outputs": [],
   "source": [
    "model = PegasusForConditionalGeneration.from_pretrained(model_name).to(device)"
   ]
  },
  {
   "cell_type": "markdown",
   "id": "ea392abb-64ff-453e-b539-5769124b2df6",
   "metadata": {},
   "source": [
    "# 2. Perform Abstractive Summarization"
   ]
  },
  {
   "cell_type": "code",
   "execution_count": 15,
   "id": "71b29181-ae03-4828-9f77-78093bddfc5c",
   "metadata": {},
   "outputs": [],
   "source": [
    "text = \"\"\"\n",
    "Binance is a cryptocurrency exchange which is currently the largest exchange in the world in terms of daily trading volume of cryptocurrencies.[2] It was founded in 2017 and is registered in the Cayman Islands.\n",
    "\n",
    "Binance was founded by Changpeng Zhao, a developer who had previously created high frequency trading software. Binance was initially based in China, but later moved its headquarters out of China following the Chinese government's increasing regulation of cryptocurrency.\n",
    "\n",
    "Binance is currently under investigation by both the United States Department of Justice and Internal Revenue Service on allegations of money laundering and tax offenses.[3][4][5] The UK's Financial Conduct Authority ordered Binance to stop all regulated activity in the United Kingdom in June 2021.[6]\n",
    "\"\"\""
   ]
  },
  {
   "cell_type": "code",
   "execution_count": 16,
   "id": "9835f710-ce2b-4518-a622-9f9372ec81c6",
   "metadata": {},
   "outputs": [],
   "source": [
    "#create tokens - number representation of our text"
   ]
  },
  {
   "cell_type": "code",
   "execution_count": 17,
   "id": "3ae860fb-ccb7-4cc9-8a81-095165c9329c",
   "metadata": {},
   "outputs": [],
   "source": [
    "tokens = tokenizer(text, truncation=True, padding=\"longest\", return_tensors=\"pt\").to(device)"
   ]
  },
  {
   "cell_type": "code",
   "execution_count": 18,
   "id": "c88163ce-233c-484d-ba66-1dd3ce559baa",
   "metadata": {},
   "outputs": [
    {
     "data": {
      "text/plain": [
       "{'input_ids': tensor([[62915,   117,   114, 11239,  2264,   162,   117,   767,   109,  1368,\n",
       "          2264,   115,   109,   278,   115,  1130,   113,  1036,  2430,  2410,\n",
       "           113,   110, 20751,   107,  4101, 50558,   168,   140,  3271,   115,\n",
       "          1326,   111,   117,  2451,   115,   109, 28122,  6561,   107, 62915,\n",
       "           140,  3271,   141, 17284, 71144, 38027,   108,   114,  4369,   170,\n",
       "           196,  2255,   732,   281,  5099,  2430,   680,   107, 62915,   140,\n",
       "          4471,   451,   115,  1224,   108,   155,   678,  1652,   203,  7243,\n",
       "           165,   113,  1224,   645,   109,  1950,   657,   131,   116,  2186,\n",
       "          5714,   113, 11239,   107, 62915,   117,   767,   365,  3244,   141,\n",
       "           302,   109,   706,  1013,  1318,   113,  4465,   111, 10894, 11528,\n",
       "          1255,   124,  9952,   113,   408, 27516,   111,  1035, 25474,   107,\n",
       "          4101,   726, 32887,   914, 32887,  1343,  1100,   139,   926,   131,\n",
       "           116,  3650, 16413,  5369,  3478, 62915,   112,   923,   149,  9400,\n",
       "          1383,   115,   109,   706,  4096,   115,  1185, 34315,  4101,  1717,\n",
       "          1100,     1]], device='cuda:0'), 'attention_mask': tensor([[1, 1, 1, 1, 1, 1, 1, 1, 1, 1, 1, 1, 1, 1, 1, 1, 1, 1, 1, 1, 1, 1, 1, 1,\n",
       "         1, 1, 1, 1, 1, 1, 1, 1, 1, 1, 1, 1, 1, 1, 1, 1, 1, 1, 1, 1, 1, 1, 1, 1,\n",
       "         1, 1, 1, 1, 1, 1, 1, 1, 1, 1, 1, 1, 1, 1, 1, 1, 1, 1, 1, 1, 1, 1, 1, 1,\n",
       "         1, 1, 1, 1, 1, 1, 1, 1, 1, 1, 1, 1, 1, 1, 1, 1, 1, 1, 1, 1, 1, 1, 1, 1,\n",
       "         1, 1, 1, 1, 1, 1, 1, 1, 1, 1, 1, 1, 1, 1, 1, 1, 1, 1, 1, 1, 1, 1, 1, 1,\n",
       "         1, 1, 1, 1, 1, 1, 1, 1, 1, 1, 1, 1, 1, 1, 1, 1, 1, 1, 1, 1, 1, 1]],\n",
       "       device='cuda:0')}"
      ]
     },
     "execution_count": 18,
     "metadata": {},
     "output_type": "execute_result"
    }
   ],
   "source": [
    "tokens"
   ]
  },
  {
   "cell_type": "code",
   "execution_count": 19,
   "id": "fd279d3b-3970-4a88-a34c-0d9229fcfb80",
   "metadata": {},
   "outputs": [],
   "source": [
    "#summarize\n",
    "summary = model.generate(**tokens)"
   ]
  },
  {
   "cell_type": "code",
   "execution_count": 20,
   "id": "1d56a623-960f-42c5-a60f-0119f1f4d345",
   "metadata": {
    "tags": []
   },
   "outputs": [
    {
     "data": {
      "text/plain": [
       "tensor([[    0,   139,   645,   117,   114,  1245,   112,   181,   113,   109,\n",
       "           205,   785,   110, 20751,   107,     1]], device='cuda:0')"
      ]
     },
     "execution_count": 20,
     "metadata": {},
     "output_type": "execute_result"
    }
   ],
   "source": [
    "summary"
   ]
  },
  {
   "cell_type": "code",
   "execution_count": 21,
   "id": "84b166ce-0f15-4465-a86d-d32bda97aa62",
   "metadata": {},
   "outputs": [
    {
     "data": {
      "text/plain": [
       "'The following is a guide to some of the most popular cryptocurrencies.'"
      ]
     },
     "execution_count": 21,
     "metadata": {},
     "output_type": "execute_result"
    }
   ],
   "source": [
    "tokenizer.decode(summary[0])"
   ]
  },
  {
   "cell_type": "code",
   "execution_count": 22,
   "id": "047e3f4f-8435-4f89-807f-41271dd65e2c",
   "metadata": {},
   "outputs": [
    {
     "data": {
      "text/plain": [
       "['The following is a guide to some of the most popular cryptocurrencies.']"
      ]
     },
     "execution_count": 22,
     "metadata": {},
     "output_type": "execute_result"
    }
   ],
   "source": [
    "tokenizer.batch_decode(summary, skip_special_tokens=True)"
   ]
  },
  {
   "cell_type": "code",
   "execution_count": null,
   "id": "3e455c02-7830-40d1-9052-80651b9c9a9a",
   "metadata": {},
   "outputs": [],
   "source": []
  },
  {
   "cell_type": "code",
   "execution_count": null,
   "id": "cbd4f8c4-231c-4ef5-b68a-16595ea13c87",
   "metadata": {},
   "outputs": [],
   "source": []
  }
 ],
 "metadata": {
  "kernelspec": {
   "display_name": "Python 3",
   "language": "python",
   "name": "python3"
  },
  "language_info": {
   "codemirror_mode": {
    "name": "ipython",
    "version": 3
   },
   "file_extension": ".py",
   "mimetype": "text/x-python",
   "name": "python",
   "nbconvert_exporter": "python",
   "pygments_lexer": "ipython3",
   "version": "3.8.8"
  }
 },
 "nbformat": 4,
 "nbformat_minor": 5
}
