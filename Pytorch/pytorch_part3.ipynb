{
 "cells": [
  {
   "cell_type": "markdown",
   "metadata": {},
   "source": [
    "# Lesson 2 - Working with Images and Logistic Regression"
   ]
  },
  {
   "cell_type": "markdown",
   "metadata": {},
   "source": [
    "Bu ders, MNIST veri kümesindeki görüntülerle nasıl çalışılacağını, aşırı uyumu önlemek için eğitim ve doğrulama veri kümelerinin nasıl oluşturulacağını ve softmax etkinleştirmesini ve çapraz entropi kaybını kullanarak bir lojistik regresyon modelini eğitmeyi kapsar"
   ]
  },
  {
   "cell_type": "markdown",
   "metadata": {},
   "source": [
    "Cuda == GPU, çok daha hızlı, ancak VRAM'in boyutuyla sınırlı\n",
    "\n",
    "Cpu == CPU, daha yavaş, ancak genellikle daha fazla veri kullanabilir (RAM / sanal bellek ile sınırlıdır)\n",
    "\n"
   ]
  },
  {
   "cell_type": "markdown",
   "metadata": {},
   "source": [
    " \n",
    " \n",
    "### Bu eğitim aşağıdaki konuları kapsar\n",
    "\n",
    "-PyTorch'ta görüntülerle çalışma (MNIST veri kümesini kullanarak)\n",
    "\n",
    "-Veri kümesini eğitim, doğrulama ve test kümelerine bölme\n",
    "\n",
    "-Nn.Module sınıfını genişleterek özel mantıkla PyTorch modelleri oluşturma\n",
    "\n",
    "-Softmax kullanarak model çıktılarını olasılıklar olarak yorumlama ve tahmin edilen etiketleri seçme\n",
    "\n",
    "-Sınıflandırma problemleri için yararlı bir değerlendirme ölçüsü (doğruluk) ve kayıp işlevi (çapraz entropi) seçme\n",
    "\n",
    "-Doğrulama kümesini kullanarak modeli de değerlendiren bir eğitim döngüsü kurma\n",
    "\n",
    "-Modeli rastgele seçilen örnekler üzerinde manuel olarak test etme\n",
    "\n",
    "-Sıfırdan yeniden eğitimden kaçınmak için model kontrol noktalarını kaydetme ve yükleme"
   ]
  },
  {
   "cell_type": "markdown",
   "metadata": {},
   "source": [
    "## Working with Images\n"
   ]
  },
  {
   "cell_type": "markdown",
   "metadata": {},
   "source": [
    "Bu eğitimde, çok farklı türde bir sorunu çözmek için mevcut PyTorch bilgimizi ve doğrusal regresyonu kullanacağız: görüntü sınıflandırması. Eğitim veri setimiz olarak ünlü MNIST Handwritten Digits Veritabanını kullanacağız. El yazısı rakamların (0 - 9) 28px 28px gri tonlamalı görüntülerinden ve her görüntü için hangi basamağı temsil ettiğini belirten etiketlerden oluşur. Veri kümesinden bazı örnek görüntüler şunlardır:"
   ]
  },
  {
   "cell_type": "markdown",
   "metadata": {},
   "source": [
    "torch ve torchvision import ederek başlıyoruz. Torchvision, görüntü verileriyle çalışmak için bazı yardımcı programlar içerir. Ayrıca, MNIST gibi popüler veri kümelerini otomatik olarak indirmek ve içe aktarmak için yardımcı sınıflar sağlar"
   ]
  },
  {
   "cell_type": "code",
   "execution_count": 1,
   "metadata": {},
   "outputs": [],
   "source": [
    "import torch\n",
    "import torchvision\n",
    "from torchvision.datasets import MNIST\n",
    "from torchvision.datasets import CIFAR10\n",
    "from torch.utils.data import random_split, DataLoader"
   ]
  },
  {
   "cell_type": "code",
   "execution_count": 2,
   "metadata": {},
   "outputs": [
    {
     "data": {
      "text/plain": [
       "60000"
      ]
     },
     "execution_count": 2,
     "metadata": {},
     "output_type": "execute_result"
    }
   ],
   "source": [
    "dataset = MNIST(root='data/', download=True)\n",
    "len(dataset)"
   ]
  },
  {
   "cell_type": "code",
   "execution_count": 3,
   "metadata": {},
   "outputs": [
    {
     "data": {
      "text/plain": [
       "10000"
      ]
     },
     "execution_count": 3,
     "metadata": {},
     "output_type": "execute_result"
    }
   ],
   "source": [
    "test_dataset = MNIST(root='data/', train=False)\n",
    "len(test_dataset)"
   ]
  },
  {
   "cell_type": "code",
   "execution_count": 4,
   "metadata": {},
   "outputs": [
    {
     "data": {
      "text/plain": [
       "(<PIL.Image.Image image mode=L size=28x28 at 0x1FC3DBFA808>, 5)"
      ]
     },
     "execution_count": 4,
     "metadata": {},
     "output_type": "execute_result"
    }
   ],
   "source": [
    "#Let's look at a sample element from the training dataset.\n",
    "dataset[0]"
   ]
  },
  {
   "cell_type": "markdown",
   "metadata": {},
   "source": [
    "28x28 piksel boyutunda bir resim ve bir etiketten oluşan bir çift. Resim, Python görüntüleme kütüphanesi Pillow'un bir parçası olan PIL.Image.Image sınıfının bir nesnesidir. Python'da veri bilimi için fiili çizim ve grafik kitaplığı olan matplotlib'i kullanarak Jupyter içindeki görüntüyü görüntüleyebiliriz."
   ]
  },
  {
   "cell_type": "code",
   "execution_count": 5,
   "metadata": {},
   "outputs": [],
   "source": [
    "import matplotlib.pyplot as plt\n",
    "%matplotlib inline"
   ]
  },
  {
   "cell_type": "markdown",
   "metadata": {},
   "source": [
    "% Matplotlib inline ifadesi, Jupyter'e not defterinin içindeki grafikleri çizmek istediğimizi belirtir. Bu satır olmadan, Jupyter resmi bir açılır pencerede gösterecektir. % İle başlayan ifadeler sihirli komutlar olarak adlandırılır ve Jupyter'in kendi davranışını yapılandırmak için kullanılır. Sihirli komutların tam listesini burada bulabilirsiniz: https://ipython.readthedocs.io/en/stable/interactive/magics.html.\n",
    "\n",
    "Veri kümesinden birkaç resme bakalım."
   ]
  },
  {
   "cell_type": "code",
   "execution_count": 6,
   "metadata": {},
   "outputs": [
    {
     "name": "stdout",
     "output_type": "stream",
     "text": [
      "Label: 5\n"
     ]
    },
    {
     "data": {
      "image/png": "[encoded data removed]",
      "text/plain": [
       "<Figure size 432x288 with 1 Axes>"
      ]
     },
     "metadata": {
      "needs_background": "light"
     },
     "output_type": "display_data"
    }
   ],
   "source": [
    "image, label = dataset[0]\n",
    "plt.imshow(image, cmap='gray')\n",
    "print('Label:', label)"
   ]
  },
  {
   "cell_type": "code",
   "execution_count": 7,
   "metadata": {},
   "outputs": [
    {
     "name": "stdout",
     "output_type": "stream",
     "text": [
      "Label: 3\n"
     ]
    },
    {
     "data": {
      "image/png": "[encoded data removed]",
      "text/plain": [
       "<Figure size 432x288 with 1 Axes>"
      ]
     },
     "metadata": {
      "needs_background": "light"
     },
     "output_type": "display_data"
    }
   ],
   "source": [
    "image, label = dataset[10]\n",
    "plt.imshow(image, cmap='gray')\n",
    "print('Label:', label)"
   ]
  },
  {
   "cell_type": "markdown",
   "metadata": {},
   "source": [
    "Bu görüntülerin nispeten küçük olduğu açıktır ve rakamları tanımak bazen insan gözü için bile zor olabilir. Bu resimlere bakmak faydalı olsa da, burada sadece bir sorun var: PyTorch resimlerle nasıl çalışılacağını bilmiyor. Görüntüleri tensöre çevirmemiz gerekiyor. Bunu, veri setimizi oluştururken bir dönüşüm belirleyerek yapabiliriz."
   ]
  },
  {
   "cell_type": "code",
   "execution_count": 8,
   "metadata": {},
   "outputs": [],
   "source": [
    "import torchvision.transforms as transforms"
   ]
  },
  {
   "cell_type": "markdown",
   "metadata": {},
   "source": [
    "PyTorch veri kümeleri, yüklenirken görüntülere uygulanan bir veya daha fazla dönüştürme işlevi belirlememize olanak tanır. Torchvision.transforms modülü, bu tür önceden tanımlanmış birçok işlevi içerir. Görüntüleri PyTorch tensörlerine dönüştürmek için ToTensor dönüşümünü kullanacağız.\n",
    "\n",
    "Dönüşüm için transformdan ToTensor  kullanılır"
   ]
  },
  {
   "cell_type": "code",
   "execution_count": 9,
   "metadata": {},
   "outputs": [],
   "source": [
    "dataset = MNIST(root = 'data/', train = True, transform = transforms.ToTensor())"
   ]
  },
  {
   "cell_type": "code",
   "execution_count": 10,
   "metadata": {},
   "outputs": [
    {
     "name": "stdout",
     "output_type": "stream",
     "text": [
      "torch.Size([1, 28, 28]) 5\n"
     ]
    }
   ],
   "source": [
    "img_tensor, label = dataset[0]\n",
    "print(img_tensor.shape, label)"
   ]
  },
  {
   "cell_type": "markdown",
   "metadata": {},
   "source": [
    "\n",
    "Görüntü şimdi 1x28x28 tensöre dönüştürülür. İlk boyut, renk kanallarını izler. İkinci ve üçüncü boyutlar, sırasıyla görüntünün yüksekliği ve genişliği boyunca pikselleri temsil eder. MNIST veri kümesindeki görüntüler gri tonlamalı olduğundan, yalnızca bir kanal vardır. Diğer veri kümelerinin renkli görüntüleri vardır, bu durumda üç kanal vardır: kırmızı, yeşil ve mavi (RGB).\n",
    "\n",
    "Tensörün içindeki bazı örnek değerlere bakalım."
   ]
  },
  {
   "cell_type": "code",
   "execution_count": 11,
   "metadata": {},
   "outputs": [
    {
     "data": {
      "text/plain": [
       "tensor([[0.0000, 0.0000, 0.0000, 0.0000, 0.0000],\n",
       "        [0.0000, 0.0000, 0.0000, 0.1176, 0.1412],\n",
       "        [0.0000, 0.0000, 0.1922, 0.9333, 0.9922],\n",
       "        [0.0000, 0.0000, 0.0706, 0.8588, 0.9922],\n",
       "        [0.0000, 0.0000, 0.0000, 0.3137, 0.6118]])"
      ]
     },
     "execution_count": 11,
     "metadata": {},
     "output_type": "execute_result"
    }
   ],
   "source": [
    "img_tensor[0, 5:10, 5:10]"
   ]
  },
  {
   "cell_type": "code",
   "execution_count": 12,
   "metadata": {},
   "outputs": [
    {
     "name": "stdout",
     "output_type": "stream",
     "text": [
      "max: tensor(1.) \n",
      "min: tensor(0.)\n"
     ]
    }
   ],
   "source": [
    "print(\"max:\",img_tensor.max(),\"\\nmin:\",img_tensor.min())"
   ]
  },
  {
   "cell_type": "markdown",
   "metadata": {},
   "source": [
    "Değerler 0 ile 1 arasındadır; 0 siyahı, 1 beyazı temsil eder ve değerler grinin farklı tonları arasındaki değerlerdedir. Tensörü plt.imshow kullanarak bir görüntü olarak da çizebiliriz."
   ]
  },
  {
   "cell_type": "code",
   "execution_count": 13,
   "metadata": {},
   "outputs": [],
   "source": [
    "litle_part = img_tensor[0, 5:15, 5:15]"
   ]
  },
  {
   "cell_type": "code",
   "execution_count": 14,
   "metadata": {},
   "outputs": [
    {
     "data": {
      "image/png": "[encoded data removed]",
      "text/plain": [
       "<Figure size 432x288 with 1 Axes>"
      ]
     },
     "metadata": {
      "needs_background": "light"
     },
     "output_type": "display_data"
    }
   ],
   "source": [
    "plt.imshow(litle_part, cmap = 'gray');"
   ]
  },
  {
   "cell_type": "code",
   "execution_count": 15,
   "metadata": {},
   "outputs": [],
   "source": [
    "## Traing and Validation Datasets (Eğitim ve Doğrulama Veri Kümeleri)"
   ]
  },
  {
   "cell_type": "markdown",
   "metadata": {},
   "source": [
    "Gerçek dünya makine öğrenimi modelleri oluştururken, veri kümesini üç bölüme ayırmak oldukça yaygındır:\n",
    " \n",
    "1-)Train seti - modeli eğitmek, yani kaybı hesaplamak ve gradyan inişini kullanarak modelin ağırlıklarını ayarlamak için kullanılır.\n",
    "\n",
    "2-)Validation seti - eğitim sırasında modeli değerlendirmek, hiper parametreleri ayarlamak (öğrenme oranı vb.) Ve modelin en iyi sürümünü seçmek için kullanılır.\n",
    "\n",
    "3-)Test seti - farklı modelleri veya yaklaşımları karşılaştırmak ve modelin nihai doğruluğunu raporlamak için kullanılır."
   ]
  },
  {
   "cell_type": "markdown",
   "metadata": {},
   "source": [
    "MNIST veri kümesinde 60.000 eğitim görüntüsü ve 10.000 test görüntüsü vardır. Test seti, farklı araştırmacıların modellerinin sonuçlarını aynı görüntü koleksiyonuna göre raporlayabilmeleri için standartlaştırılmıştır.\n",
    "\n",
    "Önceden tanımlanmış bir doğrulama seti olmadığından, 60.000 görüntüyü eğitim ve doğrulama veri kümelerine manuel olarak bölmeliyiz. Doğrulama için rastgele seçilen 10.000 resmi bir kenara bırakalım. Bunu PyTorch'un random_spilt yöntemini kullanarak yapabiliriz."
   ]
  },
  {
   "cell_type": "code",
   "execution_count": 16,
   "metadata": {},
   "outputs": [],
   "source": [
    "train_ds, valid_ds = random_split(dataset, [50000,10000])"
   ]
  },
  {
   "cell_type": "code",
   "execution_count": 17,
   "metadata": {},
   "outputs": [
    {
     "data": {
      "text/plain": [
       "10000"
      ]
     },
     "execution_count": 17,
     "metadata": {},
     "output_type": "execute_result"
    }
   ],
   "source": [
    "len(valid_ds)"
   ]
  },
  {
   "cell_type": "markdown",
   "metadata": {},
   "source": [
    "Bir doğrulama seti oluşturmak için rastgele bir örnek seçmek önemlidir. Eğitim verileri genellikle hedef etiketlere göre sıralanır, yani 0'ların resimleri, ardından 1'ler, ardından 2'ler vb. Görüntülerin son %20'sini kullanarak bir doğrulama kümesi oluşturursak, yalnızca 8 ve 9'lardan oluşur. Aksine, eğitim seti 8 veya 9 içermez. Böyle bir eğitim-doğrulama, faydalı bir modelin eğitilmesini imkansız kılacaktır.\n",
    "\n",
    "Artık verileri gruplar halinde yüklememize yardımcı olmak için dataloader oluşturabiliriz. 128 toplu iş boyutu kullanacağız\n",
    "\n",
    "Dataloader. Bir veri kümesini ve bir örnekleyiciyi birleştirir ve verilen veri kümesi üzerinde yinelenebilirlik sağlar. "
   ]
  },
  {
   "cell_type": "code",
   "execution_count": 18,
   "metadata": {},
   "outputs": [],
   "source": [
    "batch_size = 128\n",
    "\n",
    "train_loader = DataLoader(train_ds, batch_size, shuffle = True)\n",
    "valid_loader = DataLoader(valid_ds, batch_size)"
   ]
  },
  {
   "cell_type": "markdown",
   "metadata": {},
   "source": [
    "Her epochta üretilen grup (yığın) farklı olmasını sağlamak için train Dataloader için shuffle = True ayarını yaptık. Bu randomizasyon, eğitim sürecini genelleştirmeye ve hızlandırmaya yardımcı olur. Öte yandan, validation Dataloader yalnızca modeli değerlendirmek için kullanıldığından, görüntüleri karıştırmaya gerek yoktur."
   ]
  },
  {
   "cell_type": "markdown",
   "metadata": {},
   "source": [
    "## Model"
   ]
  },
  {
   "cell_type": "markdown",
   "metadata": {},
   "source": [
    "### Veri yükleyicilerimizi hazırladığımıza göre artık modelimizi tanımlayabiliriz.\n",
    "\n",
    "-Lojistik regresyon modeli, doğrusal regresyon modeliyle neredeyse aynıdır. Ağırlıkları ve sapma matrislerini içerir ve çıktı, basit matris işlemleri kullanılarak elde edilir (pred = x @ w.t () + b).\n",
    "\n",
    "-Doğrusal regresyonda yaptığımız gibi, matrisleri manuel olarak oluşturmak ve başlatmak yerine modeli oluşturmak için nn.Linear'ı kullanabiliriz.\n",
    "\n",
    "-Nn.Linear, her eğitim örneğinin bir vektör olmasını beklediğinden, her bir 1x28x28 görüntü tensörü, modele geçirilmeden önce 784 (28 * 28) boyutunda bir vektöre düzleştirilir.\n",
    "\n",
    "-Her bir görüntünün çıktısı, her bir öğenin belirli bir hedef etiketin olasılığını (yani, 0 ila 9) ifade ettiği 10 boyutlu bir vektördür. Bir görüntü için tahmin edilen etiket, en yüksek olasılığa sahip olandır."
   ]
  },
  {
   "cell_type": "code",
   "execution_count": 19,
   "metadata": {},
   "outputs": [],
   "source": [
    "import torch.nn as nn"
   ]
  },
  {
   "cell_type": "code",
   "execution_count": 20,
   "metadata": {},
   "outputs": [],
   "source": [
    "input_size = 28*28 #resimler 28*28 boyutta olduğundan\n",
    "num_classes = 10"
   ]
  },
  {
   "cell_type": "code",
   "execution_count": 21,
   "metadata": {},
   "outputs": [],
   "source": [
    "#Logistic regression model\n",
    "model = nn.Linear(input_size, num_classes)# ilki input ikincisi output"
   ]
  },
  {
   "cell_type": "code",
   "execution_count": 22,
   "metadata": {},
   "outputs": [
    {
     "name": "stdout",
     "output_type": "stream",
     "text": [
      "torch.Size([10, 784])\n"
     ]
    },
    {
     "data": {
      "text/plain": [
       "Parameter containing:\n",
       "tensor([[-1.3769e-03,  8.3551e-03,  3.1395e-02,  ...,  1.9739e-03,\n",
       "         -3.4000e-02, -3.6271e-03],\n",
       "        [ 3.3000e-03,  1.0442e-03, -1.0191e-02,  ...,  3.5161e-02,\n",
       "          1.0778e-02,  2.8377e-02],\n",
       "        [ 1.4389e-02,  2.0838e-02,  2.4912e-02,  ..., -1.0750e-03,\n",
       "         -7.0434e-03, -1.4489e-02],\n",
       "        ...,\n",
       "        [-2.4445e-02,  1.0576e-02, -3.4993e-02,  ...,  3.4030e-02,\n",
       "          2.2724e-02,  1.2206e-03],\n",
       "        [ 8.1509e-03, -3.4869e-02,  3.5674e-02,  ...,  3.5121e-02,\n",
       "         -1.7276e-02, -8.2927e-03],\n",
       "        [ 1.0474e-02,  9.5362e-03,  1.7759e-02,  ..., -2.5172e-02,\n",
       "          5.4352e-05,  2.5477e-02]], requires_grad=True)"
      ]
     },
     "execution_count": 22,
     "metadata": {},
     "output_type": "execute_result"
    }
   ],
   "source": [
    "print(model.weight.size())\n",
    "model.weight"
   ]
  },
  {
   "cell_type": "code",
   "execution_count": 23,
   "metadata": {},
   "outputs": [
    {
     "name": "stdout",
     "output_type": "stream",
     "text": [
      "torch.Size([10])\n"
     ]
    },
    {
     "data": {
      "text/plain": [
       "Parameter containing:\n",
       "tensor([ 0.0010,  0.0034, -0.0229, -0.0093,  0.0024,  0.0324,  0.0342,  0.0048,\n",
       "        -0.0134,  0.0063], requires_grad=True)"
      ]
     },
     "execution_count": 23,
     "metadata": {},
     "output_type": "execute_result"
    }
   ],
   "source": [
    "print(model.bias.shape)\n",
    "model.bias"
   ]
  },
  {
   "cell_type": "markdown",
   "metadata": {},
   "source": [
    "Burada toplam 7850 parametre olmasına rağmen kavramsal olarak şimdiye kadar hiçbir şey değişmedi. Modelimizi kullanarak bazı çıktılar oluşturmaya çalışalım. Veri kümemizden ilk 100 görüntü grubunu alıp modelimize aktaracağız"
   ]
  },
  {
   "cell_type": "code",
   "execution_count": 24,
   "metadata": {},
   "outputs": [
    {
     "name": "stdout",
     "output_type": "stream",
     "text": [
      "tensor([3, 3, 4, 3, 6, 2, 9, 5, 7, 6, 5, 4, 7, 4, 2, 4, 4, 5, 4, 8, 4, 1, 0, 5,\n",
      "        1, 4, 0, 5, 3, 7, 8, 6, 4, 6, 7, 7, 9, 2, 2, 9, 1, 4, 6, 8, 7, 8, 6, 9,\n",
      "        0, 0, 5, 6, 5, 2, 2, 8, 0, 6, 6, 9, 1, 5, 7, 9, 0, 6, 7, 6, 3, 4, 6, 9,\n",
      "        9, 1, 8, 0, 4, 3, 0, 7, 7, 9, 5, 2, 8, 0, 4, 2, 4, 4, 5, 5, 1, 3, 5, 3,\n",
      "        1, 1, 9, 5, 5, 9, 5, 5, 6, 4, 1, 1, 1, 8, 4, 9, 8, 3, 3, 2, 0, 0, 8, 3,\n",
      "        3, 1, 4, 0, 0, 2, 0, 1])\n",
      "torch.Size([128, 1, 28, 28])\n"
     ]
    },
    {
     "ename": "RuntimeError",
     "evalue": "mat1 and mat2 shapes cannot be multiplied (3584x28 and 784x10)",
     "output_type": "error",
     "traceback": [
      "\u001b[1;31m---------------------------------------------------------------------------\u001b[0m",
      "\u001b[1;31mRuntimeError\u001b[0m                              Traceback (most recent call last)",
      "\u001b[1;32m<ipython-input-24-d0fe7d306f83>\u001b[0m in \u001b[0;36m<module>\u001b[1;34m\u001b[0m\n\u001b[0;32m      2\u001b[0m     \u001b[0mprint\u001b[0m\u001b[1;33m(\u001b[0m\u001b[0mlabels\u001b[0m\u001b[1;33m)\u001b[0m\u001b[1;33m\u001b[0m\u001b[1;33m\u001b[0m\u001b[0m\n\u001b[0;32m      3\u001b[0m     \u001b[0mprint\u001b[0m\u001b[1;33m(\u001b[0m\u001b[0mimages\u001b[0m\u001b[1;33m.\u001b[0m\u001b[0mshape\u001b[0m\u001b[1;33m)\u001b[0m\u001b[1;33m\u001b[0m\u001b[1;33m\u001b[0m\u001b[0m\n\u001b[1;32m----> 4\u001b[1;33m     \u001b[0moutputs\u001b[0m \u001b[1;33m=\u001b[0m \u001b[0mmodel\u001b[0m\u001b[1;33m(\u001b[0m\u001b[0mimages\u001b[0m\u001b[1;33m)\u001b[0m\u001b[1;33m\u001b[0m\u001b[1;33m\u001b[0m\u001b[0m\n\u001b[0m\u001b[0;32m      5\u001b[0m     \u001b[0mprint\u001b[0m\u001b[1;33m(\u001b[0m\u001b[0moutputs\u001b[0m\u001b[1;33m)\u001b[0m\u001b[1;33m\u001b[0m\u001b[1;33m\u001b[0m\u001b[0m\n\u001b[0;32m      6\u001b[0m     \u001b[1;32mbreak\u001b[0m\u001b[1;33m\u001b[0m\u001b[1;33m\u001b[0m\u001b[0m\n",
      "\u001b[1;32m~\\AppData\\Roaming\\Python\\Python37\\site-packages\\torch\\nn\\modules\\module.py\u001b[0m in \u001b[0;36m_call_impl\u001b[1;34m(self, *input, **kwargs)\u001b[0m\n\u001b[0;32m    725\u001b[0m             \u001b[0mresult\u001b[0m \u001b[1;33m=\u001b[0m \u001b[0mself\u001b[0m\u001b[1;33m.\u001b[0m\u001b[0m_slow_forward\u001b[0m\u001b[1;33m(\u001b[0m\u001b[1;33m*\u001b[0m\u001b[0minput\u001b[0m\u001b[1;33m,\u001b[0m \u001b[1;33m**\u001b[0m\u001b[0mkwargs\u001b[0m\u001b[1;33m)\u001b[0m\u001b[1;33m\u001b[0m\u001b[1;33m\u001b[0m\u001b[0m\n\u001b[0;32m    726\u001b[0m         \u001b[1;32melse\u001b[0m\u001b[1;33m:\u001b[0m\u001b[1;33m\u001b[0m\u001b[1;33m\u001b[0m\u001b[0m\n\u001b[1;32m--> 727\u001b[1;33m             \u001b[0mresult\u001b[0m \u001b[1;33m=\u001b[0m \u001b[0mself\u001b[0m\u001b[1;33m.\u001b[0m\u001b[0mforward\u001b[0m\u001b[1;33m(\u001b[0m\u001b[1;33m*\u001b[0m\u001b[0minput\u001b[0m\u001b[1;33m,\u001b[0m \u001b[1;33m**\u001b[0m\u001b[0mkwargs\u001b[0m\u001b[1;33m)\u001b[0m\u001b[1;33m\u001b[0m\u001b[1;33m\u001b[0m\u001b[0m\n\u001b[0m\u001b[0;32m    728\u001b[0m         for hook in itertools.chain(\n\u001b[0;32m    729\u001b[0m                 \u001b[0m_global_forward_hooks\u001b[0m\u001b[1;33m.\u001b[0m\u001b[0mvalues\u001b[0m\u001b[1;33m(\u001b[0m\u001b[1;33m)\u001b[0m\u001b[1;33m,\u001b[0m\u001b[1;33m\u001b[0m\u001b[1;33m\u001b[0m\u001b[0m\n",
      "\u001b[1;32m~\\AppData\\Roaming\\Python\\Python37\\site-packages\\torch\\nn\\modules\\linear.py\u001b[0m in \u001b[0;36mforward\u001b[1;34m(self, input)\u001b[0m\n\u001b[0;32m     91\u001b[0m \u001b[1;33m\u001b[0m\u001b[0m\n\u001b[0;32m     92\u001b[0m     \u001b[1;32mdef\u001b[0m \u001b[0mforward\u001b[0m\u001b[1;33m(\u001b[0m\u001b[0mself\u001b[0m\u001b[1;33m,\u001b[0m \u001b[0minput\u001b[0m\u001b[1;33m:\u001b[0m \u001b[0mTensor\u001b[0m\u001b[1;33m)\u001b[0m \u001b[1;33m->\u001b[0m \u001b[0mTensor\u001b[0m\u001b[1;33m:\u001b[0m\u001b[1;33m\u001b[0m\u001b[1;33m\u001b[0m\u001b[0m\n\u001b[1;32m---> 93\u001b[1;33m         \u001b[1;32mreturn\u001b[0m \u001b[0mF\u001b[0m\u001b[1;33m.\u001b[0m\u001b[0mlinear\u001b[0m\u001b[1;33m(\u001b[0m\u001b[0minput\u001b[0m\u001b[1;33m,\u001b[0m \u001b[0mself\u001b[0m\u001b[1;33m.\u001b[0m\u001b[0mweight\u001b[0m\u001b[1;33m,\u001b[0m \u001b[0mself\u001b[0m\u001b[1;33m.\u001b[0m\u001b[0mbias\u001b[0m\u001b[1;33m)\u001b[0m\u001b[1;33m\u001b[0m\u001b[1;33m\u001b[0m\u001b[0m\n\u001b[0m\u001b[0;32m     94\u001b[0m \u001b[1;33m\u001b[0m\u001b[0m\n\u001b[0;32m     95\u001b[0m     \u001b[1;32mdef\u001b[0m \u001b[0mextra_repr\u001b[0m\u001b[1;33m(\u001b[0m\u001b[0mself\u001b[0m\u001b[1;33m)\u001b[0m \u001b[1;33m->\u001b[0m \u001b[0mstr\u001b[0m\u001b[1;33m:\u001b[0m\u001b[1;33m\u001b[0m\u001b[1;33m\u001b[0m\u001b[0m\n",
      "\u001b[1;32m~\\AppData\\Roaming\\Python\\Python37\\site-packages\\torch\\nn\\functional.py\u001b[0m in \u001b[0;36mlinear\u001b[1;34m(input, weight, bias)\u001b[0m\n\u001b[0;32m   1690\u001b[0m         \u001b[0mret\u001b[0m \u001b[1;33m=\u001b[0m \u001b[0mtorch\u001b[0m\u001b[1;33m.\u001b[0m\u001b[0maddmm\u001b[0m\u001b[1;33m(\u001b[0m\u001b[0mbias\u001b[0m\u001b[1;33m,\u001b[0m \u001b[0minput\u001b[0m\u001b[1;33m,\u001b[0m \u001b[0mweight\u001b[0m\u001b[1;33m.\u001b[0m\u001b[0mt\u001b[0m\u001b[1;33m(\u001b[0m\u001b[1;33m)\u001b[0m\u001b[1;33m)\u001b[0m\u001b[1;33m\u001b[0m\u001b[1;33m\u001b[0m\u001b[0m\n\u001b[0;32m   1691\u001b[0m     \u001b[1;32melse\u001b[0m\u001b[1;33m:\u001b[0m\u001b[1;33m\u001b[0m\u001b[1;33m\u001b[0m\u001b[0m\n\u001b[1;32m-> 1692\u001b[1;33m         \u001b[0moutput\u001b[0m \u001b[1;33m=\u001b[0m \u001b[0minput\u001b[0m\u001b[1;33m.\u001b[0m\u001b[0mmatmul\u001b[0m\u001b[1;33m(\u001b[0m\u001b[0mweight\u001b[0m\u001b[1;33m.\u001b[0m\u001b[0mt\u001b[0m\u001b[1;33m(\u001b[0m\u001b[1;33m)\u001b[0m\u001b[1;33m)\u001b[0m\u001b[1;33m\u001b[0m\u001b[1;33m\u001b[0m\u001b[0m\n\u001b[0m\u001b[0;32m   1693\u001b[0m         \u001b[1;32mif\u001b[0m \u001b[0mbias\u001b[0m \u001b[1;32mis\u001b[0m \u001b[1;32mnot\u001b[0m \u001b[1;32mNone\u001b[0m\u001b[1;33m:\u001b[0m\u001b[1;33m\u001b[0m\u001b[1;33m\u001b[0m\u001b[0m\n\u001b[0;32m   1694\u001b[0m             \u001b[0moutput\u001b[0m \u001b[1;33m+=\u001b[0m \u001b[0mbias\u001b[0m\u001b[1;33m\u001b[0m\u001b[1;33m\u001b[0m\u001b[0m\n",
      "\u001b[1;31mRuntimeError\u001b[0m: mat1 and mat2 shapes cannot be multiplied (3584x28 and 784x10)"
     ]
    }
   ],
   "source": [
    "for images, labels in train_loader:\n",
    "    print(labels)\n",
    "    print(images.shape)\n",
    "    outputs = model(images)\n",
    "    print(outputs)\n",
    "    break\n"
   ]
  },
  {
   "cell_type": "code",
   "execution_count": 25,
   "metadata": {},
   "outputs": [
    {
     "data": {
      "text/plain": [
       "torch.Size([128, 1, 28, 28])"
      ]
     },
     "execution_count": 25,
     "metadata": {},
     "output_type": "execute_result"
    }
   ],
   "source": [
    "images.shape"
   ]
  },
  {
   "cell_type": "code",
   "execution_count": 26,
   "metadata": {},
   "outputs": [
    {
     "data": {
      "text/plain": [
       "torch.Size([128, 784])"
      ]
     },
     "execution_count": 26,
     "metadata": {},
     "output_type": "execute_result"
    }
   ],
   "source": [
    "images.reshape(128,784).shape"
   ]
  },
  {
   "cell_type": "markdown",
   "metadata": {},
   "source": [
    "Yukarıdaki kod, girdi verilerimiz doğru şekle sahip olmadığı için bir hataya yol açar. Resimlerimiz 1x28x28 şeklindedir, ancak bunların 784 boyutunda vektörler olmasına ihtiyacımız var, yani onları düzleştirmemiz gerekiyor. Tensörün .reshape yöntemini kullanacağız, bu da her bir görüntüyü, temeldeki verilerin bir kopyasını gerçekten oluşturmadan düz bir vektör olarak verimli bir şekilde 'görüntülememize' izin verecek. Bu ek işlevselliği modelimize dahil etmek için, PyTorch'tan nn.Module sınıfını genişleterek özel bir model tanımlamamız gerekir.\n",
    "\n",
    "Python'daki bir sınıf, nesneler oluşturmak için bir 'blueprint' sağlar. Python'da yeni bir sınıf tanımlamanın bir örneğine bakalım."
   ]
  },
  {
   "cell_type": "code",
   "execution_count": 27,
   "metadata": {},
   "outputs": [],
   "source": [
    "class MnistModel(nn.Module):\n",
    "    def __init__(self):\n",
    "        super().__init__()\n",
    "        self.linear = nn.Linear(input_size, num_classes)\n",
    "        \n",
    "    def forward(self, xb):\n",
    "        xb = xb.reshape(-1, 784)\n",
    "        out = self.linear(xb)\n",
    "        return out\n",
    "    \n",
    "model = MnistModel()"
   ]
  },
  {
   "cell_type": "markdown",
   "metadata": {},
   "source": [
    "\n",
    "__İnit__ yapıcı yönteminin içinde, nn.Linear kullanarak ağırlıkları ve önyargıları somutlaştırıyoruz. Ve modele bir grup girdi ilettiğimizde çağrılan ileri yöntemde, girdi tensörünü düzleştiririz ve self.linear'a geçiririz.\n",
    "\n",
    "Xb.reshape (-1, 28 * 28), PyTorch'a xb tensörünün iki boyutlu bir görünümünü istediğimizi belirtir. 2. boyut boyunca uzunluk 28 * 28'dir (yani 784). .Reshape için bir argüman, PyTorch'un orijinal tensörün şekline göre otomatik olarak anlamasına izin vermek için -1'e (bu durumda, ilk boyut) ayarlanabilir.\n",
    "\n",
    "Modelin artık .weight ve .bias özniteliklerine sahip olmadığını unutmayın (artık .linear özniteliğinin içindeler), ancak ağırlıkları ve önyargıları içeren bir liste döndüren bir .parameters yöntemine sahip olduğunu unutmayın."
   ]
  },
  {
   "cell_type": "code",
   "execution_count": 28,
   "metadata": {},
   "outputs": [],
   "source": [
    "#artık model.bias yerine model.linear.bias şeklinde weight ile biasa bakıcaz"
   ]
  },
  {
   "cell_type": "code",
   "execution_count": 29,
   "metadata": {},
   "outputs": [
    {
     "data": {
      "text/plain": [
       "Linear(in_features=784, out_features=10, bias=True)"
      ]
     },
     "execution_count": 29,
     "metadata": {},
     "output_type": "execute_result"
    }
   ],
   "source": [
    "model.linear"
   ]
  },
  {
   "cell_type": "code",
   "execution_count": 30,
   "metadata": {},
   "outputs": [
    {
     "data": {
      "text/plain": [
       "Parameter containing:\n",
       "tensor([ 0.0067, -0.0016, -0.0051, -0.0267,  0.0234,  0.0332,  0.0119,  0.0170,\n",
       "         0.0243, -0.0148], requires_grad=True)"
      ]
     },
     "execution_count": 30,
     "metadata": {},
     "output_type": "execute_result"
    }
   ],
   "source": [
    "model.linear.bias"
   ]
  },
  {
   "cell_type": "code",
   "execution_count": 31,
   "metadata": {},
   "outputs": [
    {
     "data": {
      "text/plain": [
       "Parameter containing:\n",
       "tensor([[-0.0196, -0.0042, -0.0332,  ...,  0.0015, -0.0081,  0.0107],\n",
       "        [-0.0052, -0.0250, -0.0108,  ..., -0.0157,  0.0111, -0.0061],\n",
       "        [ 0.0095, -0.0053,  0.0219,  ...,  0.0035, -0.0352, -0.0145],\n",
       "        ...,\n",
       "        [ 0.0292, -0.0050,  0.0111,  ...,  0.0229, -0.0132, -0.0097],\n",
       "        [ 0.0011,  0.0167, -0.0291,  ..., -0.0202,  0.0169,  0.0056],\n",
       "        [-0.0330,  0.0064,  0.0122,  ..., -0.0112, -0.0289,  0.0021]],\n",
       "       requires_grad=True)"
      ]
     },
     "execution_count": 31,
     "metadata": {},
     "output_type": "execute_result"
    }
   ],
   "source": [
    "model.linear.weight"
   ]
  },
  {
   "cell_type": "markdown",
   "metadata": {},
   "source": [
    "Yeni özel modelimizi eskisi gibi kullanabiliriz. İşe yarayıp yaramadığını görelim."
   ]
  },
  {
   "cell_type": "code",
   "execution_count": 32,
   "metadata": {},
   "outputs": [
    {
     "name": "stdout",
     "output_type": "stream",
     "text": [
      "torch.Size([128, 1, 28, 28])\n",
      "outputs.shape :  torch.Size([128, 10])\n",
      "Sample outputs :\n",
      " tensor([[-0.0118, -0.0254, -0.0961, -0.0448,  0.2052, -0.0595,  0.0211,  0.1797,\n",
      "          0.0230,  0.0800]])\n"
     ]
    }
   ],
   "source": [
    "for images, labels in train_loader:\n",
    "    print(images.shape)\n",
    "    outputs = model(images)\n",
    "    break\n",
    "\n",
    "print('outputs.shape : ', outputs.shape)\n",
    "print('Sample outputs :\\n', outputs[:1].data)#bu değerler bizim train loader içindeki grubumuzun çıktılarıdır"
   ]
  },
  {
   "cell_type": "markdown",
   "metadata": {},
   "source": [
    " \n",
    "100 input görüntüsünün her biri için, her sınıf için bir tane olmak üzere 10 output elde ederiz. Daha önce tartışıldığı gibi, bu çıktıların olasılıkları temsil etmesini istiyoruz. Her çıktı satırının öğeleri 0 ile 1 arasında olmalı ve toplamı 1 olmalıdır, bu durum böyle değildir.(eksili değerler bulunmaktadır)\n",
    "\n",
    "Çıktı satırlarını olasılıklara dönüştürmek için aşağıdaki formüle sahip softmax fonksiyonunu kullanıyoruz:\n",
    "\n",
    "\n",
    "İlk olarak, bir çıktı satırındaki her yi öğesini e^yi ile değiştirerek tüm öğeleri pozitif yaparız.\n",
    "\n",
    "Daha sonra, toplamlarının 1'e ulaşmasını sağlamak için onları toplamlarına böleriz. Elde edilen vektör böylece olasılıklar olarak yorumlanabilir.\n",
    "\n",
    "Softmax işlevini uygulamak kolay olsa da (denemelisiniz!), PyTorch içinde sağlanan uygulamayı kullanacağız çünkü çok boyutlu tensörlerle iyi çalışıyor (bizim durumumuzda çıktı satırlarının bir listesi)."
   ]
  },
  {
   "cell_type": "code",
   "execution_count": 33,
   "metadata": {},
   "outputs": [
    {
     "data": {
      "text/plain": [
       "<matplotlib.image.AxesImage at 0x1fc0b932a88>"
      ]
     },
     "execution_count": 33,
     "metadata": {},
     "output_type": "execute_result"
    },
    {
     "data": {
      "image/png": "[encoded data removed]",
      "text/plain": [
       "<Figure size 432x288 with 1 Axes>"
      ]
     },
     "metadata": {
      "needs_background": "light"
     },
     "output_type": "display_data"
    }
   ],
   "source": [
    "import matplotlib.image as mpimg\n",
    "img = mpimg.imread('foto\\softmax.png')\n",
    "plt.imshow(img)"
   ]
  },
  {
   "cell_type": "markdown",
   "metadata": {},
   "source": [
    "Softmax işlevi, torch.nn. İşlevsel paketine dahildir ve işlevin uygulanması gereken bir boyut belirlememizi gerektirir."
   ]
  },
  {
   "cell_type": "code",
   "execution_count": 34,
   "metadata": {},
   "outputs": [],
   "source": [
    "import torch.nn.functional as F"
   ]
  },
  {
   "cell_type": "code",
   "execution_count": 35,
   "metadata": {},
   "outputs": [
    {
     "data": {
      "text/plain": [
       "tensor([[-0.0118, -0.0254, -0.0961, -0.0448,  0.2052, -0.0595,  0.0211,  0.1797,\n",
       "          0.0230,  0.0800],\n",
       "        [-0.0442,  0.0044,  0.3965, -0.2208,  0.2091, -0.1097, -0.0585, -0.1684,\n",
       "          0.1676,  0.0726]], grad_fn=<SliceBackward>)"
      ]
     },
     "execution_count": 35,
     "metadata": {},
     "output_type": "execute_result"
    }
   ],
   "source": [
    "outputs[:2]"
   ]
  },
  {
   "cell_type": "code",
   "execution_count": 36,
   "metadata": {},
   "outputs": [],
   "source": [
    "# Her çıktı satırı için softmax uygulayın\n",
    "probs = F.softmax(outputs, dim = 1)"
   ]
  },
  {
   "cell_type": "code",
   "execution_count": 37,
   "metadata": {},
   "outputs": [
    {
     "name": "stdout",
     "output_type": "stream",
     "text": [
      "Sample probabilities:\n",
      " tensor([[0.0957, 0.0944, 0.0880, 0.0926, 0.1189, 0.0913, 0.0989, 0.1159, 0.0991,\n",
      "         0.1049],\n",
      "        [0.0918, 0.0964, 0.1426, 0.0769, 0.1182, 0.0860, 0.0905, 0.0811, 0.1134,\n",
      "         0.1032]])\n"
     ]
    }
   ],
   "source": [
    "# Örnek olasılıklara bakın\n",
    "print(\"Sample probabilities:\\n\", probs[:2].data)"
   ]
  },
  {
   "cell_type": "code",
   "execution_count": 38,
   "metadata": {},
   "outputs": [
    {
     "name": "stdout",
     "output_type": "stream",
     "text": [
      "sum: 1.0\n",
      "Sum:  1.0\n"
     ]
    }
   ],
   "source": [
    "# Örnek olasılıklara bakın\n",
    "print(\"sum:\",probs[0].data.sum().item())\n",
    "#veya\n",
    "print(\"Sum: \",torch.sum(probs[0]).item())"
   ]
  },
  {
   "cell_type": "markdown",
   "metadata": {},
   "source": [
    "Son olarak, her bir çıktı satırında en yüksek olasılığa sahip öğenin dizinini seçerek her bir görüntü için tahmin edilen etiketi belirleyebiliriz. Bunu, her satırın en büyük elemanını ve karşılık gelen dizini döndüren torch.max kullanarak yapabiliriz."
   ]
  },
  {
   "cell_type": "markdown",
   "metadata": {},
   "source": [
    "-dim = 0 sütunsal işlemler \n",
    "\n",
    "-dim = 1 satırsal işlemler"
   ]
  },
  {
   "cell_type": "code",
   "execution_count": 39,
   "metadata": {},
   "outputs": [
    {
     "name": "stdout",
     "output_type": "stream",
     "text": [
      "tensor([0.1189, 0.1426, 0.1183, 0.1347, 0.1453, 0.1269, 0.1389, 0.1246, 0.1407,\n",
      "        0.1401, 0.1556, 0.1210, 0.1296, 0.1410, 0.1195, 0.1193, 0.1379, 0.1329,\n",
      "        0.1266, 0.1387, 0.1463, 0.1400, 0.1252, 0.1431, 0.1272, 0.1272, 0.1603,\n",
      "        0.1309, 0.1431, 0.1314, 0.1192, 0.1345, 0.1173, 0.1238, 0.1381, 0.1355,\n",
      "        0.1289, 0.1129, 0.1283, 0.1458, 0.1297, 0.1182, 0.1546, 0.1289, 0.1146,\n",
      "        0.1222, 0.1249, 0.1206, 0.1263, 0.1356, 0.1298, 0.1200, 0.1654, 0.1317,\n",
      "        0.1303, 0.1287, 0.1254, 0.1251, 0.1486, 0.1243, 0.1296, 0.1254, 0.1321,\n",
      "        0.1158, 0.1278, 0.1294, 0.1700, 0.1311, 0.1320, 0.1330, 0.1290, 0.1274,\n",
      "        0.1290, 0.1387, 0.1407, 0.1196, 0.1386, 0.1229, 0.1255, 0.1194, 0.1207,\n",
      "        0.1386, 0.1315, 0.1361, 0.1420, 0.1343, 0.1262, 0.1146, 0.1264, 0.1299,\n",
      "        0.1539, 0.1461, 0.1154, 0.1308, 0.1198, 0.1128, 0.1544, 0.1317, 0.1427,\n",
      "        0.1286, 0.1267, 0.1475, 0.1210, 0.1452, 0.1202, 0.1427, 0.1214, 0.1371,\n",
      "        0.1210, 0.1579, 0.1213, 0.1302, 0.1261, 0.1385, 0.1128, 0.1387, 0.1514,\n",
      "        0.1238, 0.1271, 0.1162, 0.1301, 0.1195, 0.1291, 0.1271, 0.1214, 0.1117,\n",
      "        0.1374, 0.1089], grad_fn=<MaxBackward0>)\n",
      "tahmin değerleri\n",
      "tensor([4, 2, 6, 6, 6, 6, 4, 6, 5, 7, 0, 5, 4, 7, 4, 2, 4, 7, 4, 5, 4, 4, 5, 5,\n",
      "        7, 6, 0, 6, 5, 5, 9, 7, 0, 6, 0, 4, 4, 5, 4, 4, 4, 4, 7, 9, 2, 0, 6, 4,\n",
      "        0, 6, 4, 7, 6, 9, 7, 6, 6, 4, 7, 4, 6, 4, 6, 2, 5, 5, 0, 4, 9, 5, 7, 2,\n",
      "        6, 4, 2, 6, 0, 5, 2, 6, 7, 7, 2, 6, 9, 7, 4, 5, 5, 6, 6, 6, 7, 9, 2, 6,\n",
      "        6, 4, 7, 2, 7, 0, 5, 6, 4, 4, 6, 7, 5, 6, 6, 7, 7, 4, 5, 6, 0, 0, 6, 6,\n",
      "        7, 0, 6, 4, 6, 4, 6, 5])\n"
     ]
    }
   ],
   "source": [
    "max_props, preds = torch.max(probs, dim = 1)\n",
    "print(max_props)\n",
    "print(\"tahmin değerleri\")\n",
    "print(preds)"
   ]
  },
  {
   "cell_type": "code",
   "execution_count": 40,
   "metadata": {},
   "outputs": [
    {
     "name": "stdout",
     "output_type": "stream",
     "text": [
      "tensor([9, 2, 9, 4, 4, 7, 1, 0, 4, 9, 9, 3, 0, 8, 5, 2, 7, 4, 9, 6, 2, 3, 9, 7,\n",
      "        4, 9, 8, 4, 9, 4, 4, 0, 1, 4, 2, 8, 6, 1, 8, 2, 2, 1, 7, 3, 2, 6, 9, 3,\n",
      "        9, 5, 2, 4, 6, 5, 5, 4, 4, 7, 5, 9, 7, 1, 5, 2, 5, 4, 8, 7, 0, 6, 9, 3,\n",
      "        6, 8, 3, 1, 7, 1, 1, 1, 6, 6, 6, 4, 3, 4, 1, 1, 3, 0, 3, 2, 7, 3, 1, 6,\n",
      "        3, 4, 4, 1, 6, 7, 0, 3, 8, 2, 3, 3, 7, 8, 4, 4, 9, 2, 7, 2, 9, 1, 5, 1,\n",
      "        9, 1, 2, 6, 7, 4, 6, 4])\n"
     ]
    }
   ],
   "source": [
    "print(labels)"
   ]
  },
  {
   "cell_type": "markdown",
   "metadata": {},
   "source": [
    "Tahmin edilen etiketlerin çoğu gerçek etiketlerden farklıdır. Bunun nedeni, rastgele başlatılmış ağırlıklar ve önyargılarla başlamış olmamızdır. Modeli eğitmemiz gerekiyor, yani daha iyi tahminler yapmak için ağırlıkları gradyan inişi kullanarak ayarlamamız gerekiyor."
   ]
  },
  {
   "cell_type": "markdown",
   "metadata": {},
   "source": [
    "## Evaluation Metric and Loss Function"
   ]
  },
  {
   "cell_type": "markdown",
   "metadata": {},
   "source": [
    "Doğrusal regresyonda olduğu gibi, modelimizin ne kadar iyi performans gösterdiğini değerlendirmenin bir yoluna ihtiyacımız var. Bunu yapmanın doğal bir yolu, doğru tahmin edilen etiketlerin yüzdesini bulmaktır, yani. Tahminlerin doğruluğu."
   ]
  },
  {
   "cell_type": "code",
   "execution_count": 41,
   "metadata": {},
   "outputs": [
    {
     "data": {
      "text/plain": [
       "tensor([[-0.0118, -0.0254, -0.0961, -0.0448,  0.2052, -0.0595,  0.0211,  0.1797,\n",
       "          0.0230,  0.0800],\n",
       "        [-0.0442,  0.0044,  0.3965, -0.2208,  0.2091, -0.1097, -0.0585, -0.1684,\n",
       "          0.1676,  0.0726]], grad_fn=<SliceBackward>)"
      ]
     },
     "execution_count": 41,
     "metadata": {},
     "output_type": "execute_result"
    }
   ],
   "source": [
    "outputs[:2]"
   ]
  },
  {
   "cell_type": "code",
   "execution_count": 42,
   "metadata": {},
   "outputs": [
    {
     "data": {
      "text/plain": [
       "tensor(13)"
      ]
     },
     "execution_count": 42,
     "metadata": {},
     "output_type": "execute_result"
    }
   ],
   "source": [
    "torch.sum(preds == labels)"
   ]
  },
  {
   "cell_type": "markdown",
   "metadata": {},
   "source": [
    "\n",
    "== operatörü, aynı şekle sahip iki tensörün öğe bazında karşılaştırmasını gerçekleştirir ve eşit olmayan öğeler için True ve eşit öğeler için False içeren aynı şekle sahip bir tensör döndürür. Sonucu torch.sum'a iletmek, doğru tahmin edilen etiket sayısını döndürür. Son olarak, doğruluğu elde etmek için toplam görüntü sayısına böleriz.\n",
    "\n",
    "Sonuçların aynı göreceli sıraya sahip olması nedeniyle çıktılara softmax uygulamamıza gerek olmadığını unutmayın. Bunun nedeni, e ~ x'in artan bir fonksiyon olmasıdır, yani eğer y1 y2 ise, e ~ y1 e ~ y2. Aynı şey, softmax'ı elde etmek için değerlerin ortalamasını aldıktan sonra da geçerlidir.\n",
    "\n",
    "Mevcut modelin doğruluğunu ilk veri grubu üzerinde hesaplayalım."
   ]
  },
  {
   "cell_type": "code",
   "execution_count": 43,
   "metadata": {},
   "outputs": [
    {
     "data": {
      "text/plain": [
       "torch.return_types.max(\n",
       "values=tensor([0.2052, 0.3965, 0.1751, 0.2675, 0.3403, 0.1404, 0.3336, 0.2705, 0.4087,\n",
       "        0.4127, 0.5186, 0.2585, 0.2054, 0.3519, 0.2010, 0.1387, 0.3306, 0.2813,\n",
       "        0.1599, 0.3391, 0.3097, 0.3621, 0.2416, 0.4355, 0.2466, 0.2798, 0.4856,\n",
       "        0.2883, 0.4503, 0.3162, 0.2077, 0.3082, 0.2442, 0.2199, 0.3420, 0.2814,\n",
       "        0.2589, 0.2263, 0.3085, 0.2904, 0.2151, 0.2232, 0.4060, 0.2095, 0.1445,\n",
       "        0.2071, 0.2373, 0.1948, 0.2638, 0.3244, 0.3329, 0.2200, 0.5878, 0.3513,\n",
       "        0.1619, 0.2544, 0.1993, 0.2094, 0.4298, 0.1872, 0.3241, 0.2964, 0.2648,\n",
       "        0.0679, 0.3337, 0.3821, 0.5452, 0.3034, 0.2335, 0.2477, 0.2487, 0.2430,\n",
       "        0.2588, 0.3060, 0.3661, 0.2484, 0.2831, 0.2517, 0.2829, 0.2601, 0.1768,\n",
       "        0.2454, 0.2385, 0.3097, 0.2982, 0.2850, 0.3126, 0.2279, 0.1895, 0.2754,\n",
       "        0.4487, 0.3707, 0.0949, 0.2143, 0.2275, 0.1610, 0.4750, 0.2845, 0.4081,\n",
       "        0.3023, 0.2607, 0.4642, 0.1989, 0.3851, 0.1963, 0.4300, 0.2178, 0.2311,\n",
       "        0.1974, 0.5379, 0.1599, 0.2532, 0.2666, 0.3601, 0.1083, 0.3463, 0.4937,\n",
       "        0.2390, 0.3317, 0.1886, 0.3747, 0.2450, 0.2770, 0.3156, 0.2149, 0.1469,\n",
       "        0.3780, 0.1696], grad_fn=<MaxBackward0>),\n",
       "indices=tensor([4, 2, 6, 6, 6, 6, 4, 6, 5, 7, 0, 5, 4, 7, 4, 2, 4, 7, 4, 5, 4, 4, 5, 5,\n",
       "        7, 6, 0, 6, 5, 5, 9, 7, 0, 6, 0, 4, 4, 5, 4, 4, 4, 4, 7, 9, 2, 0, 6, 4,\n",
       "        0, 6, 4, 7, 6, 9, 7, 6, 6, 4, 7, 4, 6, 4, 6, 2, 5, 5, 0, 4, 9, 5, 7, 2,\n",
       "        6, 4, 2, 6, 0, 5, 2, 6, 7, 7, 2, 6, 9, 7, 4, 5, 5, 6, 6, 6, 7, 9, 2, 6,\n",
       "        6, 4, 7, 2, 7, 0, 5, 6, 4, 4, 6, 7, 5, 6, 6, 7, 7, 4, 5, 6, 0, 0, 6, 6,\n",
       "        7, 0, 6, 4, 6, 4, 6, 5]))"
      ]
     },
     "execution_count": 43,
     "metadata": {},
     "output_type": "execute_result"
    }
   ],
   "source": [
    "torch.max(outputs, dim=1)"
   ]
  },
  {
   "cell_type": "code",
   "execution_count": 44,
   "metadata": {},
   "outputs": [],
   "source": [
    "def accurcy(outputs, labels):\n",
    "    _, preds = torch.max(outputs, dim=1)\n",
    "    return torch.tensor(torch.sum(preds == labels).item() / len(preds))"
   ]
  },
  {
   "cell_type": "code",
   "execution_count": 45,
   "metadata": {},
   "outputs": [
    {
     "data": {
      "text/plain": [
       "13"
      ]
     },
     "execution_count": 45,
     "metadata": {},
     "output_type": "execute_result"
    }
   ],
   "source": [
    "torch.sum(preds == labels).item()"
   ]
  },
  {
   "cell_type": "code",
   "execution_count": 46,
   "metadata": {},
   "outputs": [
    {
     "data": {
      "text/plain": [
       "tensor(0.1016)"
      ]
     },
     "execution_count": 46,
     "metadata": {},
     "output_type": "execute_result"
    }
   ],
   "source": [
    "accurcy(outputs, labels)"
   ]
  },
  {
   "cell_type": "markdown",
   "metadata": {},
   "source": [
    "Doğruluk, bizler (insanlar) için modeli değerlendirmenin mükemmel bir yoludur. Ancak, aşağıdaki nedenlerle gradyan inişini kullanarak modelimizi optimize etmek için bir kayıp fonksiyonu olarak kullanamayız:\n",
    "\n",
    "---1-)Türevlenebilir bir işlev değil. Torch.max ve == hem sürekli olmayan hem de farklılaştırılamayan işlemlerdir, bu nedenle, ağırlık ve önyargılarla gradyanları hesaplarken doğruluğu kullanamayız.\n",
    "\n",
    "---2-)Model tarafından tahmin edilen gerçek olasılıkları hesaba katmaz, bu nedenle artan iyileştirmeler için yeterli geri bildirim sağlayamaz.\n",
    "\n",
    "Bu nedenlerden dolayı, doğruluk genellikle sınıflandırma için bir değerlendirme ölçütü olarak kullanılır, ancak bir kayıp işlevi olarak kullanılmaz. Sınıflandırma problemleri için yaygın olarak kullanılan bir kayıp fonksiyonu, aşağıdaki formüle sahip olan çapraz entropidir:"
   ]
  },
  {
   "cell_type": "code",
   "execution_count": 47,
   "metadata": {},
   "outputs": [
    {
     "data": {
      "text/plain": [
       "<matplotlib.image.AxesImage at 0x1fc0baca8c8>"
      ]
     },
     "execution_count": 47,
     "metadata": {},
     "output_type": "execute_result"
    },
    {
     "data": {
      "image/png": "[encoded data removed]",
      "text/plain": [
       "<Figure size 432x288 with 1 Axes>"
      ]
     },
     "metadata": {
      "needs_background": "light"
     },
     "output_type": "display_data"
    }
   ],
   "source": [
    "img1 = mpimg.imread('foto\\lossentropi.png')\n",
    "plt.imshow(img1)"
   ]
  },
  {
   "cell_type": "markdown",
   "metadata": {},
   "source": [
    "Karmaşık görünse de aslında oldukça basit:\n",
    "\n",
    "---Her çıktı satırı için, doğru etiket için tahmin edilen olasılığı seçin. Örneğin, bir görüntü için tahmin edilen olasılıklar [0,1, 0,3, 0,2, ...] ve doğru etiket 1 ise, karşılık gelen öğe 0,3'ü seçer ve gerisini göz ardı ederiz.\n",
    "\n",
    "---Ardından, seçilen olasılığın logaritmasını alın. Olasılık yüksekse, yani 1'e yakınsa, logaritması çok küçük bir negatif değerdir, 0'a yakındır. Ve olasılık düşükse (0'a yakın), o zaman logaritma çok büyük bir negatif değerdir. Ayrıca sonucu -1 ile çarpıyoruz, bu da kötü tahminler için büyük bir pozitif değer kaybıdır.\n",
    "\n",
    "---Son olarak, bir veri yığını için genel kaybı elde etmek için tüm çıktı satırlarındaki çapraz entropinin ortalamasını alın.\n",
    "Doğruluktan farklı olarak, çapraz entropi sürekli ve farklılaştırılabilir bir işlevdir. Ayrıca, modeldeki aşamalı iyileştirmeler için yararlı geri bildirim sağlar (doğru etiket için biraz daha yüksek olasılık, daha düşük bir kayba yol açar). Bu iki faktör, çapraz entropiyi kayıp işlevi için daha iyi bir seçim haline getirir.\n",
    "\n",
    "Tahmin edebileceğiniz gibi PyTorch, torch.nn. Fonksiyonel paketin bir parçası olarak çapraz entropinin verimli ve tensör dostu bir uygulamasını sağlar. Dahası, dahili olarak softmax da gerçekleştirir, böylece modelin çıktılarını olasılıklara dönüştürmeden doğrudan aktarabiliriz."
   ]
  },
  {
   "cell_type": "code",
   "execution_count": 48,
   "metadata": {},
   "outputs": [
    {
     "data": {
      "text/plain": [
       "tensor([[-1.1794e-02, -2.5423e-02, -9.6066e-02,  ...,  1.7972e-01,\n",
       "          2.2995e-02,  7.9960e-02],\n",
       "        [-4.4195e-02,  4.4328e-03,  3.9649e-01,  ..., -1.6836e-01,\n",
       "          1.6765e-01,  7.2636e-02],\n",
       "        [-4.8215e-02, -1.0000e-01,  5.1581e-02,  ...,  1.0398e-01,\n",
       "         -4.0650e-02, -1.0929e-01],\n",
       "        ...,\n",
       "        [ 1.2423e-01,  1.0456e-01, -9.5176e-02,  ..., -3.4136e-04,\n",
       "         -1.4016e-03,  5.1257e-02],\n",
       "        [-4.3595e-02, -3.4165e-01, -4.1758e-02,  ...,  1.9651e-01,\n",
       "          9.9460e-02,  1.4404e-01],\n",
       "        [ 1.3602e-02, -3.5640e-02,  1.5026e-01,  ...,  8.1945e-02,\n",
       "          8.8952e-02,  2.5610e-02]], grad_fn=<AddmmBackward>)"
      ]
     },
     "execution_count": 48,
     "metadata": {},
     "output_type": "execute_result"
    }
   ],
   "source": [
    "outputs"
   ]
  },
  {
   "cell_type": "code",
   "execution_count": 49,
   "metadata": {},
   "outputs": [],
   "source": [
    "loss_fn = F.cross_entropy"
   ]
  },
  {
   "cell_type": "code",
   "execution_count": 50,
   "metadata": {},
   "outputs": [
    {
     "data": {
      "text/plain": [
       "tensor(2.2923, grad_fn=<NllLossBackward>)"
      ]
     },
     "execution_count": 50,
     "metadata": {},
     "output_type": "execute_result"
    }
   ],
   "source": [
    "# Mevcut veri grubu kaybı\n",
    "loss = loss_fn(outputs, labels)\n",
    "loss"
   ]
  },
  {
   "cell_type": "code",
   "execution_count": 51,
   "metadata": {},
   "outputs": [
    {
     "data": {
      "text/plain": [
       "tensor([[-1.1794e-02, -2.5423e-02, -9.6066e-02,  ...,  1.7972e-01,\n",
       "          2.2995e-02,  7.9960e-02],\n",
       "        [-4.4195e-02,  4.4328e-03,  3.9649e-01,  ..., -1.6836e-01,\n",
       "          1.6765e-01,  7.2636e-02],\n",
       "        [-4.8215e-02, -1.0000e-01,  5.1581e-02,  ...,  1.0398e-01,\n",
       "         -4.0650e-02, -1.0929e-01],\n",
       "        ...,\n",
       "        [ 1.2423e-01,  1.0456e-01, -9.5176e-02,  ..., -3.4136e-04,\n",
       "         -1.4016e-03,  5.1257e-02],\n",
       "        [-4.3595e-02, -3.4165e-01, -4.1758e-02,  ...,  1.9651e-01,\n",
       "          9.9460e-02,  1.4404e-01],\n",
       "        [ 1.3602e-02, -3.5640e-02,  1.5026e-01,  ...,  8.1945e-02,\n",
       "          8.8952e-02,  2.5610e-02]], grad_fn=<AddmmBackward>)"
      ]
     },
     "execution_count": 51,
     "metadata": {},
     "output_type": "execute_result"
    }
   ],
   "source": [
    "outputs#çıkış olasılıkları ile"
   ]
  },
  {
   "cell_type": "code",
   "execution_count": 52,
   "metadata": {},
   "outputs": [
    {
     "data": {
      "text/plain": [
       "tensor([9, 2, 9, 4, 4, 7, 1, 0, 4, 9, 9, 3, 0, 8, 5, 2, 7, 4, 9, 6, 2, 3, 9, 7,\n",
       "        4, 9, 8, 4, 9, 4, 4, 0, 1, 4, 2, 8, 6, 1, 8, 2, 2, 1, 7, 3, 2, 6, 9, 3,\n",
       "        9, 5, 2, 4, 6, 5, 5, 4, 4, 7, 5, 9, 7, 1, 5, 2, 5, 4, 8, 7, 0, 6, 9, 3,\n",
       "        6, 8, 3, 1, 7, 1, 1, 1, 6, 6, 6, 4, 3, 4, 1, 1, 3, 0, 3, 2, 7, 3, 1, 6,\n",
       "        3, 4, 4, 1, 6, 7, 0, 3, 8, 2, 3, 3, 7, 8, 4, 4, 9, 2, 7, 2, 9, 1, 5, 1,\n",
       "        9, 1, 2, 6, 7, 4, 6, 4])"
      ]
     },
     "execution_count": 52,
     "metadata": {},
     "output_type": "execute_result"
    }
   ],
   "source": [
    "labels#çıktı tahminlerini cross entropiye yolluyoruz"
   ]
  },
  {
   "cell_type": "markdown",
   "metadata": {},
   "source": [
    "Çapraz entropinin, tüm eğitim örnekleri üzerinde ortalaması alınan doğru etiketin tahmin edilen olasılığının negatif logaritması olduğunu biliyoruz. Bu nedenle, ortaya çıkan sayıyı yorumlamanın bir yolu, ör. 2.23, ortalama olarak doğru etiketin tahmin edilen olasılığı 0.1 civarında olan e ~ -2.23'e bakın. Kayıp ne kadar düşükse, model o kadar iyi."
   ]
  },
  {
   "cell_type": "markdown",
   "metadata": {},
   "source": [
    "## Training the model"
   ]
  },
  {
   "cell_type": "markdown",
   "metadata": {},
   "source": [
    "Veri yükleyicileri, modeli, kayıp fonksiyonunu ve optimize ediciyi tanımladığımıza göre, artık modeli eğitmeye hazırız. Eğitim süreci, her epochta modeli değerlendirmek için bir 'doğrulama aşaması' eklenmesiyle doğrusal regresyonla aynıdır. Sözde kodda şöyle görünüyor:"
   ]
  },
  {
   "cell_type": "markdown",
   "metadata": {},
   "source": [
    "for epoch in range(num_epochs):\n",
    "    # Training phase\n",
    "    for batch in train_loader:\n",
    "        # Generate predictions\n",
    "        # Calculate loss\n",
    "        # Compute gradients\n",
    "        # Update weights\n",
    "        # Reset gradients\n",
    "    \n",
    "    # Validation phase\n",
    "    for batch in val_loader:\n",
    "        # Generate predictions\n",
    "        # Calculate loss\n",
    "        # Calculate metrics (accuracy etc.)\n",
    "    # Calculate average validation loss & metrics\n",
    "    \n",
    "    # Log epoch, loss & metrics for inspection"
   ]
  },
  {
   "cell_type": "markdown",
   "metadata": {},
   "source": [
    "Eğitim döngüsünün bazı bölümleri, çözdüğümüz belirli soruna özeldir (örneğin, kayıp işlevi, ölçüler vb.), Diğerleri geneldir ve herhangi bir derin öğrenme problemine uygulanabilir. Sorundan bağımsız parçaları, modeli eğitmek için kullanılacak olan fit adlı bir işleve dahil edeceğiz. Soruna özgü parçalar, nn.Module sınıfına yeni yöntemler eklenerek uygulanacaktır."
   ]
  },
  {
   "cell_type": "code",
   "execution_count": 53,
   "metadata": {},
   "outputs": [],
   "source": [
    "def fit(epochs, lr, model, train_loader, validation_loader, opt_func = torch.optim.SGD):\n",
    "    optimizer = opt_func(model.parameters(), lr)#optimizsayon neye yapılır ? weight ve bias'a    lr ne ? öğrenme katsayısı(learning rate)\n",
    "    history = [] #epochlara göre sonuçları kaydetmek için\n",
    "    for epoch in range(epochs):\n",
    "        #iterasyon\n",
    "        #train\n",
    "        for batch in train_loader:\n",
    "            loss = model.training_step(batch)\n",
    "            loss.backward()#gradyan hesabı için\n",
    "            optimizer.step()#weigth ve bias güncelleme\n",
    "            optimizer.zero_grad()#her döngüde graadyan temizleme\n",
    "        \n",
    "        #validation\n",
    "        result = evaluate(model, valid_loader)\n",
    "        model.epoch_end(epoch, result)\n",
    "        history.append(result)\n",
    "    \n",
    "    return history"
   ]
  },
  {
   "cell_type": "code",
   "execution_count": 54,
   "metadata": {},
   "outputs": [],
   "source": [
    "def evaluate(model, val_loader):\n",
    "    outputs = [model.validation_step(batch) for batch in val_loader]\n",
    "    return model.validation_epoch_end(outputs)"
   ]
  },
  {
   "cell_type": "code",
   "execution_count": 55,
   "metadata": {},
   "outputs": [],
   "source": [
    "class MnistModel(nn.Module):\n",
    "    def __init__(self):\n",
    "        super().__init__()\n",
    "        self.linear = nn.Linear(input_size, num_classes)\n",
    "        \n",
    "    def forward(self, xb):\n",
    "        xb = xb.reshape(-1, 784)\n",
    "        out = self.linear(xb)\n",
    "        return out\n",
    "    \n",
    "    def training_step(self, batch):\n",
    "        images, labels = batch\n",
    "        out = self(images)   \n",
    "        loss = F.cross_entropy(out, labels)\n",
    "        return loss\n",
    "    \n",
    "    def validation_step(self, batch):\n",
    "        images, labels = batch\n",
    "        out = self(images)\n",
    "        loss = F.cross_entropy(out, labels)\n",
    "        acc = accurcy(out, labels)\n",
    "        return {'val_loss': loss, 'val_acc': acc}\n",
    "        \n",
    "    def validation_epoch_end(self, outputs):\n",
    "        batch_losses = [x['val_loss'] for x in outputs]\n",
    "        epoch_loss = torch.stack(batch_losses).mean()\n",
    "        batch_accs = [x['val_acc'] for x in outputs]\n",
    "        epoch_acc = torch.stack(batch_accs).mean() \n",
    "        return {'val_loss': epoch_loss.item(), 'val_acc': epoch_acc.item()}\n",
    "    \n",
    "    def epoch_end(self, epoch, result):\n",
    "        print(\"Epoch [{}], val_loss: {:.4f}, val_acc: {:.4f}\".format(epoch, result['val_loss'], result['val_acc']))"
   ]
  },
  {
   "cell_type": "code",
   "execution_count": 56,
   "metadata": {},
   "outputs": [],
   "source": [
    "model = MnistModel()"
   ]
  },
  {
   "cell_type": "code",
   "execution_count": 57,
   "metadata": {},
   "outputs": [
    {
     "data": {
      "text/plain": [
       "{'val_loss': 2.350987195968628, 'val_acc': 0.06665348261594772}"
      ]
     },
     "execution_count": 57,
     "metadata": {},
     "output_type": "execute_result"
    }
   ],
   "source": [
    "result0 = evaluate(model, valid_loader)  #başlangıçtaki başarı oranı ölçelim\n",
    "result0"
   ]
  },
  {
   "cell_type": "code",
   "execution_count": 58,
   "metadata": {},
   "outputs": [
    {
     "name": "stdout",
     "output_type": "stream",
     "text": [
      "Epoch [0], val_loss: 1.9777, val_acc: 0.6001\n",
      "Epoch [1], val_loss: 1.7023, val_acc: 0.7284\n",
      "Epoch [2], val_loss: 1.4959, val_acc: 0.7680\n",
      "Epoch [3], val_loss: 1.3398, val_acc: 0.7889\n",
      "Epoch [4], val_loss: 1.2200, val_acc: 0.8020\n"
     ]
    },
    {
     "data": {
      "text/plain": [
       "[{'val_loss': 1.9776785373687744, 'val_acc': 0.6000791192054749},\n",
       " {'val_loss': 1.7023166418075562, 'val_acc': 0.7284414768218994},\n",
       " {'val_loss': 1.4958592653274536, 'val_acc': 0.7679983973503113},\n",
       " {'val_loss': 1.339843511581421, 'val_acc': 0.7888647317886353},\n",
       " {'val_loss': 1.219976544380188, 'val_acc': 0.8020173907279968}]"
      ]
     },
     "execution_count": 58,
     "metadata": {},
     "output_type": "execute_result"
    }
   ],
   "source": [
    "history1 = fit(5, 0.001, model, train_loader, valid_loader) \n",
    "history1#return result bizim evanın son halidir"
   ]
  },
  {
   "cell_type": "code",
   "execution_count": 59,
   "metadata": {},
   "outputs": [
    {
     "name": "stdout",
     "output_type": "stream",
     "text": [
      "Epoch [0], val_loss: 1.1702, val_acc: 0.8072\n",
      "Epoch [1], val_loss: 1.1259, val_acc: 0.8123\n",
      "Epoch [2], val_loss: 1.0863, val_acc: 0.8156\n",
      "Epoch [3], val_loss: 1.0506, val_acc: 0.8205\n",
      "Epoch [4], val_loss: 1.0184, val_acc: 0.8235\n"
     ]
    }
   ],
   "source": [
    "history2 = fit(5, 0.0005, model, train_loader, valid_loader)"
   ]
  },
  {
   "cell_type": "code",
   "execution_count": 60,
   "metadata": {},
   "outputs": [
    {
     "name": "stdout",
     "output_type": "stream",
     "text": [
      "Epoch [0], val_loss: 0.9157, val_acc: 0.8331\n",
      "Epoch [1], val_loss: 0.8418, val_acc: 0.8410\n",
      "Epoch [2], val_loss: 0.7860, val_acc: 0.8457\n",
      "Epoch [3], val_loss: 0.7422, val_acc: 0.8498\n",
      "Epoch [4], val_loss: 0.7069, val_acc: 0.8518\n"
     ]
    }
   ],
   "source": [
    "history3 = fit(5, 0.002, model, train_loader, valid_loader)"
   ]
  },
  {
   "cell_type": "code",
   "execution_count": null,
   "metadata": {},
   "outputs": [
    {
     "name": "stdout",
     "output_type": "stream",
     "text": [
      "Epoch [0], val_loss: 0.6916, val_acc: 0.8531\n",
      "Epoch [1], val_loss: 0.6777, val_acc: 0.8544\n"
     ]
    }
   ],
   "source": [
    "history4 = fit(5, 0.001, model, train_loader, valid_loader)"
   ]
  },
  {
   "cell_type": "code",
   "execution_count": null,
   "metadata": {},
   "outputs": [],
   "source": [
    "history = [result0] + history1 + history2 + history3 + history4\n",
    "accuracies = [result['val_acc'] for result in history]\n",
    "plt.plot(accuracies, '-x')\n",
    "plt.xlabel('epoch')\n",
    "plt.ylabel('accuracy')\n",
    "plt.title('Accuracy vs. No. of epochs');"
   ]
  },
  {
   "cell_type": "code",
   "execution_count": null,
   "metadata": {},
   "outputs": [],
   "source": [
    "# Define test dataset\n",
    "test_dataset = MNIST(root='data/', \n",
    "                     train=False,\n",
    "                     transform=transforms.ToTensor())"
   ]
  },
  {
   "cell_type": "code",
   "execution_count": null,
   "metadata": {},
   "outputs": [],
   "source": [
    "img, label = test_dataset[0]\n",
    "plt.imshow(img[0], cmap='gray')\n",
    "print('Shape:', img.shape)\n",
    "print('Label:', label)"
   ]
  },
  {
   "cell_type": "markdown",
   "metadata": {},
   "source": [
    "Img.unsqueeze, 1x28x28 tensörün başlangıcına basitçe başka bir boyut ekleyerek onu 1x1x28x28 tensör haline getirir ve bu, modelin tek bir görüntü içeren bir toplu iş olarak görmesini sağlar. Birkaç resimle deneyelim.(modele 100*1*28*28 şeklinde 100 resim yolladığımızda unsqueeze ile tek bitane yolluyoruz)"
   ]
  },
  {
   "cell_type": "code",
   "execution_count": null,
   "metadata": {},
   "outputs": [],
   "source": [
    "def predict_image(img, model):\n",
    "    xb = img.unsqueeze(0)\n",
    "    yb = model(xb)\n",
    "    _, preds = torch.max(yb, dim=1)\n",
    "    return preds[0].item()"
   ]
  },
  {
   "cell_type": "code",
   "execution_count": null,
   "metadata": {},
   "outputs": [],
   "source": [
    "img, label = test_dataset[7]\n",
    "plt.imshow(img[0], cmap='gray')\n",
    "print('Label:', label, ', Predicted:', predict_image(img, model))"
   ]
  },
  {
   "cell_type": "code",
   "execution_count": null,
   "metadata": {},
   "outputs": [],
   "source": [
    "img, label = test_dataset[10]\n",
    "plt.imshow(img[0], cmap='gray')\n",
    "print('Label:', label, ', Predicted:', predict_image(img, model))"
   ]
  },
  {
   "cell_type": "code",
   "execution_count": null,
   "metadata": {},
   "outputs": [],
   "source": [
    "img, label = test_dataset[193]\n",
    "plt.imshow(img[0], cmap='gray')\n",
    "print('Label:', label, ', Predicted:', predict_image(img, model))"
   ]
  },
  {
   "cell_type": "code",
   "execution_count": null,
   "metadata": {},
   "outputs": [],
   "source": [
    "test_loader = DataLoader(test_dataset, batch_size = 256)"
   ]
  },
  {
   "cell_type": "code",
   "execution_count": null,
   "metadata": {},
   "outputs": [],
   "source": [
    "result = evaluate(model, test_loader)"
   ]
  },
  {
   "cell_type": "code",
   "execution_count": null,
   "metadata": {},
   "outputs": [],
   "source": [
    "result"
   ]
  },
  {
   "cell_type": "markdown",
   "metadata": {},
   "source": [
    "## Saving and loading the model"
   ]
  },
  {
   "cell_type": "code",
   "execution_count": null,
   "metadata": {},
   "outputs": [],
   "source": [
    "torch.save(model.state_dict(), 'mnist-logistic.pth')"
   ]
  },
  {
   "cell_type": "markdown",
   "metadata": {},
   "source": [
    ".State_dict yöntemi, modelin doğru özniteliklerine eşlenen tüm ağırlıkları ve sapma matrislerini içeren bir OrderedDict döndürür."
   ]
  },
  {
   "cell_type": "code",
   "execution_count": null,
   "metadata": {},
   "outputs": [],
   "source": [
    "model.state_dict()#model için en son halinin hipermetrikleri tutmaktadır"
   ]
  },
  {
   "cell_type": "code",
   "execution_count": null,
   "metadata": {},
   "outputs": [],
   "source": [
    "model2 = MnistModel()"
   ]
  },
  {
   "cell_type": "code",
   "execution_count": null,
   "metadata": {},
   "outputs": [],
   "source": [
    "evaluate(model2, test_loader)"
   ]
  },
  {
   "cell_type": "code",
   "execution_count": null,
   "metadata": {},
   "outputs": [],
   "source": [
    "model2.load_state_dict(torch.load('mnist-logistic.pth'))"
   ]
  },
  {
   "cell_type": "code",
   "execution_count": null,
   "metadata": {},
   "outputs": [],
   "source": [
    "test_loader = DataLoader(test_dataset, batch_size = 256)"
   ]
  },
  {
   "cell_type": "code",
   "execution_count": null,
   "metadata": {},
   "outputs": [],
   "source": [
    "evaluate(model, test_loader)"
   ]
  },
  {
   "cell_type": "code",
   "execution_count": null,
   "metadata": {},
   "outputs": [],
   "source": [
    "import jovian\n",
    "jovian.commit(project='03-logistic-regression-live')"
   ]
  },
  {
   "cell_type": "code",
   "execution_count": null,
   "metadata": {},
   "outputs": [],
   "source": [
    "jovian.log_metrics(val_acc=history[-1]['val_acc'], val_loss=history[-1]['val_loss'])\n"
   ]
  }
 ],
 "metadata": {
  "language_info": {
   "codemirror_mode": {
    "name": "ipython",
    "version": 3
   },
   "file_extension": ".py",
   "mimetype": "text/x-python",
   "name": "python",
   "nbconvert_exporter": "python",
   "pygments_lexer": "ipython3",
   "version": "3.7.6"
  }
 },
 "nbformat": 4,
 "nbformat_minor": 4
}